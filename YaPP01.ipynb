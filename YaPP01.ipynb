{
 "cells": [
  {
   "cell_type": "markdown",
   "metadata": {},
   "source": [
    "# Исследование надёжности заёмщиков\n",
    "\n",
    "Заказчик — кредитный отдел банка. Нужно разобраться, влияет ли семейное положение и количество детей клиента на факт погашения кредита в срок. Входные данные от банка — статистика о платёжеспособности клиентов.\n",
    "\n",
    "Результаты исследования будут учтены при построении модели **кредитного скоринга** — специальной системы, которая оценивает способность потенциального заёмщика вернуть кредит банку."
   ]
  },
  {
   "cell_type": "markdown",
   "metadata": {},
   "source": [
    "## Шаг 1. Получение общей информации о файле"
   ]
  },
  {
   "cell_type": "code",
   "execution_count": 1,
   "metadata": {},
   "outputs": [
    {
     "name": "stdout",
     "output_type": "stream",
     "text": [
      "<class 'pandas.core.frame.DataFrame'>\n",
      "RangeIndex: 21525 entries, 0 to 21524\n",
      "Data columns (total 12 columns):\n",
      "children            21525 non-null int64\n",
      "days_employed       19351 non-null float64\n",
      "dob_years           21525 non-null int64\n",
      "education           21525 non-null object\n",
      "education_id        21525 non-null int64\n",
      "family_status       21525 non-null object\n",
      "family_status_id    21525 non-null int64\n",
      "gender              21525 non-null object\n",
      "income_type         21525 non-null object\n",
      "debt                21525 non-null int64\n",
      "total_income        19351 non-null float64\n",
      "purpose             21525 non-null object\n",
      "dtypes: float64(2), int64(5), object(5)\n",
      "memory usage: 2.0+ MB\n",
      "\n"
     ]
    },
    {
     "data": {
      "text/html": [
       "<div>\n",
       "<style scoped>\n",
       "    .dataframe tbody tr th:only-of-type {\n",
       "        vertical-align: middle;\n",
       "    }\n",
       "\n",
       "    .dataframe tbody tr th {\n",
       "        vertical-align: top;\n",
       "    }\n",
       "\n",
       "    .dataframe thead th {\n",
       "        text-align: right;\n",
       "    }\n",
       "</style>\n",
       "<table border=\"1\" class=\"dataframe\">\n",
       "  <thead>\n",
       "    <tr style=\"text-align: right;\">\n",
       "      <th></th>\n",
       "      <th>children</th>\n",
       "      <th>days_employed</th>\n",
       "      <th>dob_years</th>\n",
       "      <th>education</th>\n",
       "      <th>education_id</th>\n",
       "      <th>family_status</th>\n",
       "      <th>family_status_id</th>\n",
       "      <th>gender</th>\n",
       "      <th>income_type</th>\n",
       "      <th>debt</th>\n",
       "      <th>total_income</th>\n",
       "      <th>purpose</th>\n",
       "    </tr>\n",
       "  </thead>\n",
       "  <tbody>\n",
       "    <tr>\n",
       "      <td>0</td>\n",
       "      <td>1</td>\n",
       "      <td>-8437.673028</td>\n",
       "      <td>42</td>\n",
       "      <td>высшее</td>\n",
       "      <td>0</td>\n",
       "      <td>женат / замужем</td>\n",
       "      <td>0</td>\n",
       "      <td>F</td>\n",
       "      <td>сотрудник</td>\n",
       "      <td>0</td>\n",
       "      <td>253875.639453</td>\n",
       "      <td>покупка жилья</td>\n",
       "    </tr>\n",
       "    <tr>\n",
       "      <td>1</td>\n",
       "      <td>1</td>\n",
       "      <td>-4024.803754</td>\n",
       "      <td>36</td>\n",
       "      <td>среднее</td>\n",
       "      <td>1</td>\n",
       "      <td>женат / замужем</td>\n",
       "      <td>0</td>\n",
       "      <td>F</td>\n",
       "      <td>сотрудник</td>\n",
       "      <td>0</td>\n",
       "      <td>112080.014102</td>\n",
       "      <td>приобретение автомобиля</td>\n",
       "    </tr>\n",
       "    <tr>\n",
       "      <td>2</td>\n",
       "      <td>0</td>\n",
       "      <td>-5623.422610</td>\n",
       "      <td>33</td>\n",
       "      <td>Среднее</td>\n",
       "      <td>1</td>\n",
       "      <td>женат / замужем</td>\n",
       "      <td>0</td>\n",
       "      <td>M</td>\n",
       "      <td>сотрудник</td>\n",
       "      <td>0</td>\n",
       "      <td>145885.952297</td>\n",
       "      <td>покупка жилья</td>\n",
       "    </tr>\n",
       "    <tr>\n",
       "      <td>3</td>\n",
       "      <td>3</td>\n",
       "      <td>-4124.747207</td>\n",
       "      <td>32</td>\n",
       "      <td>среднее</td>\n",
       "      <td>1</td>\n",
       "      <td>женат / замужем</td>\n",
       "      <td>0</td>\n",
       "      <td>M</td>\n",
       "      <td>сотрудник</td>\n",
       "      <td>0</td>\n",
       "      <td>267628.550329</td>\n",
       "      <td>дополнительное образование</td>\n",
       "    </tr>\n",
       "    <tr>\n",
       "      <td>4</td>\n",
       "      <td>0</td>\n",
       "      <td>340266.072047</td>\n",
       "      <td>53</td>\n",
       "      <td>среднее</td>\n",
       "      <td>1</td>\n",
       "      <td>гражданский брак</td>\n",
       "      <td>1</td>\n",
       "      <td>F</td>\n",
       "      <td>пенсионер</td>\n",
       "      <td>0</td>\n",
       "      <td>158616.077870</td>\n",
       "      <td>сыграть свадьбу</td>\n",
       "    </tr>\n",
       "    <tr>\n",
       "      <td>5</td>\n",
       "      <td>0</td>\n",
       "      <td>-926.185831</td>\n",
       "      <td>27</td>\n",
       "      <td>высшее</td>\n",
       "      <td>0</td>\n",
       "      <td>гражданский брак</td>\n",
       "      <td>1</td>\n",
       "      <td>M</td>\n",
       "      <td>компаньон</td>\n",
       "      <td>0</td>\n",
       "      <td>255763.565419</td>\n",
       "      <td>покупка жилья</td>\n",
       "    </tr>\n",
       "    <tr>\n",
       "      <td>6</td>\n",
       "      <td>0</td>\n",
       "      <td>-2879.202052</td>\n",
       "      <td>43</td>\n",
       "      <td>высшее</td>\n",
       "      <td>0</td>\n",
       "      <td>женат / замужем</td>\n",
       "      <td>0</td>\n",
       "      <td>F</td>\n",
       "      <td>компаньон</td>\n",
       "      <td>0</td>\n",
       "      <td>240525.971920</td>\n",
       "      <td>операции с жильем</td>\n",
       "    </tr>\n",
       "    <tr>\n",
       "      <td>7</td>\n",
       "      <td>0</td>\n",
       "      <td>-152.779569</td>\n",
       "      <td>50</td>\n",
       "      <td>СРЕДНЕЕ</td>\n",
       "      <td>1</td>\n",
       "      <td>женат / замужем</td>\n",
       "      <td>0</td>\n",
       "      <td>M</td>\n",
       "      <td>сотрудник</td>\n",
       "      <td>0</td>\n",
       "      <td>135823.934197</td>\n",
       "      <td>образование</td>\n",
       "    </tr>\n",
       "    <tr>\n",
       "      <td>8</td>\n",
       "      <td>2</td>\n",
       "      <td>-6929.865299</td>\n",
       "      <td>35</td>\n",
       "      <td>ВЫСШЕЕ</td>\n",
       "      <td>0</td>\n",
       "      <td>гражданский брак</td>\n",
       "      <td>1</td>\n",
       "      <td>F</td>\n",
       "      <td>сотрудник</td>\n",
       "      <td>0</td>\n",
       "      <td>95856.832424</td>\n",
       "      <td>на проведение свадьбы</td>\n",
       "    </tr>\n",
       "    <tr>\n",
       "      <td>9</td>\n",
       "      <td>0</td>\n",
       "      <td>-2188.756445</td>\n",
       "      <td>41</td>\n",
       "      <td>среднее</td>\n",
       "      <td>1</td>\n",
       "      <td>женат / замужем</td>\n",
       "      <td>0</td>\n",
       "      <td>M</td>\n",
       "      <td>сотрудник</td>\n",
       "      <td>0</td>\n",
       "      <td>144425.938277</td>\n",
       "      <td>покупка жилья для семьи</td>\n",
       "    </tr>\n",
       "  </tbody>\n",
       "</table>\n",
       "</div>"
      ],
      "text/plain": [
       "   children  days_employed  dob_years education  education_id  \\\n",
       "0         1   -8437.673028         42    высшее             0   \n",
       "1         1   -4024.803754         36   среднее             1   \n",
       "2         0   -5623.422610         33   Среднее             1   \n",
       "3         3   -4124.747207         32   среднее             1   \n",
       "4         0  340266.072047         53   среднее             1   \n",
       "5         0    -926.185831         27    высшее             0   \n",
       "6         0   -2879.202052         43    высшее             0   \n",
       "7         0    -152.779569         50   СРЕДНЕЕ             1   \n",
       "8         2   -6929.865299         35    ВЫСШЕЕ             0   \n",
       "9         0   -2188.756445         41   среднее             1   \n",
       "\n",
       "      family_status  family_status_id gender income_type  debt   total_income  \\\n",
       "0   женат / замужем                 0      F   сотрудник     0  253875.639453   \n",
       "1   женат / замужем                 0      F   сотрудник     0  112080.014102   \n",
       "2   женат / замужем                 0      M   сотрудник     0  145885.952297   \n",
       "3   женат / замужем                 0      M   сотрудник     0  267628.550329   \n",
       "4  гражданский брак                 1      F   пенсионер     0  158616.077870   \n",
       "5  гражданский брак                 1      M   компаньон     0  255763.565419   \n",
       "6   женат / замужем                 0      F   компаньон     0  240525.971920   \n",
       "7   женат / замужем                 0      M   сотрудник     0  135823.934197   \n",
       "8  гражданский брак                 1      F   сотрудник     0   95856.832424   \n",
       "9   женат / замужем                 0      M   сотрудник     0  144425.938277   \n",
       "\n",
       "                      purpose  \n",
       "0               покупка жилья  \n",
       "1     приобретение автомобиля  \n",
       "2               покупка жилья  \n",
       "3  дополнительное образование  \n",
       "4             сыграть свадьбу  \n",
       "5               покупка жилья  \n",
       "6           операции с жильем  \n",
       "7                 образование  \n",
       "8       на проведение свадьбы  \n",
       "9     покупка жилья для семьи  "
      ]
     },
     "metadata": {},
     "output_type": "display_data"
    }
   ],
   "source": [
    "# загружаем и читаем файл в формате csv\n",
    "import pandas as pd\n",
    "data=pd.read_csv(\"/datasets/data.csv\")\n",
    "\n",
    "# получаем статистическую информацию о файле\n",
    "# выводим первые 10 строк\n",
    "data.info()\n",
    "print()\n",
    "display(data.head(10))\n"
   ]
  },
  {
   "cell_type": "markdown",
   "metadata": {},
   "source": [
    "**Вывод**\n",
    "\n",
    "Файл *data* для обработки и анализа содержит:\n",
    "* 21 525 строк\n",
    "* 12     колонок\n",
    "\n",
    "\n",
    "Тип данных в колонках (2) => **float64**:\n",
    "* *days_employed / общий трудовой стаж в днях*\n",
    "* *total_income / ежемесячный доход*\n",
    "\n",
    "Тип данных в колонках (5) => **int64**:\n",
    "* *children / кол-во детей в семье*\n",
    "* *dob_years / возраст клиента в годах*\n",
    "* *education_id / идентификатор уровня образования*\n",
    "* *family_status_id / идентификатор семейного положения*\n",
    "* *debt / имел ли задолженность по возврату кредитов*\n",
    "\n",
    "Тип данных в колонках (5) => **object**:\n",
    "* *education / уровень образования клиента*\n",
    "* *family_status / семейное положение*\n",
    "* *gender / пол клиента*\n",
    "* *income_type / тип занятости*\n",
    "* *purpose / цель получения кредита*\n",
    "\n",
    "Предоставленные данные предварительно оцениваются как достаточные для ответов на вопрос:\n",
    ">влияет ли семейное положение и количество детей клиента на факт погашения кредита в срок.\n",
    "\n",
    "На этапе предобработки данных необходимо:\n",
    "\n",
    "**уделить внимание:**\n",
    "* пропуски (2 174) в колонках *days_employed* и *total_income*\n",
    "* тип данных float64 в колонках *days_employed* и *total_income*\n",
    "* смешение верхнего и нижнего регистра в данных типа *object*\n",
    "\n",
    "**проверить качество данных в колонках:**\n",
    "* children / кол-во детей в семье\n",
    "* family_status / семейное положение\n",
    "* debt / имел ли задолженность по возврату кредитов\n",
    "* total_income / ежемесячный доход\n",
    "* purpose / цель получения кредита\n",
    "\n",
    "т.к. эти данные будут в фокусе анализа и потребуются для формирования выводов.\n"
   ]
  },
  {
   "cell_type": "markdown",
   "metadata": {},
   "source": [
    "## Шаг 2. Предобработка данных"
   ]
  },
  {
   "cell_type": "markdown",
   "metadata": {},
   "source": [
    "### Обработка пропусков"
   ]
  },
  {
   "cell_type": "code",
   "execution_count": 49,
   "metadata": {},
   "outputs": [
    {
     "name": "stdout",
     "output_type": "stream",
     "text": [
      "Количество строк в колонках с пропусками до обработки:\n",
      "children               0\n",
      "days_employed       2174\n",
      "dob_years              0\n",
      "education              0\n",
      "education_id           0\n",
      "family_status          0\n",
      "family_status_id       0\n",
      "gender                 0\n",
      "income_type            0\n",
      "debt                   0\n",
      "total_income        2174\n",
      "purpose                0\n",
      "dtype: int64\n",
      "\n",
      "Количество строк в колонке days_employed с пропусками после обработки:\n",
      "children               0\n",
      "days_employed          0\n",
      "dob_years              0\n",
      "education              0\n",
      "education_id           0\n",
      "family_status          0\n",
      "family_status_id       0\n",
      "gender                 0\n",
      "income_type            0\n",
      "debt                   0\n",
      "total_income        2174\n",
      "purpose                0\n",
      "dtype: int64\n",
      "\n",
      "Медианный доход в подгруппах типов доходов:\n",
      "income_type\n",
      "безработный        131339.751676\n",
      "в декрете           53829.130729\n",
      "госслужащий        150447.935283\n",
      "компаньон          172357.950966\n",
      "пенсионер          118514.486412\n",
      "предприниматель    499163.144947\n",
      "сотрудник          142594.396847\n",
      "студент             98201.625314\n",
      "Name: total_income, dtype: float64\n",
      "\n",
      "Значение минимального дохода после обработки и замены:\n",
      "20667.26379327158\n",
      "\n",
      "Количество строк в колонках с пропусками после обработки:\n",
      "children            0\n",
      "days_employed       0\n",
      "dob_years           0\n",
      "education           0\n",
      "education_id        0\n",
      "family_status       0\n",
      "family_status_id    0\n",
      "gender              0\n",
      "income_type         0\n",
      "debt                0\n",
      "total_income        0\n",
      "purpose             0\n",
      "dtype: int64\n",
      "\n",
      "Данные колонки children до обработки:\n",
      " 0     14149\n",
      " 1      4818\n",
      " 2      2055\n",
      " 3       330\n",
      " 20       76\n",
      "-1        47\n",
      " 4        41\n",
      " 5         9\n",
      "Name: children, dtype: int64\n",
      "\n",
      "Количество записей со значением -1 детей после обработки:\n",
      "0\n",
      "\n",
      "Среднее количество детей в подгруппах семейного статуса:\n",
      "                       children\n",
      "family_status                  \n",
      "Не женат / не замужем  0.288304\n",
      "в разводе              0.461088\n",
      "вдовец / вдова         0.228125\n",
      "гражданский брак       0.511372\n",
      "женат / замужем        0.640549\n",
      "\n",
      "Количество записей со значением 20 детей после обработки:\n",
      "0\n",
      "\n",
      "Данные колонки children после обработки:\n",
      "0    14196\n",
      "1     4894\n",
      "2     2055\n",
      "3      330\n",
      "4       41\n",
      "5        9\n",
      "Name: children, dtype: int64\n",
      "\n",
      "Данные колонки family_status:\n",
      "женат / замужем          12380\n",
      "гражданский брак          4177\n",
      "Не женат / не замужем     2813\n",
      "в разводе                 1195\n",
      "вдовец / вдова             960\n",
      "Name: family_status, dtype: int64\n",
      "\n",
      "Данные колонки debt:\n",
      "0    19784\n",
      "1     1741\n",
      "Name: debt, dtype: int64\n",
      "\n",
      "Данные колонки total_income:\n",
      "Максимальный доход: 2265604\n",
      "Минимальный доход: 20667\n",
      "\n"
     ]
    }
   ],
   "source": [
    "# определяем наличие и количество пропущенных значений в таблице,\n",
    "# сохраняем результат в переменную, выводим результ\n",
    "data_null = data.isna().sum()\n",
    "print(\"Количество строк в колонках с пропусками до обработки:\")\n",
    "print(data_null)\n",
    "print()\n",
    "\n",
    "# заполняем пропущенные значения в колонке days_employed значением \"0\"\n",
    "data[\"days_employed\"] = data[\"days_employed\"].fillna(0)\n",
    "\n",
    "# проверяем результат замены\n",
    "print(\"Количество строк в колонке days_employed с пропусками после обработки:\")\n",
    "print(data.isna().sum())\n",
    "print()\n",
    "\n",
    "# вычисляем медианный доход в подгруппах колонки income_type\n",
    "# выводим таблицу медианных доходов по типам дохода\n",
    "median_income = data.groupby(\"income_type\")[\"total_income\"].median()\n",
    "print(\"Медианный доход в подгруппах типов доходов:\")\n",
    "print(median_income)\n",
    "print()\n",
    "\n",
    "# заменяем значение 0 в колонке total_income в зависимости от типа доходов\n",
    "# проверяем результат замены, выводим значение минимального дохода\n",
    "for inc_type in median_income.index:\n",
    "    data.loc[data['income_type'] == inc_type,'total_income'] = data.loc[data['income_type'] == inc_type,'total_income'].fillna(median_income[inc_type])\n",
    "    \n",
    "print(\"Значение минимального дохода после обработки и замены:\")\n",
    "print(data[\"total_income\"].min())\n",
    "print()\n",
    "print(\"Количество строк в колонках с пропусками после обработки:\")\n",
    "print(data.isna().sum())\n",
    "print()\n",
    "\n",
    "# проверяем структуру данных колонки children\n",
    "print(\"Данные колонки children до обработки:\")\n",
    "children_value = data[\"children\"].value_counts()\n",
    "print(children_value)\n",
    "print()\n",
    "\n",
    "# производим замену -1 на 0,\n",
    "# проводим проверку замены\n",
    "data[\"children\"] = data[\"children\"].replace(-1, 0)\n",
    "children_minus1_count = data.loc[data.loc[:, \"children\"] == -1][\"children\"].count()\n",
    "print(\"Количество записей со значением -1 детей после обработки:\")\n",
    "print(children_minus1_count)\n",
    "print()\n",
    "\n",
    "# определяем среднее значение количества детей в каждой подгруппе семейного статуса,\n",
    "children_pivot = data.pivot_table(index = [\"family_status\"], values = \"children\", aggfunc = \"mean\")\n",
    "print(\"Среднее количество детей в подгруппах семейного статуса:\")\n",
    "print(children_pivot)\n",
    "print()\n",
    "\n",
    "# производим замену 20 на 1,\n",
    "# проводим проверку замены\n",
    "data[\"children\"] = data[\"children\"].replace(20, 1)\n",
    "children_20_count = data.loc[data.loc[:, \"children\"] == 20][\"children\"].count()\n",
    "print(\"Количество записей со значением 20 детей после обработки:\")\n",
    "print(children_20_count)\n",
    "print()\n",
    "\n",
    "# проверяем данные колонки children\n",
    "print(\"Данные колонки children после обработки:\")\n",
    "print(data[\"children\"].value_counts())\n",
    "print()\n",
    "\n",
    "# проверяем качество данных колонки family_status\n",
    "print(\"Данные колонки family_status:\")\n",
    "print(data[\"family_status\"].value_counts())\n",
    "print()\n",
    "\n",
    "# проверяем качество данных колонки debt\n",
    "print(\"Данные колонки debt:\")\n",
    "print(data[\"debt\"].value_counts())\n",
    "print()\n",
    "\n",
    "# проверяем качество данных колонки total_income\n",
    "print(\"Данные колонки total_income:\")\n",
    "totinc_max = data[\"total_income\"].max()\n",
    "totinc_min = data[\"total_income\"].min()\n",
    "print(\"Максимальный доход: {:.0f}\".format(totinc_max))\n",
    "print(\"Минимальный доход: {:.0f}\".format(totinc_min))\n",
    "print()\n"
   ]
  },
  {
   "cell_type": "markdown",
   "metadata": {},
   "source": [
    "**Вывод**\n",
    "\n",
    "В данных было выявлено **2 174** пропущенных значения в колонках:\n",
    "* *days_employed*\n",
    "* *total_income*\n",
    "\n",
    "что составляет **10%** от общего количества записей и не позволяет проигнорировать - удалить строки, содержащие их.\n",
    "\n",
    "Информация о трудовом стаже напрямую не связана с поставленной задачей. Принято решение произвести замену пропущенных значений на \"0\" методом fillna.\n",
    "\n",
    "Информация о ежемесячном доходе необходима для формирования выводов и потребовала дальнейшей обработки. Для заполнения отсутствущих данных с использованием метода groupby были рассчитаны медианные значения для каждой группы по типам доходов. Отсутствющие значения были заменены на медианные с помощью цикла по принципу соответствия типа дохода.\n",
    "\n",
    "Учитывая вид пропущенных данных можно предположить, что пропуски вызваны человеческим фактором - непредоставлением достаточного пакета документов со стороны клиента и недостаточным вниманием к этому вопросу со стороны сотрудника банка, оформляющего кредит. В качестве рекомендации можно посоветовать настроить эти поля в CRM банка как обязательные с защитой от преднамеренной ошибки.\n",
    "\n",
    "Также была проведена проверка данных в колонке *children*. Выявлены сомнительные значения с данными *-1* и *20*.\n",
    "* Значение *-1* было заменено на значение *0* методом *replace*\n",
    "* Для замены значений *20* с помощью сводной таблицы были рассчитаны средние значения количества детей в группах семейного статуса. Принято решение заменить *20* на *1*. Замена произведена методом *replace*.\n",
    "\n",
    "Проверка данных в остальных колонках, требующихся для дальнейшего анализа:\n",
    "* family_status\n",
    "* debt\n",
    "* total_income\n",
    "\n",
    "показала удовлетворительный результат."
   ]
  },
  {
   "cell_type": "markdown",
   "metadata": {},
   "source": []
  },
  {
   "cell_type": "markdown",
   "metadata": {},
   "source": [
    "### Замена типа данных"
   ]
  },
  {
   "cell_type": "code",
   "execution_count": 50,
   "metadata": {},
   "outputs": [
    {
     "name": "stdout",
     "output_type": "stream",
     "text": [
      "Типы данных после обработки:\n",
      "\n",
      "<class 'pandas.core.frame.DataFrame'>\n",
      "RangeIndex: 21525 entries, 0 to 21524\n",
      "Data columns (total 12 columns):\n",
      "children            21525 non-null int64\n",
      "days_employed       21525 non-null int64\n",
      "dob_years           21525 non-null int64\n",
      "education           21525 non-null object\n",
      "education_id        21525 non-null int64\n",
      "family_status       21525 non-null object\n",
      "family_status_id    21525 non-null int64\n",
      "gender              21525 non-null object\n",
      "income_type         21525 non-null object\n",
      "debt                21525 non-null int64\n",
      "total_income        21525 non-null int64\n",
      "purpose             21525 non-null object\n",
      "dtypes: int64(7), object(5)\n",
      "memory usage: 2.0+ MB\n",
      "\n"
     ]
    }
   ],
   "source": [
    "# производим замену типа данных float64 в тип int64 в колонках \"days_employed\" и \"total_income\"\n",
    "data[\"days_employed\"] = data[\"days_employed\"].astype(\"int\")\n",
    "data[\"total_income\"] = data[\"total_income\"].astype(\"int\")\n",
    "\n",
    "# проверяем результат замены\n",
    "print(\"Типы данных после обработки:\")\n",
    "print()\n",
    "data.info()\n",
    "print()\n"
   ]
  },
  {
   "cell_type": "markdown",
   "metadata": {},
   "source": [
    "**Вывод**\n",
    "\n",
    "Тип данных *float* был заменен на тип данных *int* c применением метода *astype(\"int\")* в колонках *days_employed* и *total_income*. Данная замена особенно в отношении данных колонки *total_income* необходима для дальнейшего проведения исследований и анализа с использованием различных методов, часть из которых может быть применима только к данным типа *int*.\n",
    "\n",
    "В остальных колонках типы данных оценены как соответствующие для анализа."
   ]
  },
  {
   "cell_type": "markdown",
   "metadata": {},
   "source": [
    "### Обработка дубликатов"
   ]
  },
  {
   "cell_type": "code",
   "execution_count": 51,
   "metadata": {},
   "outputs": [
    {
     "name": "stdout",
     "output_type": "stream",
     "text": [
      "Изменение регистра:\n"
     ]
    },
    {
     "data": {
      "text/html": [
       "<div>\n",
       "<style scoped>\n",
       "    .dataframe tbody tr th:only-of-type {\n",
       "        vertical-align: middle;\n",
       "    }\n",
       "\n",
       "    .dataframe tbody tr th {\n",
       "        vertical-align: top;\n",
       "    }\n",
       "\n",
       "    .dataframe thead th {\n",
       "        text-align: right;\n",
       "    }\n",
       "</style>\n",
       "<table border=\"1\" class=\"dataframe\">\n",
       "  <thead>\n",
       "    <tr style=\"text-align: right;\">\n",
       "      <th></th>\n",
       "      <th>children</th>\n",
       "      <th>days_employed</th>\n",
       "      <th>dob_years</th>\n",
       "      <th>education</th>\n",
       "      <th>education_id</th>\n",
       "      <th>family_status</th>\n",
       "      <th>family_status_id</th>\n",
       "      <th>gender</th>\n",
       "      <th>income_type</th>\n",
       "      <th>debt</th>\n",
       "      <th>total_income</th>\n",
       "      <th>purpose</th>\n",
       "    </tr>\n",
       "  </thead>\n",
       "  <tbody>\n",
       "    <tr>\n",
       "      <td>0</td>\n",
       "      <td>1</td>\n",
       "      <td>-8437</td>\n",
       "      <td>42</td>\n",
       "      <td>высшее</td>\n",
       "      <td>0</td>\n",
       "      <td>женат / замужем</td>\n",
       "      <td>0</td>\n",
       "      <td>f</td>\n",
       "      <td>сотрудник</td>\n",
       "      <td>0</td>\n",
       "      <td>253875</td>\n",
       "      <td>покупка жилья</td>\n",
       "    </tr>\n",
       "    <tr>\n",
       "      <td>1</td>\n",
       "      <td>1</td>\n",
       "      <td>-4024</td>\n",
       "      <td>36</td>\n",
       "      <td>среднее</td>\n",
       "      <td>1</td>\n",
       "      <td>женат / замужем</td>\n",
       "      <td>0</td>\n",
       "      <td>f</td>\n",
       "      <td>сотрудник</td>\n",
       "      <td>0</td>\n",
       "      <td>112080</td>\n",
       "      <td>приобретение автомобиля</td>\n",
       "    </tr>\n",
       "    <tr>\n",
       "      <td>2</td>\n",
       "      <td>0</td>\n",
       "      <td>-5623</td>\n",
       "      <td>33</td>\n",
       "      <td>среднее</td>\n",
       "      <td>1</td>\n",
       "      <td>женат / замужем</td>\n",
       "      <td>0</td>\n",
       "      <td>m</td>\n",
       "      <td>сотрудник</td>\n",
       "      <td>0</td>\n",
       "      <td>145885</td>\n",
       "      <td>покупка жилья</td>\n",
       "    </tr>\n",
       "    <tr>\n",
       "      <td>3</td>\n",
       "      <td>3</td>\n",
       "      <td>-4124</td>\n",
       "      <td>32</td>\n",
       "      <td>среднее</td>\n",
       "      <td>1</td>\n",
       "      <td>женат / замужем</td>\n",
       "      <td>0</td>\n",
       "      <td>m</td>\n",
       "      <td>сотрудник</td>\n",
       "      <td>0</td>\n",
       "      <td>267628</td>\n",
       "      <td>дополнительное образование</td>\n",
       "    </tr>\n",
       "    <tr>\n",
       "      <td>4</td>\n",
       "      <td>0</td>\n",
       "      <td>340266</td>\n",
       "      <td>53</td>\n",
       "      <td>среднее</td>\n",
       "      <td>1</td>\n",
       "      <td>гражданский брак</td>\n",
       "      <td>1</td>\n",
       "      <td>f</td>\n",
       "      <td>пенсионер</td>\n",
       "      <td>0</td>\n",
       "      <td>158616</td>\n",
       "      <td>сыграть свадьбу</td>\n",
       "    </tr>\n",
       "    <tr>\n",
       "      <td>5</td>\n",
       "      <td>0</td>\n",
       "      <td>-926</td>\n",
       "      <td>27</td>\n",
       "      <td>высшее</td>\n",
       "      <td>0</td>\n",
       "      <td>гражданский брак</td>\n",
       "      <td>1</td>\n",
       "      <td>m</td>\n",
       "      <td>компаньон</td>\n",
       "      <td>0</td>\n",
       "      <td>255763</td>\n",
       "      <td>покупка жилья</td>\n",
       "    </tr>\n",
       "    <tr>\n",
       "      <td>6</td>\n",
       "      <td>0</td>\n",
       "      <td>-2879</td>\n",
       "      <td>43</td>\n",
       "      <td>высшее</td>\n",
       "      <td>0</td>\n",
       "      <td>женат / замужем</td>\n",
       "      <td>0</td>\n",
       "      <td>f</td>\n",
       "      <td>компаньон</td>\n",
       "      <td>0</td>\n",
       "      <td>240525</td>\n",
       "      <td>операции с жильем</td>\n",
       "    </tr>\n",
       "    <tr>\n",
       "      <td>7</td>\n",
       "      <td>0</td>\n",
       "      <td>-152</td>\n",
       "      <td>50</td>\n",
       "      <td>среднее</td>\n",
       "      <td>1</td>\n",
       "      <td>женат / замужем</td>\n",
       "      <td>0</td>\n",
       "      <td>m</td>\n",
       "      <td>сотрудник</td>\n",
       "      <td>0</td>\n",
       "      <td>135823</td>\n",
       "      <td>образование</td>\n",
       "    </tr>\n",
       "    <tr>\n",
       "      <td>8</td>\n",
       "      <td>2</td>\n",
       "      <td>-6929</td>\n",
       "      <td>35</td>\n",
       "      <td>высшее</td>\n",
       "      <td>0</td>\n",
       "      <td>гражданский брак</td>\n",
       "      <td>1</td>\n",
       "      <td>f</td>\n",
       "      <td>сотрудник</td>\n",
       "      <td>0</td>\n",
       "      <td>95856</td>\n",
       "      <td>на проведение свадьбы</td>\n",
       "    </tr>\n",
       "    <tr>\n",
       "      <td>9</td>\n",
       "      <td>0</td>\n",
       "      <td>-2188</td>\n",
       "      <td>41</td>\n",
       "      <td>среднее</td>\n",
       "      <td>1</td>\n",
       "      <td>женат / замужем</td>\n",
       "      <td>0</td>\n",
       "      <td>m</td>\n",
       "      <td>сотрудник</td>\n",
       "      <td>0</td>\n",
       "      <td>144425</td>\n",
       "      <td>покупка жилья для семьи</td>\n",
       "    </tr>\n",
       "    <tr>\n",
       "      <td>10</td>\n",
       "      <td>2</td>\n",
       "      <td>-4171</td>\n",
       "      <td>36</td>\n",
       "      <td>высшее</td>\n",
       "      <td>0</td>\n",
       "      <td>женат / замужем</td>\n",
       "      <td>0</td>\n",
       "      <td>m</td>\n",
       "      <td>компаньон</td>\n",
       "      <td>0</td>\n",
       "      <td>113943</td>\n",
       "      <td>покупка недвижимости</td>\n",
       "    </tr>\n",
       "    <tr>\n",
       "      <td>11</td>\n",
       "      <td>0</td>\n",
       "      <td>-792</td>\n",
       "      <td>40</td>\n",
       "      <td>среднее</td>\n",
       "      <td>1</td>\n",
       "      <td>женат / замужем</td>\n",
       "      <td>0</td>\n",
       "      <td>f</td>\n",
       "      <td>сотрудник</td>\n",
       "      <td>0</td>\n",
       "      <td>77069</td>\n",
       "      <td>покупка коммерческой недвижимости</td>\n",
       "    </tr>\n",
       "    <tr>\n",
       "      <td>12</td>\n",
       "      <td>0</td>\n",
       "      <td>0</td>\n",
       "      <td>65</td>\n",
       "      <td>среднее</td>\n",
       "      <td>1</td>\n",
       "      <td>гражданский брак</td>\n",
       "      <td>1</td>\n",
       "      <td>m</td>\n",
       "      <td>пенсионер</td>\n",
       "      <td>0</td>\n",
       "      <td>118514</td>\n",
       "      <td>сыграть свадьбу</td>\n",
       "    </tr>\n",
       "    <tr>\n",
       "      <td>13</td>\n",
       "      <td>0</td>\n",
       "      <td>-1846</td>\n",
       "      <td>54</td>\n",
       "      <td>неоконченное высшее</td>\n",
       "      <td>2</td>\n",
       "      <td>женат / замужем</td>\n",
       "      <td>0</td>\n",
       "      <td>f</td>\n",
       "      <td>сотрудник</td>\n",
       "      <td>0</td>\n",
       "      <td>130458</td>\n",
       "      <td>приобретение автомобиля</td>\n",
       "    </tr>\n",
       "    <tr>\n",
       "      <td>14</td>\n",
       "      <td>0</td>\n",
       "      <td>-1844</td>\n",
       "      <td>56</td>\n",
       "      <td>высшее</td>\n",
       "      <td>0</td>\n",
       "      <td>гражданский брак</td>\n",
       "      <td>1</td>\n",
       "      <td>f</td>\n",
       "      <td>компаньон</td>\n",
       "      <td>1</td>\n",
       "      <td>165127</td>\n",
       "      <td>покупка жилой недвижимости</td>\n",
       "    </tr>\n",
       "  </tbody>\n",
       "</table>\n",
       "</div>"
      ],
      "text/plain": [
       "    children  days_employed  dob_years            education  education_id  \\\n",
       "0          1          -8437         42               высшее             0   \n",
       "1          1          -4024         36              среднее             1   \n",
       "2          0          -5623         33              среднее             1   \n",
       "3          3          -4124         32              среднее             1   \n",
       "4          0         340266         53              среднее             1   \n",
       "5          0           -926         27               высшее             0   \n",
       "6          0          -2879         43               высшее             0   \n",
       "7          0           -152         50              среднее             1   \n",
       "8          2          -6929         35               высшее             0   \n",
       "9          0          -2188         41              среднее             1   \n",
       "10         2          -4171         36               высшее             0   \n",
       "11         0           -792         40              среднее             1   \n",
       "12         0              0         65              среднее             1   \n",
       "13         0          -1846         54  неоконченное высшее             2   \n",
       "14         0          -1844         56               высшее             0   \n",
       "\n",
       "       family_status  family_status_id gender income_type  debt  total_income  \\\n",
       "0    женат / замужем                 0      f   сотрудник     0        253875   \n",
       "1    женат / замужем                 0      f   сотрудник     0        112080   \n",
       "2    женат / замужем                 0      m   сотрудник     0        145885   \n",
       "3    женат / замужем                 0      m   сотрудник     0        267628   \n",
       "4   гражданский брак                 1      f   пенсионер     0        158616   \n",
       "5   гражданский брак                 1      m   компаньон     0        255763   \n",
       "6    женат / замужем                 0      f   компаньон     0        240525   \n",
       "7    женат / замужем                 0      m   сотрудник     0        135823   \n",
       "8   гражданский брак                 1      f   сотрудник     0         95856   \n",
       "9    женат / замужем                 0      m   сотрудник     0        144425   \n",
       "10   женат / замужем                 0      m   компаньон     0        113943   \n",
       "11   женат / замужем                 0      f   сотрудник     0         77069   \n",
       "12  гражданский брак                 1      m   пенсионер     0        118514   \n",
       "13   женат / замужем                 0      f   сотрудник     0        130458   \n",
       "14  гражданский брак                 1      f   компаньон     1        165127   \n",
       "\n",
       "                              purpose  \n",
       "0                       покупка жилья  \n",
       "1             приобретение автомобиля  \n",
       "2                       покупка жилья  \n",
       "3          дополнительное образование  \n",
       "4                     сыграть свадьбу  \n",
       "5                       покупка жилья  \n",
       "6                   операции с жильем  \n",
       "7                         образование  \n",
       "8               на проведение свадьбы  \n",
       "9             покупка жилья для семьи  \n",
       "10               покупка недвижимости  \n",
       "11  покупка коммерческой недвижимости  \n",
       "12                    сыграть свадьбу  \n",
       "13            приобретение автомобиля  \n",
       "14         покупка жилой недвижимости  "
      ]
     },
     "metadata": {},
     "output_type": "display_data"
    },
    {
     "name": "stdout",
     "output_type": "stream",
     "text": [
      "\n"
     ]
    }
   ],
   "source": [
    "# приводим данные типа object к нижнему регистру,\n",
    "# выводим первые 15 строк для проверки\n",
    "data[\"education\"] = data[\"education\"].str.lower()\n",
    "data[\"family_status\"] = data[\"family_status\"].str.lower()\n",
    "data[\"gender\"] = data[\"gender\"].str.lower()\n",
    "data[\"income_type\"] = data[\"income_type\"].str.lower()\n",
    "data[\"purpose\"] = data[\"purpose\"].str.lower()\n",
    "\n",
    "print(\"Изменение регистра:\")\n",
    "display(data.head(15))\n",
    "print()"
   ]
  },
  {
   "cell_type": "code",
   "execution_count": 52,
   "metadata": {},
   "outputs": [
    {
     "name": "stdout",
     "output_type": "stream",
     "text": [
      "Количество явных дубликатов до обработки:\n",
      "71\n",
      "Количество явных дубликатов после обработки:\n",
      "0\n",
      "\n",
      "Количество строк после удаления дубликатов:\n",
      "(21454, 12)\n",
      "\n"
     ]
    }
   ],
   "source": [
    "# проверяем наличие явных дубликатов в данных,\n",
    "# сохраняем результат в переменную, выводим результ\n",
    "data_dupl = data.duplicated().sum()\n",
    "print(\"Количество явных дубликатов до обработки:\")\n",
    "print(data_dupl)\n",
    "\n",
    "# удаляем дубликаты с изменением индексации,\n",
    "# проверяем результат удаления явных дубликатов\n",
    "data = data.drop_duplicates().reset_index(drop = True)\n",
    "print(\"Количество явных дубликатов после обработки:\")\n",
    "print(data.duplicated().sum())\n",
    "print()\n",
    "print(\"Количество строк после удаления дубликатов:\")\n",
    "print(data.shape)\n",
    "print()\n",
    "\n"
   ]
  },
  {
   "cell_type": "markdown",
   "metadata": {},
   "source": [
    "**Вывод**\n",
    "\n",
    "Для приведения данных типа *object* к единому нижнему регистру был применен метод *str.lower()*.\n",
    "\n",
    "После приведения данных к единому нижнему регистру использование метода *data.duplicated().sum()* позволило выявить 71 явный дубликат. Явные дубликаты были удалены методом *data.drop_duplicates().reset_index(drop = True)* с изменением индексов."
   ]
  },
  {
   "cell_type": "markdown",
   "metadata": {},
   "source": [
    "### Лемматизация"
   ]
  },
  {
   "cell_type": "code",
   "execution_count": 53,
   "metadata": {},
   "outputs": [
    {
     "name": "stdout",
     "output_type": "stream",
     "text": [
      "Счетчик лемм:\n",
      "Counter({' ': 55023, 'недвижимость': 6351, 'покупка': 5897, 'жилье': 4460, 'автомобиль': 4306, 'образование': 4013, 'с': 2918, 'операция': 2604, 'свадьба': 2324, 'свой': 2230, 'на': 2222, 'строительство': 1878, 'высокий': 1374, 'получение': 1314, 'коммерческий': 1311, 'для': 1289, 'жилой': 1230, 'сделка': 941, 'дополнительный': 906, 'заниматься': 904, 'подержать': 853, 'проведение': 768, 'сыграть': 765, 'сдача': 651, 'семья': 638, 'собственный': 635, 'со': 627, 'ремонт': 607, 'приобретение': 461, 'профильный': 436, 'подержанный': 111, '\\n': 1})\n",
      "\n"
     ]
    }
   ],
   "source": [
    "# импортируем pymystem3 и лемматизируем колонку purpose\n",
    "from pymystem3 import Mystem\n",
    "from collections import Counter\n",
    "m = Mystem()\n",
    "text = \" \".join(data['purpose'])\n",
    "lemmas = m.lemmatize(text)\n",
    "print(\"Счетчик лемм:\")\n",
    "print(Counter(lemmas))\n",
    "print()\n"
   ]
  },
  {
   "cell_type": "code",
   "execution_count": 54,
   "metadata": {},
   "outputs": [
    {
     "name": "stdout",
     "output_type": "stream",
     "text": [
      "Доля уникальных значений по идентификатору цели:\n",
      "недвижимость_покупка          38.808614\n",
      "автомобиль                    20.070849\n",
      "образование                   18.705137\n",
      "свадьба                       10.832479\n",
      "недвижимость_строительство     8.753612\n",
      "недвижимость_ремонт            2.829309\n",
      "Name: purpose_id, dtype: float64\n",
      "\n",
      "Общее количество записей в колонке идентификатор цели:\n",
      "21454\n"
     ]
    }
   ],
   "source": [
    "# формируем список идентификаторов уникальных целей\n",
    "purpose_id = [\"недвижимость_покупка\", \"недвижимость_строительство\", \"недвижимость_ремонт\", \"автомобиль\", \"образование\", \"свадьба\", \"другое\"]\n",
    "\n",
    "# создаем функцию привязки цели и идентификатора\n",
    "def purpose_id(purpose):\n",
    "       for element in purpose:\n",
    "            if \"недвиж\" in purpose and \"покупк\" in purpose:\n",
    "                return \"недвижимость_покупка\"\n",
    "            elif \"недвиж\" in purpose and \"приобр\" in purpose:\n",
    "                return \"недвижимость_покупка\"\n",
    "            elif \"жил\" in purpose and \"покупк\" in purpose in purpose:\n",
    "                return \"недвижимость_покупка\"\n",
    "            elif \"жил\" in purpose and \"приобр\" in purpose:\n",
    "                return \"недвижимость_покупка\"\n",
    "            elif \"недвиж\" in purpose and \"строитель\" in purpose:\n",
    "                return \"недвижимость_строительство\"\n",
    "            elif \"жил\" in purpose and \"строитель\" in purpose:\n",
    "                return \"недвижимость_строительство\"\n",
    "            elif \"недвиж\" in purpose and \"ремон\" in purpose:\n",
    "                return \"недвижимость_ремонт\"\n",
    "            elif \"жил\" in purpose and \"ремон\" in purpose:\n",
    "                return \"недвижимость_ремонт\"\n",
    "            elif \"недвиж\" in purpose and \"операц\" in purpose:\n",
    "                return \"недвижимость_покупка\"\n",
    "            elif \"жил\" in purpose and \"операц\" in purpose:\n",
    "                return \"недвижимость_покупка\"\n",
    "            elif \"недвиж\" in purpose or \"жил\" in purpose:\n",
    "                return \"недвижимость_покупка\"\n",
    "            elif \"автомоб\" in purpose:    \n",
    "                return \"автомобиль\"\n",
    "            elif \"образован\" in purpose:\n",
    "                return \"образование\"\n",
    "            elif \"свадьб\" in purpose:\n",
    "                return \"свадьба\"\n",
    "            else:\n",
    "                return \"другое\"\n",
    "        \n",
    "# добавляем в таблицу колонку purpose_id\n",
    "# проверяем кол-во уникальных значений,\n",
    "# определяем долю каждой цели\n",
    "data[\"purpose_id\"] = data[\"purpose\"]. apply(purpose_id)\n",
    "data_unique_purp_count = data[\"purpose_id\"].value_counts()\n",
    "data_unique_purp_share = data_unique_purp_count / data_unique_purp_count.sum() * 100\n",
    "\n",
    "print(\"Доля уникальных значений по идентификатору цели:\")\n",
    "print(data_unique_purp_share)\n",
    "print()\n",
    "print(\"Общее количество записей в колонке идентификатор цели:\")\n",
    "print(len(data[\"purpose_id\"]))\n",
    "\n",
    "\n"
   ]
  },
  {
   "cell_type": "markdown",
   "metadata": {},
   "source": [
    "**Вывод**\n",
    "\n",
    "Лемматизация позволила создать список *идентификаторов уникальных целей* с 6 ключевыми группами:\n",
    "* недвижимость_покупка       (8328) = 39% записей\n",
    "* автомобиль                 (4308) = 20% записей\n",
    "* образование                (4014) = 19% записей\n",
    "* свадьба                    (2335) = 11% записей\n",
    "* недвижимость_строительство (1879) =  9% записей\n",
    "* недвижимость_ремонт        ( 607) =  3% записей\n",
    "\n",
    "Группа *недвижимость*, как самая крупная, была разбита на 3 по принципу \"действий\" с недвижимостью.\n",
    "\n",
    "Записи с общей целью *недвижимость* и *жилье* были добавлены в группу *недвижимость_покупка* на основе предположения, что именно покупка как действие в отношении этих целей является наиоболее вероятным и частым случаем при запросе кредита."
   ]
  },
  {
   "cell_type": "markdown",
   "metadata": {},
   "source": []
  },
  {
   "cell_type": "markdown",
   "metadata": {},
   "source": [
    "### Категоризация данных"
   ]
  },
  {
   "cell_type": "code",
   "execution_count": 55,
   "metadata": {},
   "outputs": [
    {
     "name": "stdout",
     "output_type": "stream",
     "text": [
      "Максимальное значение дохода: 2265604\n",
      "Минимальное значение дохода: 20667\n",
      "Медиана дохода: 145896\n",
      "\n",
      "count    2.145400e+04\n",
      "mean     1.653196e+05\n",
      "std      9.818730e+04\n",
      "min      2.066700e+04\n",
      "25%      1.076230e+05\n",
      "50%      1.425940e+05\n",
      "75%      1.958202e+05\n",
      "max      2.265604e+06\n",
      "Name: total_income, dtype: float64\n",
      "\n",
      "Количество уникальных значений по идентификатору дохода:\n",
      "средний          5479\n",
      "низкий           5364\n",
      "экстремальный    5364\n",
      "высокий          5247\n",
      "Name: income_id, dtype: int64\n",
      "\n",
      "Общее количество записей в колонке идентификатор дохода:\n",
      "21454\n",
      "\n"
     ]
    }
   ],
   "source": [
    "# производим классификацию данных по доходам\n",
    "# выводим максимальное, минимальное значение,\n",
    "# находим медиану уникальных значений total_income\n",
    "print(\"Максимальное значение дохода: {:1.0f}\".format(data[\"total_income\"].max()))\n",
    "print(\"Минимальное значение дохода: {:1.0f}\".format(data[\"total_income\"].min()))\n",
    "lst_totinc = data[\"total_income\"].unique()\n",
    "import statistics\n",
    "lst_totinc_median = statistics.median(lst_totinc)\n",
    "print(\"Медиана дохода: {:1.0f}\".format(lst_totinc_median))\n",
    "print()\n",
    "\n",
    "#определяем границы категорий дохода\n",
    "print(data[\"total_income\"].describe())\n",
    "print()\n",
    "\n",
    "# создаем список идентификаторов дохода\n",
    "income_id = [\"низкий\", \"средний\", \"высокий\", \"экстремальный\"]\n",
    "# создаем функцию привязки дохода и идентификатора\n",
    "def income_id(total_income):\n",
    "    if total_income <= data[\"total_income\"].quantile(0.25):\n",
    "        return \"низкий\"\n",
    "    if total_income <= data[\"total_income\"].quantile(0.50):\n",
    "        return \"средний\"\n",
    "    if total_income <= data[\"total_income\"].quantile(0.75):\n",
    "        return \"высокий\"\n",
    "    else:\n",
    "        return \"экстремальный\"\n",
    "        \n",
    "# добавляем в таблицу колонку income_id\n",
    "# проверяем кол-во уникальных значений\n",
    "data[\"income_id\"] = data[\"total_income\"]. apply(income_id)\n",
    "print(\"Количество уникальных значений по идентификатору дохода:\")\n",
    "print(data[\"income_id\"].value_counts())\n",
    "print()\n",
    "print(\"Общее количество записей в колонке идентификатор дохода:\")\n",
    "print(len(data[\"income_id\"]))\n",
    "print()\n"
   ]
  },
  {
   "cell_type": "code",
   "execution_count": 56,
   "metadata": {},
   "outputs": [
    {
     "name": "stdout",
     "output_type": "stream",
     "text": [
      "Количество уникальных значений по идентификатору кол-ва детей:\n",
      "ноль           14138\n",
      "один            4884\n",
      "больше двух     2432\n",
      "Name: children_id, dtype: int64\n",
      "\n",
      "Общее количество записей в колонке идентификатор кол-ва детей:\n",
      "21454\n",
      "\n"
     ]
    }
   ],
   "source": [
    "# производим классификацию данных по кол-ву детей\n",
    "# создаем список идентификаторов кол-ва детей\n",
    "children_id = [\"ноль\", \"один\", \"два_пять\"]\n",
    "\n",
    "# создаем функцию привязки кол-ва детей и идентификатора\n",
    "def children_id(children):\n",
    "    if children == 0:\n",
    "        return \"ноль\"\n",
    "    if children == 1:\n",
    "        return \"один\"\n",
    "    else:\n",
    "        return \"больше двух\"\n",
    "    \n",
    "# добавляем в таблицу колонку children_id\n",
    "# проверяем кол-во уникальных значений\n",
    "data[\"children_id\"] = data[\"children\"]. apply(children_id)\n",
    "print(\"Количество уникальных значений по идентификатору кол-ва детей:\")\n",
    "print(data[\"children_id\"].value_counts())\n",
    "print()\n",
    "print(\"Общее количество записей в колонке идентификатор кол-ва детей:\")\n",
    "print(len(data[\"children_id\"]))\n",
    "print()\n"
   ]
  },
  {
   "cell_type": "code",
   "execution_count": 57,
   "metadata": {},
   "outputs": [
    {
     "data": {
      "text/html": [
       "<div>\n",
       "<style scoped>\n",
       "    .dataframe tbody tr th:only-of-type {\n",
       "        vertical-align: middle;\n",
       "    }\n",
       "\n",
       "    .dataframe tbody tr th {\n",
       "        vertical-align: top;\n",
       "    }\n",
       "\n",
       "    .dataframe thead th {\n",
       "        text-align: right;\n",
       "    }\n",
       "</style>\n",
       "<table border=\"1\" class=\"dataframe\">\n",
       "  <thead>\n",
       "    <tr style=\"text-align: right;\">\n",
       "      <th></th>\n",
       "      <th>группа</th>\n",
       "      <th>подгруппа</th>\n",
       "      <th>кол-во просроченных кредитов</th>\n",
       "      <th>кол-во кредитов всего</th>\n",
       "      <th>% кредитов в срок</th>\n",
       "    </tr>\n",
       "  </thead>\n",
       "  <tbody>\n",
       "    <tr>\n",
       "      <td>0</td>\n",
       "      <td>кол-во детей</td>\n",
       "      <td>больше двух</td>\n",
       "      <td>225</td>\n",
       "      <td>2432</td>\n",
       "      <td>90.75</td>\n",
       "    </tr>\n",
       "    <tr>\n",
       "      <td>1</td>\n",
       "      <td>кол-во детей</td>\n",
       "      <td>ноль</td>\n",
       "      <td>1064</td>\n",
       "      <td>14138</td>\n",
       "      <td>92.47</td>\n",
       "    </tr>\n",
       "    <tr>\n",
       "      <td>2</td>\n",
       "      <td>кол-во детей</td>\n",
       "      <td>один</td>\n",
       "      <td>452</td>\n",
       "      <td>4884</td>\n",
       "      <td>90.75</td>\n",
       "    </tr>\n",
       "    <tr>\n",
       "      <td>3</td>\n",
       "      <td>семейное положение</td>\n",
       "      <td>в разводе</td>\n",
       "      <td>85</td>\n",
       "      <td>1195</td>\n",
       "      <td>92.89</td>\n",
       "    </tr>\n",
       "    <tr>\n",
       "      <td>4</td>\n",
       "      <td>семейное положение</td>\n",
       "      <td>вдовец / вдова</td>\n",
       "      <td>63</td>\n",
       "      <td>959</td>\n",
       "      <td>93.43</td>\n",
       "    </tr>\n",
       "    <tr>\n",
       "      <td>5</td>\n",
       "      <td>семейное положение</td>\n",
       "      <td>гражданский брак</td>\n",
       "      <td>388</td>\n",
       "      <td>4151</td>\n",
       "      <td>90.65</td>\n",
       "    </tr>\n",
       "    <tr>\n",
       "      <td>6</td>\n",
       "      <td>семейное положение</td>\n",
       "      <td>женат / замужем</td>\n",
       "      <td>931</td>\n",
       "      <td>12339</td>\n",
       "      <td>92.45</td>\n",
       "    </tr>\n",
       "    <tr>\n",
       "      <td>7</td>\n",
       "      <td>семейное положение</td>\n",
       "      <td>не женат / не замужем</td>\n",
       "      <td>274</td>\n",
       "      <td>2810</td>\n",
       "      <td>90.25</td>\n",
       "    </tr>\n",
       "    <tr>\n",
       "      <td>8</td>\n",
       "      <td>уровень дохода</td>\n",
       "      <td>высокий</td>\n",
       "      <td>448</td>\n",
       "      <td>5247</td>\n",
       "      <td>91.46</td>\n",
       "    </tr>\n",
       "    <tr>\n",
       "      <td>9</td>\n",
       "      <td>уровень дохода</td>\n",
       "      <td>низкий</td>\n",
       "      <td>427</td>\n",
       "      <td>5364</td>\n",
       "      <td>92.04</td>\n",
       "    </tr>\n",
       "    <tr>\n",
       "      <td>10</td>\n",
       "      <td>уровень дохода</td>\n",
       "      <td>средний</td>\n",
       "      <td>483</td>\n",
       "      <td>5479</td>\n",
       "      <td>91.18</td>\n",
       "    </tr>\n",
       "    <tr>\n",
       "      <td>11</td>\n",
       "      <td>уровень дохода</td>\n",
       "      <td>экстремальный</td>\n",
       "      <td>383</td>\n",
       "      <td>5364</td>\n",
       "      <td>92.86</td>\n",
       "    </tr>\n",
       "    <tr>\n",
       "      <td>12</td>\n",
       "      <td>цель кредита</td>\n",
       "      <td>автомобиль</td>\n",
       "      <td>403</td>\n",
       "      <td>4306</td>\n",
       "      <td>90.64</td>\n",
       "    </tr>\n",
       "    <tr>\n",
       "      <td>13</td>\n",
       "      <td>цель кредита</td>\n",
       "      <td>недвижимость_покупка</td>\n",
       "      <td>603</td>\n",
       "      <td>8326</td>\n",
       "      <td>92.76</td>\n",
       "    </tr>\n",
       "    <tr>\n",
       "      <td>14</td>\n",
       "      <td>цель кредита</td>\n",
       "      <td>недвижимость_ремонт</td>\n",
       "      <td>35</td>\n",
       "      <td>607</td>\n",
       "      <td>94.23</td>\n",
       "    </tr>\n",
       "    <tr>\n",
       "      <td>15</td>\n",
       "      <td>цель кредита</td>\n",
       "      <td>недвижимость_строительство</td>\n",
       "      <td>144</td>\n",
       "      <td>1878</td>\n",
       "      <td>92.33</td>\n",
       "    </tr>\n",
       "    <tr>\n",
       "      <td>16</td>\n",
       "      <td>цель кредита</td>\n",
       "      <td>образование</td>\n",
       "      <td>370</td>\n",
       "      <td>4013</td>\n",
       "      <td>90.78</td>\n",
       "    </tr>\n",
       "    <tr>\n",
       "      <td>17</td>\n",
       "      <td>цель кредита</td>\n",
       "      <td>свадьба</td>\n",
       "      <td>186</td>\n",
       "      <td>2324</td>\n",
       "      <td>92.00</td>\n",
       "    </tr>\n",
       "  </tbody>\n",
       "</table>\n",
       "</div>"
      ],
      "text/plain": [
       "                группа                   подгруппа  \\\n",
       "0         кол-во детей                 больше двух   \n",
       "1         кол-во детей                        ноль   \n",
       "2         кол-во детей                        один   \n",
       "3   семейное положение                   в разводе   \n",
       "4   семейное положение              вдовец / вдова   \n",
       "5   семейное положение            гражданский брак   \n",
       "6   семейное положение             женат / замужем   \n",
       "7   семейное положение       не женат / не замужем   \n",
       "8       уровень дохода                     высокий   \n",
       "9       уровень дохода                      низкий   \n",
       "10      уровень дохода                     средний   \n",
       "11      уровень дохода               экстремальный   \n",
       "12        цель кредита                  автомобиль   \n",
       "13        цель кредита        недвижимость_покупка   \n",
       "14        цель кредита         недвижимость_ремонт   \n",
       "15        цель кредита  недвижимость_строительство   \n",
       "16        цель кредита                 образование   \n",
       "17        цель кредита                     свадьба   \n",
       "\n",
       "    кол-во просроченных кредитов  кол-во кредитов всего  % кредитов в срок  \n",
       "0                            225                   2432              90.75  \n",
       "1                           1064                  14138              92.47  \n",
       "2                            452                   4884              90.75  \n",
       "3                             85                   1195              92.89  \n",
       "4                             63                    959              93.43  \n",
       "5                            388                   4151              90.65  \n",
       "6                            931                  12339              92.45  \n",
       "7                            274                   2810              90.25  \n",
       "8                            448                   5247              91.46  \n",
       "9                            427                   5364              92.04  \n",
       "10                           483                   5479              91.18  \n",
       "11                           383                   5364              92.86  \n",
       "12                           403                   4306              90.64  \n",
       "13                           603                   8326              92.76  \n",
       "14                            35                    607              94.23  \n",
       "15                           144                   1878              92.33  \n",
       "16                           370                   4013              90.78  \n",
       "17                           186                   2324              92.00  "
      ]
     },
     "metadata": {},
     "output_type": "display_data"
    }
   ],
   "source": [
    "# группируем значения по запрошенным параметрам,\n",
    "# добавляем колонку с расчетным параметром % кредитов, возвращенных в срок\n",
    "children_grouping = data.groupby(\"children_id\")[\"debt\"].agg([\"sum\", \"count\"])\n",
    "children_grouping[\"debt_intime\"] = (children_grouping[\"count\"] - children_grouping[\"sum\"]) /  children_grouping[\"count\"] * 100\n",
    "\n",
    "famstat_grouping = data.groupby(\"family_status\")[\"debt\"].agg([\"sum\", \"count\"])\n",
    "famstat_grouping[\"debt_intime\"] = (famstat_grouping[\"count\"] - famstat_grouping[\"sum\"]) /  famstat_grouping[\"count\"] * 100\n",
    "\n",
    "incomeid_grouping = data.groupby(\"income_id\")[\"debt\"].agg([\"sum\", \"count\"])\n",
    "incomeid_grouping[\"debt_intime\"] = (incomeid_grouping[\"count\"] - incomeid_grouping[\"sum\"]) /  incomeid_grouping[\"count\"] * 100\n",
    "\n",
    "purposeid_grouping = data.groupby(\"purpose_id\")[\"debt\"].agg([\"sum\", \"count\"])\n",
    "purposeid_grouping[\"debt_intime\"] = (purposeid_grouping[\"count\"] - purposeid_grouping[\"sum\"]) /  purposeid_grouping[\"count\"] * 100\n",
    "\n",
    "# создаем цикл объединения таблиц\n",
    "tables = children_grouping, famstat_grouping, incomeid_grouping, purposeid_grouping\n",
    "for table in tables:\n",
    "    table_1 = children_grouping\n",
    "    table_2 = famstat_grouping\n",
    "    table_3 = incomeid_grouping\n",
    "    table_4 = purposeid_grouping\n",
    "    joined_table = table_1.append(table_2).append(table_3).append(table_4)\n",
    "    \n",
    "joined_table = joined_table.reset_index()\n",
    "\n",
    "# переименовываем колонки,\n",
    "# округляем значения в колонке % кредитов в срок до 2х знаков после запятой\n",
    "joined_table.columns = [\"подгруппа\", \"кол-во просроченных кредитов\", \"кол-во кредитов всего\", \"% кредитов в срок\"]\n",
    "joined_table[\"% кредитов в срок\"] = joined_table[\"% кредитов в срок\"].round(2)\n",
    "\n",
    "# создаем список идентификаторов групп\n",
    "# создаем привязку группы и идентификатора\n",
    "# добавляем колонку group_id в таблицу\n",
    "group_id = [\"кол-во детей\", \"семейное положение\", \"уровень дохода\", \"цель кредита\"]\n",
    "\n",
    "children_lst = data[\"children_id\"].unique().tolist()\n",
    "famstat_lst = data[\"family_status\"].unique().tolist()\n",
    "incid_lst = data[\"income_id\"].unique().tolist()\n",
    "purpid_lst = data[\"purpose_id\"].unique().tolist()\n",
    "def groupid_add (row):\n",
    "    if row in children_lst:\n",
    "        return \"кол-во детей\"\n",
    "    if row in famstat_lst:\n",
    "        return \"семейное положение\"\n",
    "    if row in incid_lst:\n",
    "        return \"уровень дохода\"\n",
    "    if row in purpid_lst:\n",
    "        return \"цель кредита\"\n",
    "    \n",
    "joined_table[\"группа\"] = joined_table[\"подгруппа\"].apply(groupid_add)\n",
    "joined_table = joined_table[[\"группа\", \"подгруппа\", \"кол-во просроченных кредитов\", \"кол-во кредитов всего\", \"% кредитов в срок\"]]\n",
    "display(joined_table)"
   ]
  },
  {
   "cell_type": "markdown",
   "metadata": {},
   "source": [
    "**Вывод**\n",
    "\n",
    "Для формирования ответов на вопросы и финальных выводов:\n",
    "\n",
    "1. Была проведена дополнительная классификация категории *уровень дохода* с идентификаторами *income_id*:\n",
    "\n",
    "* \"низкий\" (до 110 000)\n",
    "* \"средний\" (100 000 -  150 000)\n",
    "* \"высокий\" (150 000 - 200 000)\n",
    "* \"экстремальный\" (свыше 200 000)\n",
    "\n",
    "С помощью методов *max, min, median, describe* были получены данные для определения порогов уровней. С помощью функции данные по доходам были привязаны к идентификаторам.\n",
    "\n",
    "2. Была проведена дополнительная классификация категории *количество детей* с идентификаторами *children_id*:\n",
    "\n",
    "* \"ноль\" (кол-во детей == 0)\n",
    "* \"один\" (кол-во детей == 1)\n",
    "* \"больше двух\" (кол-во детей 2 и более)\n",
    "\n",
    "С помощью функции данные по количеству детей были привязаны к идентификаторам.\n",
    "\n",
    "2. Были выделены 4 основных категории данных:\n",
    "\n",
    "* \"кол-во детей\"\n",
    "* \"семейное положение\"\n",
    "* \"уровень дохода\"\n",
    "* \"цель кредита\"\n",
    "\n",
    "В процессе категоризации был использован метод *groupby*, создан цикл объединения таблиц, рассчитан параметр *% кредитов в срок* как отношение в срок возвращенных кредитов к общему количеству взятых кредитов в подгруппах."
   ]
  },
  {
   "cell_type": "markdown",
   "metadata": {},
   "source": [
    "## Шаг 3. Ответы на вопросы"
   ]
  },
  {
   "cell_type": "markdown",
   "metadata": {},
   "source": [
    "- Есть ли зависимость между наличием детей и возвратом кредита в срок?"
   ]
  },
  {
   "cell_type": "code",
   "execution_count": 58,
   "metadata": {},
   "outputs": [
    {
     "data": {
      "text/html": [
       "<div>\n",
       "<style scoped>\n",
       "    .dataframe tbody tr th:only-of-type {\n",
       "        vertical-align: middle;\n",
       "    }\n",
       "\n",
       "    .dataframe tbody tr th {\n",
       "        vertical-align: top;\n",
       "    }\n",
       "\n",
       "    .dataframe thead th {\n",
       "        text-align: right;\n",
       "    }\n",
       "</style>\n",
       "<table border=\"1\" class=\"dataframe\">\n",
       "  <thead>\n",
       "    <tr style=\"text-align: right;\">\n",
       "      <th></th>\n",
       "      <th>группа</th>\n",
       "      <th>подгруппа</th>\n",
       "      <th>кол-во просроченных кредитов</th>\n",
       "      <th>кол-во кредитов всего</th>\n",
       "      <th>% кредитов в срок</th>\n",
       "    </tr>\n",
       "  </thead>\n",
       "  <tbody>\n",
       "    <tr>\n",
       "      <td>1</td>\n",
       "      <td>кол-во детей</td>\n",
       "      <td>ноль</td>\n",
       "      <td>1064</td>\n",
       "      <td>14138</td>\n",
       "      <td>92.47</td>\n",
       "    </tr>\n",
       "    <tr>\n",
       "      <td>0</td>\n",
       "      <td>кол-во детей</td>\n",
       "      <td>больше двух</td>\n",
       "      <td>225</td>\n",
       "      <td>2432</td>\n",
       "      <td>90.75</td>\n",
       "    </tr>\n",
       "    <tr>\n",
       "      <td>2</td>\n",
       "      <td>кол-во детей</td>\n",
       "      <td>один</td>\n",
       "      <td>452</td>\n",
       "      <td>4884</td>\n",
       "      <td>90.75</td>\n",
       "    </tr>\n",
       "  </tbody>\n",
       "</table>\n",
       "</div>"
      ],
      "text/plain": [
       "         группа    подгруппа  кол-во просроченных кредитов  \\\n",
       "1  кол-во детей         ноль                          1064   \n",
       "0  кол-во детей  больше двух                           225   \n",
       "2  кол-во детей         один                           452   \n",
       "\n",
       "   кол-во кредитов всего  % кредитов в срок  \n",
       "1                  14138              92.47  \n",
       "0                   2432              90.75  \n",
       "2                   4884              90.75  "
      ]
     },
     "metadata": {},
     "output_type": "display_data"
    },
    {
     "name": "stdout",
     "output_type": "stream",
     "text": [
      "\n"
     ]
    }
   ],
   "source": [
    "# делаем срез по группе кол-во детей,\n",
    "# сортируем данные по колонке % кредитов в срок\n",
    "final_children = joined_table[joined_table[\"группа\"] == \"кол-во детей\"].sort_values(by = \"% кредитов в срок\", ascending = False)\n",
    "display(final_children)\n",
    "print()\n"
   ]
  },
  {
   "cell_type": "code",
   "execution_count": 59,
   "metadata": {},
   "outputs": [
    {
     "data": {
      "text/html": [
       "<div>\n",
       "<style scoped>\n",
       "    .dataframe tbody tr th:only-of-type {\n",
       "        vertical-align: middle;\n",
       "    }\n",
       "\n",
       "    .dataframe tbody tr th {\n",
       "        vertical-align: top;\n",
       "    }\n",
       "\n",
       "    .dataframe thead th {\n",
       "        text-align: right;\n",
       "    }\n",
       "</style>\n",
       "<table border=\"1\" class=\"dataframe\">\n",
       "  <thead>\n",
       "    <tr style=\"text-align: right;\">\n",
       "      <th></th>\n",
       "      <th>группа</th>\n",
       "      <th>подгруппа</th>\n",
       "      <th>кол-во просроченных кредитов</th>\n",
       "      <th>кол-во кредитов всего</th>\n",
       "      <th>% кредитов в срок</th>\n",
       "    </tr>\n",
       "  </thead>\n",
       "  <tbody>\n",
       "    <tr>\n",
       "      <td>1</td>\n",
       "      <td>кол-во детей</td>\n",
       "      <td>ноль</td>\n",
       "      <td>1064</td>\n",
       "      <td>14138</td>\n",
       "      <td>92.47</td>\n",
       "    </tr>\n",
       "    <tr>\n",
       "      <td>0</td>\n",
       "      <td>кол-во детей</td>\n",
       "      <td>больше двух</td>\n",
       "      <td>225</td>\n",
       "      <td>2432</td>\n",
       "      <td>90.75</td>\n",
       "    </tr>\n",
       "    <tr>\n",
       "      <td>2</td>\n",
       "      <td>кол-во детей</td>\n",
       "      <td>один</td>\n",
       "      <td>452</td>\n",
       "      <td>4884</td>\n",
       "      <td>90.75</td>\n",
       "    </tr>\n",
       "  </tbody>\n",
       "</table>\n",
       "</div>"
      ],
      "text/plain": [
       "         группа    подгруппа  кол-во просроченных кредитов  \\\n",
       "1  кол-во детей         ноль                          1064   \n",
       "0  кол-во детей  больше двух                           225   \n",
       "2  кол-во детей         один                           452   \n",
       "\n",
       "   кол-во кредитов всего  % кредитов в срок  \n",
       "1                  14138              92.47  \n",
       "0                   2432              90.75  \n",
       "2                   4884              90.75  "
      ]
     },
     "metadata": {},
     "output_type": "display_data"
    }
   ],
   "source": [
    "final_children = joined_table[joined_table[\"группа\"] == \"кол-во детей\"].sort_values(by = \"% кредитов в срок\", ascending = False)\n",
    "display(final_children)"
   ]
  },
  {
   "cell_type": "markdown",
   "metadata": {},
   "source": [
    "**Вывод**\n",
    "\n",
    "Для представления результата был сделан срез данных по группе *кол-во детей*.\n",
    "Результ показал:\n",
    "\n",
    "* Наиболее **надежными** плательщиками по кредитам являются представители подгруппы с количеством детей *0*. При этом на них приходится самая большая доля выданных кредитов (66%).\n",
    "\n",
    "* Представители подгрупп *с детьми* возвращают кредиты **хуже**, что может быть связано с тем, что наличие детей предполагает регулярное возникное непредвиденных расходов. Параметр возврата кредита в срок у них является одинаковым (90,75%) но при этом представители подгруппы с *одним* ребенком берут кредиты в два раза чаще (доля 23%), чем представители подгруппы *больше двух* (доля 11%), что может быть связано с нежеланием брать на себя кредитные обязательства в ситуации, когда количество детей предпологает, что большая часть бюджета уходит на их содержание.\n",
    "\n",
    "Общий вывод - **зависимость между наличием детей и возвратом кредита в срок существует**."
   ]
  },
  {
   "cell_type": "markdown",
   "metadata": {},
   "source": []
  },
  {
   "cell_type": "markdown",
   "metadata": {},
   "source": [
    "- Есть ли зависимость между семейным положением и возвратом кредита в срок?"
   ]
  },
  {
   "cell_type": "code",
   "execution_count": 66,
   "metadata": {},
   "outputs": [
    {
     "data": {
      "text/html": [
       "<div>\n",
       "<style scoped>\n",
       "    .dataframe tbody tr th:only-of-type {\n",
       "        vertical-align: middle;\n",
       "    }\n",
       "\n",
       "    .dataframe tbody tr th {\n",
       "        vertical-align: top;\n",
       "    }\n",
       "\n",
       "    .dataframe thead th {\n",
       "        text-align: right;\n",
       "    }\n",
       "</style>\n",
       "<table border=\"1\" class=\"dataframe\">\n",
       "  <thead>\n",
       "    <tr style=\"text-align: right;\">\n",
       "      <th></th>\n",
       "      <th>группа</th>\n",
       "      <th>подгруппа</th>\n",
       "      <th>кол-во просроченных кредитов</th>\n",
       "      <th>кол-во кредитов всего</th>\n",
       "      <th>% кредитов в срок</th>\n",
       "    </tr>\n",
       "  </thead>\n",
       "  <tbody>\n",
       "    <tr>\n",
       "      <td>4</td>\n",
       "      <td>семейное положение</td>\n",
       "      <td>вдовец / вдова</td>\n",
       "      <td>63</td>\n",
       "      <td>959</td>\n",
       "      <td>93.43</td>\n",
       "    </tr>\n",
       "    <tr>\n",
       "      <td>3</td>\n",
       "      <td>семейное положение</td>\n",
       "      <td>в разводе</td>\n",
       "      <td>85</td>\n",
       "      <td>1195</td>\n",
       "      <td>92.89</td>\n",
       "    </tr>\n",
       "    <tr>\n",
       "      <td>6</td>\n",
       "      <td>семейное положение</td>\n",
       "      <td>женат / замужем</td>\n",
       "      <td>931</td>\n",
       "      <td>12339</td>\n",
       "      <td>92.45</td>\n",
       "    </tr>\n",
       "    <tr>\n",
       "      <td>5</td>\n",
       "      <td>семейное положение</td>\n",
       "      <td>гражданский брак</td>\n",
       "      <td>388</td>\n",
       "      <td>4151</td>\n",
       "      <td>90.65</td>\n",
       "    </tr>\n",
       "    <tr>\n",
       "      <td>7</td>\n",
       "      <td>семейное положение</td>\n",
       "      <td>не женат / не замужем</td>\n",
       "      <td>274</td>\n",
       "      <td>2810</td>\n",
       "      <td>90.25</td>\n",
       "    </tr>\n",
       "  </tbody>\n",
       "</table>\n",
       "</div>"
      ],
      "text/plain": [
       "               группа              подгруппа  кол-во просроченных кредитов  \\\n",
       "4  семейное положение         вдовец / вдова                            63   \n",
       "3  семейное положение              в разводе                            85   \n",
       "6  семейное положение        женат / замужем                           931   \n",
       "5  семейное положение       гражданский брак                           388   \n",
       "7  семейное положение  не женат / не замужем                           274   \n",
       "\n",
       "   кол-во кредитов всего  % кредитов в срок  \n",
       "4                    959              93.43  \n",
       "3                   1195              92.89  \n",
       "6                  12339              92.45  \n",
       "5                   4151              90.65  \n",
       "7                   2810              90.25  "
      ]
     },
     "metadata": {},
     "output_type": "display_data"
    },
    {
     "name": "stdout",
     "output_type": "stream",
     "text": [
      "\n"
     ]
    },
    {
     "data": {
      "text/html": [
       "<div>\n",
       "<style scoped>\n",
       "    .dataframe tbody tr th:only-of-type {\n",
       "        vertical-align: middle;\n",
       "    }\n",
       "\n",
       "    .dataframe tbody tr th {\n",
       "        vertical-align: top;\n",
       "    }\n",
       "\n",
       "    .dataframe thead th {\n",
       "        text-align: right;\n",
       "    }\n",
       "</style>\n",
       "<table border=\"1\" class=\"dataframe\">\n",
       "  <thead>\n",
       "    <tr style=\"text-align: right;\">\n",
       "      <th></th>\n",
       "      <th>семейное положение</th>\n",
       "      <th>кол-во детей</th>\n",
       "      <th>кол-во просроченных кредитов</th>\n",
       "      <th>кол-во кредитов всего</th>\n",
       "      <th>% кредитов в срок</th>\n",
       "    </tr>\n",
       "  </thead>\n",
       "  <tbody>\n",
       "    <tr>\n",
       "      <td>7</td>\n",
       "      <td>гражданский брак</td>\n",
       "      <td>ноль</td>\n",
       "      <td>229</td>\n",
       "      <td>2735</td>\n",
       "      <td>91.63</td>\n",
       "    </tr>\n",
       "    <tr>\n",
       "      <td>8</td>\n",
       "      <td>гражданский брак</td>\n",
       "      <td>один</td>\n",
       "      <td>121</td>\n",
       "      <td>1007</td>\n",
       "      <td>87.98</td>\n",
       "    </tr>\n",
       "    <tr>\n",
       "      <td>9</td>\n",
       "      <td>женат / замужем</td>\n",
       "      <td>больше двух</td>\n",
       "      <td>165</td>\n",
       "      <td>1818</td>\n",
       "      <td>90.92</td>\n",
       "    </tr>\n",
       "    <tr>\n",
       "      <td>10</td>\n",
       "      <td>женат / замужем</td>\n",
       "      <td>ноль</td>\n",
       "      <td>517</td>\n",
       "      <td>7497</td>\n",
       "      <td>93.10</td>\n",
       "    </tr>\n",
       "    <tr>\n",
       "      <td>11</td>\n",
       "      <td>женат / замужем</td>\n",
       "      <td>один</td>\n",
       "      <td>249</td>\n",
       "      <td>3024</td>\n",
       "      <td>91.77</td>\n",
       "    </tr>\n",
       "    <tr>\n",
       "      <td>13</td>\n",
       "      <td>не женат / не замужем</td>\n",
       "      <td>ноль</td>\n",
       "      <td>210</td>\n",
       "      <td>2267</td>\n",
       "      <td>90.74</td>\n",
       "    </tr>\n",
       "  </tbody>\n",
       "</table>\n",
       "</div>"
      ],
      "text/plain": [
       "       семейное положение кол-во детей  кол-во просроченных кредитов  \\\n",
       "7        гражданский брак         ноль                           229   \n",
       "8        гражданский брак         один                           121   \n",
       "9         женат / замужем  больше двух                           165   \n",
       "10        женат / замужем         ноль                           517   \n",
       "11        женат / замужем         один                           249   \n",
       "13  не женат / не замужем         ноль                           210   \n",
       "\n",
       "    кол-во кредитов всего  % кредитов в срок  \n",
       "7                    2735              91.63  \n",
       "8                    1007              87.98  \n",
       "9                    1818              90.92  \n",
       "10                   7497              93.10  \n",
       "11                   3024              91.77  \n",
       "13                   2267              90.74  "
      ]
     },
     "metadata": {},
     "output_type": "display_data"
    }
   ],
   "source": [
    "# делаем срез по группе семейное положение,\n",
    "# сортируем данные по колонке % кредитов в срок\n",
    "final_famstat = joined_table[joined_table[\"группа\"] == \"семейное положение\"].sort_values(by = \"% кредитов в срок\", ascending = False)\n",
    "display(final_famstat)\n",
    "print()\n",
    "\n",
    "# производим группировку данных по группам семейное положение и кол-во детей\n",
    "# отфильтровываем и выводим значения с общим количеством полученных кредитов больше 1000\n",
    "final_famstat_child = data.groupby([\"family_status\", \"children_id\"])[\"debt\"].agg([\"sum\", \"count\"])\n",
    "final_famstat_child[\"debt_intime\"] = ((final_famstat_child[\"count\"] - final_famstat_child[\"sum\"]) /  final_famstat_child[\"count\"] * 100).round(2)\n",
    "final_famstat_child = final_famstat_child.reset_index()\n",
    "final_famstat_child.columns = [\"семейное положение\", \"кол-во детей\", \"кол-во просроченных кредитов\", \"кол-во кредитов всего\", \"% кредитов в срок\"]\n",
    "display(final_famstat_child[ final_famstat_child[\"кол-во кредитов всего\"] > 1000])"
   ]
  },
  {
   "cell_type": "markdown",
   "metadata": {},
   "source": [
    "**Вывод**\n",
    "\n",
    "Для представления результата был сделан срез данных по группе *семейное положение*.\n",
    "\n",
    "Результ показал:\n",
    "\n",
    "* Самыми **надежными** плательщиками по кредитам являются *вдовцы и вдовы*. При этом у них самая низкая доля в выданных кредитах (4,5%).\n",
    "\n",
    "* На **втором** месте идут *разведенные*. При этом их доля в выданных кредитах также невилика (5,6%).\n",
    "\n",
    "* Самая представительная группа - *семейные* (женат / замужем). При этом процент возврата кредита в срок у них выше среднего по группе. Можно предположить, что в рамках устойчивых семейных отношений погашение кредита планируется и осуществляется исходя из совместного дохода, что позволяет в 92,46% случаев возвращать кредит в срок.\n",
    "\n",
    "* **Менее надежными** плательщиками являются представители группы, находящиеся в *гражданском браке*. При этом их доля в выданных кредитах составляет 19,4%.\n",
    "\n",
    "* **Хуже всего** возвращают кредиты представители подгруппы *не женат / не замужем*. Их доля ничтожно мала. Но при скоринге этот аспект следует учитывать.\n",
    "\n",
    "Для выявления зависимости *семейного положения и количества детей* на факт погашения кредита в срок был применен метод *groupby* и с целью удаления \"шумов\" произведена фильтрация по значениям общего количества выданных кредитов (> 1 000).\n",
    "\n",
    "Результ показал:\n",
    "\n",
    "* В подгруппе *гражданский брак* у клиентов *без детей* % погашения кредитов в срок существенно выше, чем у клиентов с 1 ребенком.\n",
    "\n",
    "* В подгруппе *женат / замужем* % погашения кредитов в срок снижается с ростом количества детей.\n",
    "\n",
    "Общий вывод - **зависимость между семейным положением и возвратом кредита в срок существует. Также существует зависисмость между семейным положением, количеством детей и возвратом кредита в срок**."
   ]
  },
  {
   "cell_type": "markdown",
   "metadata": {},
   "source": []
  },
  {
   "cell_type": "markdown",
   "metadata": {},
   "source": [
    "- Есть ли зависимость между уровнем дохода и возвратом кредита в срок?"
   ]
  },
  {
   "cell_type": "code",
   "execution_count": 67,
   "metadata": {},
   "outputs": [
    {
     "data": {
      "text/html": [
       "<div>\n",
       "<style scoped>\n",
       "    .dataframe tbody tr th:only-of-type {\n",
       "        vertical-align: middle;\n",
       "    }\n",
       "\n",
       "    .dataframe tbody tr th {\n",
       "        vertical-align: top;\n",
       "    }\n",
       "\n",
       "    .dataframe thead th {\n",
       "        text-align: right;\n",
       "    }\n",
       "</style>\n",
       "<table border=\"1\" class=\"dataframe\">\n",
       "  <thead>\n",
       "    <tr style=\"text-align: right;\">\n",
       "      <th></th>\n",
       "      <th>группа</th>\n",
       "      <th>подгруппа</th>\n",
       "      <th>кол-во просроченных кредитов</th>\n",
       "      <th>кол-во кредитов всего</th>\n",
       "      <th>% кредитов в срок</th>\n",
       "    </tr>\n",
       "  </thead>\n",
       "  <tbody>\n",
       "    <tr>\n",
       "      <td>11</td>\n",
       "      <td>уровень дохода</td>\n",
       "      <td>экстремальный</td>\n",
       "      <td>383</td>\n",
       "      <td>5364</td>\n",
       "      <td>92.86</td>\n",
       "    </tr>\n",
       "    <tr>\n",
       "      <td>9</td>\n",
       "      <td>уровень дохода</td>\n",
       "      <td>низкий</td>\n",
       "      <td>427</td>\n",
       "      <td>5364</td>\n",
       "      <td>92.04</td>\n",
       "    </tr>\n",
       "    <tr>\n",
       "      <td>8</td>\n",
       "      <td>уровень дохода</td>\n",
       "      <td>высокий</td>\n",
       "      <td>448</td>\n",
       "      <td>5247</td>\n",
       "      <td>91.46</td>\n",
       "    </tr>\n",
       "    <tr>\n",
       "      <td>10</td>\n",
       "      <td>уровень дохода</td>\n",
       "      <td>средний</td>\n",
       "      <td>483</td>\n",
       "      <td>5479</td>\n",
       "      <td>91.18</td>\n",
       "    </tr>\n",
       "  </tbody>\n",
       "</table>\n",
       "</div>"
      ],
      "text/plain": [
       "            группа      подгруппа  кол-во просроченных кредитов  \\\n",
       "11  уровень дохода  экстремальный                           383   \n",
       "9   уровень дохода         низкий                           427   \n",
       "8   уровень дохода        высокий                           448   \n",
       "10  уровень дохода        средний                           483   \n",
       "\n",
       "    кол-во кредитов всего  % кредитов в срок  \n",
       "11                   5364              92.86  \n",
       "9                    5364              92.04  \n",
       "8                    5247              91.46  \n",
       "10                   5479              91.18  "
      ]
     },
     "metadata": {},
     "output_type": "display_data"
    }
   ],
   "source": [
    "# делаем срез по группе уровень дохода,\n",
    "# сортируем данные по колонке % кредитов в срок\n",
    "final_incid = joined_table[joined_table[\"группа\"] == \"уровень дохода\"].sort_values(by = \"% кредитов в срок\", ascending = False)\n",
    "display(final_incid)\n"
   ]
  },
  {
   "cell_type": "markdown",
   "metadata": {},
   "source": [
    "**Вывод**\n",
    "\n",
    "Для представления результата был сделан срез данных по группе *уровень дохода*.\n",
    "\n",
    "Результ показал:\n",
    "\n",
    "Распределение представителей группы по подгруппам получилось приблизительно равномерным. При этом Параметр *% возврата кредита в срок* между представителями подгрупп *низкий, высокий, средний* идет с минимальным шагом 0,22 / 0,44 %. Самыми **надежными** плательщиками можно считать представителей подгруппы *экстремальный*. Но в общем можно сделать вывод, что **зависимость между уровнем дохода и возвратом кредита в срок отсутствует**. Скорее всего это объясняется тем, что уровень дохода больше влияет на сумму запрашиваемого кредита, нежели на дисциплину его погашения."
   ]
  },
  {
   "cell_type": "markdown",
   "metadata": {},
   "source": []
  },
  {
   "cell_type": "markdown",
   "metadata": {},
   "source": [
    "- Как разные цели кредита влияют на его возврат в срок?"
   ]
  },
  {
   "cell_type": "code",
   "execution_count": 68,
   "metadata": {},
   "outputs": [
    {
     "data": {
      "text/html": [
       "<div>\n",
       "<style scoped>\n",
       "    .dataframe tbody tr th:only-of-type {\n",
       "        vertical-align: middle;\n",
       "    }\n",
       "\n",
       "    .dataframe tbody tr th {\n",
       "        vertical-align: top;\n",
       "    }\n",
       "\n",
       "    .dataframe thead th {\n",
       "        text-align: right;\n",
       "    }\n",
       "</style>\n",
       "<table border=\"1\" class=\"dataframe\">\n",
       "  <thead>\n",
       "    <tr style=\"text-align: right;\">\n",
       "      <th></th>\n",
       "      <th>группа</th>\n",
       "      <th>подгруппа</th>\n",
       "      <th>кол-во просроченных кредитов</th>\n",
       "      <th>кол-во кредитов всего</th>\n",
       "      <th>% кредитов в срок</th>\n",
       "    </tr>\n",
       "  </thead>\n",
       "  <tbody>\n",
       "    <tr>\n",
       "      <td>14</td>\n",
       "      <td>цель кредита</td>\n",
       "      <td>недвижимость_ремонт</td>\n",
       "      <td>35</td>\n",
       "      <td>607</td>\n",
       "      <td>94.23</td>\n",
       "    </tr>\n",
       "    <tr>\n",
       "      <td>13</td>\n",
       "      <td>цель кредита</td>\n",
       "      <td>недвижимость_покупка</td>\n",
       "      <td>603</td>\n",
       "      <td>8326</td>\n",
       "      <td>92.76</td>\n",
       "    </tr>\n",
       "    <tr>\n",
       "      <td>15</td>\n",
       "      <td>цель кредита</td>\n",
       "      <td>недвижимость_строительство</td>\n",
       "      <td>144</td>\n",
       "      <td>1878</td>\n",
       "      <td>92.33</td>\n",
       "    </tr>\n",
       "    <tr>\n",
       "      <td>17</td>\n",
       "      <td>цель кредита</td>\n",
       "      <td>свадьба</td>\n",
       "      <td>186</td>\n",
       "      <td>2324</td>\n",
       "      <td>92.00</td>\n",
       "    </tr>\n",
       "    <tr>\n",
       "      <td>16</td>\n",
       "      <td>цель кредита</td>\n",
       "      <td>образование</td>\n",
       "      <td>370</td>\n",
       "      <td>4013</td>\n",
       "      <td>90.78</td>\n",
       "    </tr>\n",
       "    <tr>\n",
       "      <td>12</td>\n",
       "      <td>цель кредита</td>\n",
       "      <td>автомобиль</td>\n",
       "      <td>403</td>\n",
       "      <td>4306</td>\n",
       "      <td>90.64</td>\n",
       "    </tr>\n",
       "  </tbody>\n",
       "</table>\n",
       "</div>"
      ],
      "text/plain": [
       "          группа                   подгруппа  кол-во просроченных кредитов  \\\n",
       "14  цель кредита         недвижимость_ремонт                            35   \n",
       "13  цель кредита        недвижимость_покупка                           603   \n",
       "15  цель кредита  недвижимость_строительство                           144   \n",
       "17  цель кредита                     свадьба                           186   \n",
       "16  цель кредита                 образование                           370   \n",
       "12  цель кредита                  автомобиль                           403   \n",
       "\n",
       "    кол-во кредитов всего  % кредитов в срок  \n",
       "14                    607              94.23  \n",
       "13                   8326              92.76  \n",
       "15                   1878              92.33  \n",
       "17                   2324              92.00  \n",
       "16                   4013              90.78  \n",
       "12                   4306              90.64  "
      ]
     },
     "metadata": {},
     "output_type": "display_data"
    }
   ],
   "source": [
    "# делаем срез по группе цель кредита,\n",
    "# сортируем данные по колонке % кредитов в срок\n",
    "final_purpid = joined_table[joined_table[\"группа\"] == \"цель кредита\"].sort_values(by = \"% кредитов в срок\", ascending = False)\n",
    "display(final_purpid)"
   ]
  },
  {
   "cell_type": "markdown",
   "metadata": {},
   "source": [
    "**Вывод**\n",
    "\n",
    "Для представления результата был сделан срез данных по группе *цель кредита*.\n",
    "\n",
    "Результ показал:\n",
    "\n",
    "* Самыми **надежными** плательщиками по кредитам являются клиенты, запрашивающие кредит на *ремонт недвижимости*. При этом у них самая низкая доля в выданных кредитах (3%).\n",
    "\n",
    "* На **втором и третьем** месте идут *покупка и строительство недвижимости*. Можно предположить, что сами условия кредитования по этим целям, когда недвижимость чаще всего уходит в залог банку до полной выплаты кредита, мотивируют заемщиков к своевременным выплатам.\n",
    "\n",
    "* Кредиты, запрошенные на *свадьбу*, также находятся в *средней группе надежности*. Шаг между четвертым и третьим местом по % возврата кредитов в срок составляет 0,31%. Можно сделать предположение, что *свадебные кредиты* не велики по запрашиваемой сумме (по сравнению с кредитами на недвижимость, например), их оплата планируется и производится уже из совместного бюджета супругов, и психологически, вступая в новую совместную жизнь, молодые супруги осознают, что хорошая кредитная история важна для них, т.к. в дальнейшем им скорее всего придется обращаться за кредитом на недвижимость.\n",
    "\n",
    "* **Хуже всего** возвращают кредиты на *образование и автомобиль*. В случае *образования* можно предположить, что % несвоевременных выплат обусловлен нестабильным доходом кредитующихся. В случае *автомобиля* современный рынок автокредивания характеризуется тем, что кредиты берутся в большинстве случаев не для личного пользования автомобилем, а для работы с агрегаторами такси. В такой модели кредитуемому выгоднее не выплачивать кредит вовремя, а после определенного периода коммерческой эксплуатации возвращать автомобиль банку в счет погашения долга. \n",
    "\n",
    "Общий вывод - зависимость между целью кредита и возвратом кредита в срок существует."
   ]
  },
  {
   "cell_type": "markdown",
   "metadata": {},
   "source": [
    "## Шаг 4. Общий вывод\n",
    "\n",
    "В результате обработки и анализа предоставленных данных было выявлено, что семейное положение и количество детей клиента влияют на факт погашения кредита в срок:\n",
    ">Клиенты в гражданском браке без детей гасят кредиты в срок существенно чаще, чем клиенты с 1 ребенком.\n",
    "\n",
    ">У клиентов, состоящих в браке, % погашения кредитов в срок снижается с ростом количества детей.\n",
    "\n",
    "По прямым зависимостям было выявлено:\n",
    "\n",
    ">**КОЛ-ВО ДЕТЕЙ** наиболее **надежными** плательщиками по кредитам являются клиенты без детей. С ростом количества детей снижается количество кредитов, погашенных в срок.\n",
    "\n",
    ">**СЕМЕЙНОЕ ПОЛОЖЕНИЕ** самая представительная группа клиентов находится в браке, при этом процент возврата кредита в срок у них выше среднего по группе \"семейное положение\". Самыми **надежными** плательщиками по кредитам являются овдовевшие, при этом у них самая низкая доля в выданных кредитах. Отделу маркектинга рекомендуется обратить на это внимание. **Хуже всего** возвращают кредиты не состоящие в браке. Рекомендуется учесть этот аспект при построении модели скоринга.\n",
    "\n",
    ">**ЦЕЛЬ КРЕДИТА** самыми **надежными** плательщиками являются клиенты, получившие кредит на недвижимсоть. **Хуже всего** гасят кредиты на образование и автомобиль. Рекомендуется провести анализ продукта автомобильного кредитования с точки зрения областей его применения и достаточности мотивации к погашению кредита в срок.\n",
    "\n",
    ">**УРОВЕНЬ ДОХОДА** явной зависимости между уровнем дохода и возвратом кредита в срок не выявлено. Сделано предположение, что уровень дохода больше влияет на сумму запрашиваемого кредита, нежели на дисциплину его погашения.\n",
    "\n",
    "Также в процессе обработки входных данных от банка было выявлено, что существуют пропуски данных о рабочем стаже и уровне доходов клиента. Рекомендуется проверить настройки CRM и возможно сделать эти поля внесения информации обязательными для заполнения с проверкой / защитой от очевидных ошибок.\n",
    "\n",
    "Все материалы и расчеты представлены в работе и могут быть использованы при построении модели кредитного скоринга.\n",
    "\n"
   ]
  }
 ],
 "metadata": {
  "ExecuteTimeLog": [
   {
    "duration": 147,
    "start_time": "2021-10-01T07:49:51.229Z"
   },
   {
    "duration": 1098,
    "start_time": "2021-10-01T07:50:06.510Z"
   },
   {
    "duration": 250,
    "start_time": "2021-10-01T07:50:40.696Z"
   },
   {
    "duration": 332,
    "start_time": "2021-10-01T07:51:33.022Z"
   },
   {
    "duration": 262,
    "start_time": "2021-10-01T07:52:50.764Z"
   },
   {
    "duration": 85,
    "start_time": "2021-10-01T07:57:17.220Z"
   },
   {
    "duration": 70,
    "start_time": "2021-10-01T07:58:38.115Z"
   },
   {
    "duration": 94,
    "start_time": "2021-10-01T08:00:14.073Z"
   },
   {
    "duration": 67,
    "start_time": "2021-10-01T08:09:09.650Z"
   },
   {
    "duration": 69,
    "start_time": "2021-10-01T08:12:21.277Z"
   },
   {
    "duration": 387,
    "start_time": "2021-10-01T08:55:30.078Z"
   },
   {
    "duration": 72,
    "start_time": "2021-10-01T08:55:54.191Z"
   },
   {
    "duration": 67,
    "start_time": "2021-10-01T08:56:25.867Z"
   },
   {
    "duration": 29,
    "start_time": "2021-10-01T09:00:04.724Z"
   },
   {
    "duration": 13,
    "start_time": "2021-10-01T09:00:34.763Z"
   },
   {
    "duration": 238,
    "start_time": "2021-10-01T09:08:04.310Z"
   },
   {
    "duration": 30,
    "start_time": "2021-10-01T09:08:23.260Z"
   },
   {
    "duration": 33,
    "start_time": "2021-10-01T09:08:58.381Z"
   },
   {
    "duration": 34,
    "start_time": "2021-10-01T09:12:24.425Z"
   },
   {
    "duration": 26,
    "start_time": "2021-10-01T09:13:08.406Z"
   },
   {
    "duration": 13,
    "start_time": "2021-10-01T09:13:18.577Z"
   },
   {
    "duration": 877,
    "start_time": "2021-10-01T09:13:31.134Z"
   },
   {
    "duration": 11,
    "start_time": "2021-10-01T09:13:32.014Z"
   },
   {
    "duration": 31,
    "start_time": "2021-10-01T09:14:25.974Z"
   },
   {
    "duration": 42,
    "start_time": "2021-10-01T09:14:33.230Z"
   },
   {
    "duration": 23,
    "start_time": "2021-10-01T09:15:44.819Z"
   },
   {
    "duration": 14,
    "start_time": "2021-10-01T09:15:53.576Z"
   },
   {
    "duration": 781,
    "start_time": "2021-10-01T09:16:04.243Z"
   },
   {
    "duration": 11,
    "start_time": "2021-10-01T09:16:05.027Z"
   },
   {
    "duration": 37,
    "start_time": "2021-10-01T09:24:07.963Z"
   },
   {
    "duration": 770,
    "start_time": "2021-10-01T09:24:33.840Z"
   },
   {
    "duration": 50,
    "start_time": "2021-10-01T09:24:34.613Z"
   },
   {
    "duration": 778,
    "start_time": "2021-10-01T09:26:33.666Z"
   },
   {
    "duration": 52,
    "start_time": "2021-10-01T09:26:34.448Z"
   },
   {
    "duration": 795,
    "start_time": "2021-10-01T09:31:24.461Z"
   },
   {
    "duration": 53,
    "start_time": "2021-10-01T09:31:25.262Z"
   },
   {
    "duration": 1136,
    "start_time": "2021-10-01T09:33:11.143Z"
   },
   {
    "duration": 74,
    "start_time": "2021-10-01T09:33:12.283Z"
   },
   {
    "duration": 904,
    "start_time": "2021-10-01T09:37:17.868Z"
   },
   {
    "duration": 46,
    "start_time": "2021-10-01T09:37:18.774Z"
   },
   {
    "duration": 791,
    "start_time": "2021-10-01T09:38:15.078Z"
   },
   {
    "duration": 48,
    "start_time": "2021-10-01T09:38:15.871Z"
   },
   {
    "duration": 749,
    "start_time": "2021-10-01T09:40:19.211Z"
   },
   {
    "duration": 47,
    "start_time": "2021-10-01T09:40:19.962Z"
   },
   {
    "duration": 1139,
    "start_time": "2021-10-01T10:01:08.179Z"
   },
   {
    "duration": 1104,
    "start_time": "2021-10-01T10:01:30.997Z"
   },
   {
    "duration": 20,
    "start_time": "2021-10-01T10:15:26.459Z"
   },
   {
    "duration": 26,
    "start_time": "2021-10-01T10:17:58.473Z"
   },
   {
    "duration": 33,
    "start_time": "2021-10-01T10:41:08.482Z"
   },
   {
    "duration": 21,
    "start_time": "2021-10-01T10:41:39.452Z"
   },
   {
    "duration": 77,
    "start_time": "2021-10-01T10:44:34.659Z"
   },
   {
    "duration": 80,
    "start_time": "2021-10-01T10:44:48.264Z"
   },
   {
    "duration": 78,
    "start_time": "2021-10-01T10:45:31.434Z"
   },
   {
    "duration": 128,
    "start_time": "2021-10-01T10:45:41.530Z"
   },
   {
    "duration": 86,
    "start_time": "2021-10-01T10:45:57.211Z"
   },
   {
    "duration": 113,
    "start_time": "2021-10-01T10:46:06.464Z"
   },
   {
    "duration": 97,
    "start_time": "2021-10-01T10:46:15.865Z"
   },
   {
    "duration": 155,
    "start_time": "2021-10-01T10:46:33.747Z"
   },
   {
    "duration": 92,
    "start_time": "2021-10-01T10:47:53.872Z"
   },
   {
    "duration": 861,
    "start_time": "2021-10-01T10:48:15.458Z"
   },
   {
    "duration": 1198,
    "start_time": "2021-10-01T10:48:16.323Z"
   },
   {
    "duration": -1010,
    "start_time": "2021-10-01T10:48:18.534Z"
   },
   {
    "duration": 75,
    "start_time": "2021-10-01T10:48:47.684Z"
   },
   {
    "duration": 43,
    "start_time": "2021-10-01T10:49:13.617Z"
   },
   {
    "duration": 19,
    "start_time": "2021-10-01T10:53:01.641Z"
   },
   {
    "duration": 326,
    "start_time": "2021-10-01T10:57:24.069Z"
   },
   {
    "duration": 810,
    "start_time": "2021-10-01T10:57:54.047Z"
   },
   {
    "duration": 375,
    "start_time": "2021-10-01T10:57:54.859Z"
   },
   {
    "duration": -987,
    "start_time": "2021-10-01T10:57:56.224Z"
   },
   {
    "duration": 38,
    "start_time": "2021-10-01T10:58:23.392Z"
   },
   {
    "duration": 30,
    "start_time": "2021-10-01T11:00:12.142Z"
   },
   {
    "duration": 36,
    "start_time": "2021-10-01T11:02:12.606Z"
   },
   {
    "duration": 787,
    "start_time": "2021-10-01T11:02:21.872Z"
   },
   {
    "duration": 40,
    "start_time": "2021-10-01T11:02:22.662Z"
   },
   {
    "duration": 21,
    "start_time": "2021-10-01T11:02:22.706Z"
   },
   {
    "duration": 37,
    "start_time": "2021-10-01T11:03:14.622Z"
   },
   {
    "duration": 787,
    "start_time": "2021-10-01T11:03:29.746Z"
   },
   {
    "duration": 48,
    "start_time": "2021-10-01T11:03:30.535Z"
   },
   {
    "duration": 20,
    "start_time": "2021-10-01T11:03:30.586Z"
   },
   {
    "duration": 19,
    "start_time": "2021-10-01T11:05:41.988Z"
   },
   {
    "duration": 22,
    "start_time": "2021-10-01T11:12:45.757Z"
   },
   {
    "duration": 41,
    "start_time": "2021-10-01T11:13:30.267Z"
   },
   {
    "duration": 21,
    "start_time": "2021-10-01T11:14:34.427Z"
   },
   {
    "duration": 385,
    "start_time": "2021-10-01T11:30:04.539Z"
   },
   {
    "duration": 880,
    "start_time": "2021-10-01T11:30:17.921Z"
   },
   {
    "duration": 42,
    "start_time": "2021-10-01T11:30:18.804Z"
   },
   {
    "duration": 43,
    "start_time": "2021-10-01T11:30:18.849Z"
   },
   {
    "duration": 376,
    "start_time": "2021-10-01T11:30:18.895Z"
   },
   {
    "duration": 736,
    "start_time": "2021-10-01T11:31:00.424Z"
   },
   {
    "duration": 36,
    "start_time": "2021-10-01T11:31:01.163Z"
   },
   {
    "duration": 18,
    "start_time": "2021-10-01T11:31:01.202Z"
   },
   {
    "duration": 83,
    "start_time": "2021-10-01T11:31:01.222Z"
   },
   {
    "duration": 57,
    "start_time": "2021-10-01T11:32:43.293Z"
   },
   {
    "duration": 848,
    "start_time": "2021-10-01T11:43:30.996Z"
   },
   {
    "duration": 48,
    "start_time": "2021-10-01T11:43:31.848Z"
   },
   {
    "duration": 19,
    "start_time": "2021-10-01T11:43:31.899Z"
   },
   {
    "duration": 82,
    "start_time": "2021-10-01T11:43:31.920Z"
   },
   {
    "duration": 73,
    "start_time": "2021-10-01T11:47:37.744Z"
   },
   {
    "duration": 32,
    "start_time": "2021-10-01T11:47:37.820Z"
   },
   {
    "duration": 44,
    "start_time": "2021-10-01T11:47:37.855Z"
   },
   {
    "duration": 56,
    "start_time": "2021-10-01T11:47:37.902Z"
   },
   {
    "duration": 69,
    "start_time": "2021-10-01T11:48:16.090Z"
   },
   {
    "duration": 38,
    "start_time": "2021-10-01T11:48:16.162Z"
   },
   {
    "duration": 20,
    "start_time": "2021-10-01T11:48:16.203Z"
   },
   {
    "duration": 103,
    "start_time": "2021-10-01T11:48:16.225Z"
   },
   {
    "duration": 717,
    "start_time": "2021-10-01T11:49:12.033Z"
   },
   {
    "duration": 45,
    "start_time": "2021-10-01T11:49:12.753Z"
   },
   {
    "duration": 20,
    "start_time": "2021-10-01T11:49:12.801Z"
   },
   {
    "duration": 76,
    "start_time": "2021-10-01T11:49:12.824Z"
   },
   {
    "duration": 70,
    "start_time": "2021-10-01T11:55:37.100Z"
   },
   {
    "duration": 790,
    "start_time": "2021-10-01T11:56:09.218Z"
   },
   {
    "duration": 42,
    "start_time": "2021-10-01T11:56:10.011Z"
   },
   {
    "duration": 32,
    "start_time": "2021-10-01T11:56:10.057Z"
   },
   {
    "duration": 68,
    "start_time": "2021-10-01T11:56:10.091Z"
   },
   {
    "duration": 60,
    "start_time": "2021-10-01T11:57:12.764Z"
   },
   {
    "duration": 63,
    "start_time": "2021-10-01T11:58:32.377Z"
   },
   {
    "duration": 790,
    "start_time": "2021-10-01T12:00:40.561Z"
   },
   {
    "duration": 41,
    "start_time": "2021-10-01T12:00:41.354Z"
   },
   {
    "duration": 19,
    "start_time": "2021-10-01T12:00:41.398Z"
   },
   {
    "duration": 88,
    "start_time": "2021-10-01T12:00:41.420Z"
   },
   {
    "duration": 64,
    "start_time": "2021-10-01T12:01:41.386Z"
   },
   {
    "duration": 33,
    "start_time": "2021-10-01T12:01:41.454Z"
   },
   {
    "duration": 18,
    "start_time": "2021-10-01T12:01:41.489Z"
   },
   {
    "duration": 87,
    "start_time": "2021-10-01T12:01:41.510Z"
   },
   {
    "duration": 72,
    "start_time": "2021-10-01T12:02:27.703Z"
   },
   {
    "duration": 32,
    "start_time": "2021-10-01T12:02:27.778Z"
   },
   {
    "duration": 20,
    "start_time": "2021-10-01T12:02:27.813Z"
   },
   {
    "duration": 101,
    "start_time": "2021-10-01T12:02:27.836Z"
   },
   {
    "duration": 77,
    "start_time": "2021-10-01T12:16:04.961Z"
   },
   {
    "duration": 30,
    "start_time": "2021-10-01T12:16:05.041Z"
   },
   {
    "duration": 24,
    "start_time": "2021-10-01T12:16:05.073Z"
   },
   {
    "duration": 95,
    "start_time": "2021-10-01T12:16:05.100Z"
   },
   {
    "duration": 70,
    "start_time": "2021-10-01T12:17:04.724Z"
   },
   {
    "duration": 33,
    "start_time": "2021-10-01T12:17:04.797Z"
   },
   {
    "duration": 19,
    "start_time": "2021-10-01T12:17:04.833Z"
   },
   {
    "duration": 64,
    "start_time": "2021-10-01T12:17:04.883Z"
   },
   {
    "duration": 71,
    "start_time": "2021-10-01T12:18:08.700Z"
   },
   {
    "duration": 31,
    "start_time": "2021-10-01T12:18:08.774Z"
   },
   {
    "duration": 19,
    "start_time": "2021-10-01T12:18:08.808Z"
   },
   {
    "duration": 101,
    "start_time": "2021-10-01T12:18:08.830Z"
   },
   {
    "duration": 9,
    "start_time": "2021-10-01T12:22:33.140Z"
   },
   {
    "duration": 9,
    "start_time": "2021-10-01T12:25:18.331Z"
   },
   {
    "duration": 11,
    "start_time": "2021-10-01T12:26:34.171Z"
   },
   {
    "duration": 12,
    "start_time": "2021-10-01T12:28:46.439Z"
   },
   {
    "duration": 16,
    "start_time": "2021-10-01T12:30:39.784Z"
   },
   {
    "duration": 328,
    "start_time": "2021-10-01T12:32:56.554Z"
   },
   {
    "duration": 371,
    "start_time": "2021-10-01T12:34:01.586Z"
   },
   {
    "duration": 290,
    "start_time": "2021-10-01T12:34:57.331Z"
   },
   {
    "duration": 24,
    "start_time": "2021-10-01T12:35:40.104Z"
   },
   {
    "duration": 25,
    "start_time": "2021-10-01T12:37:29.587Z"
   },
   {
    "duration": 285,
    "start_time": "2021-10-01T12:38:01.741Z"
   },
   {
    "duration": 24,
    "start_time": "2021-10-01T12:39:04.951Z"
   },
   {
    "duration": 39,
    "start_time": "2021-10-01T12:41:50.627Z"
   },
   {
    "duration": 23,
    "start_time": "2021-10-01T12:42:17.928Z"
   },
   {
    "duration": 24,
    "start_time": "2021-10-01T12:44:44.441Z"
   },
   {
    "duration": 808,
    "start_time": "2021-10-01T12:50:09.245Z"
   },
   {
    "duration": 47,
    "start_time": "2021-10-01T12:50:10.055Z"
   },
   {
    "duration": 20,
    "start_time": "2021-10-01T12:50:10.105Z"
   },
   {
    "duration": 485,
    "start_time": "2021-10-01T12:50:10.128Z"
   },
   {
    "duration": -1080,
    "start_time": "2021-10-01T12:50:11.695Z"
   },
   {
    "duration": 347,
    "start_time": "2021-10-01T12:52:28.096Z"
   },
   {
    "duration": 784,
    "start_time": "2021-10-01T12:53:08.205Z"
   },
   {
    "duration": 41,
    "start_time": "2021-10-01T12:53:08.992Z"
   },
   {
    "duration": 20,
    "start_time": "2021-10-01T12:53:09.036Z"
   },
   {
    "duration": 89,
    "start_time": "2021-10-01T12:53:09.058Z"
   },
   {
    "duration": 3479,
    "start_time": "2021-10-01T12:53:09.150Z"
   },
   {
    "duration": 3935,
    "start_time": "2021-10-01T12:54:49.938Z"
   },
   {
    "duration": 804,
    "start_time": "2021-10-01T12:55:23.301Z"
   },
   {
    "duration": 42,
    "start_time": "2021-10-01T12:55:24.109Z"
   },
   {
    "duration": 41,
    "start_time": "2021-10-01T12:55:24.154Z"
   },
   {
    "duration": 86,
    "start_time": "2021-10-01T12:55:24.198Z"
   },
   {
    "duration": 3976,
    "start_time": "2021-10-01T12:55:24.286Z"
   },
   {
    "duration": 5320,
    "start_time": "2021-10-01T13:00:02.020Z"
   },
   {
    "duration": 4005,
    "start_time": "2021-10-01T13:00:59.987Z"
   },
   {
    "duration": 811,
    "start_time": "2021-10-01T13:02:46.594Z"
   },
   {
    "duration": 46,
    "start_time": "2021-10-01T13:02:47.408Z"
   },
   {
    "duration": 39,
    "start_time": "2021-10-01T13:02:47.458Z"
   },
   {
    "duration": 89,
    "start_time": "2021-10-01T13:02:47.500Z"
   },
   {
    "duration": 4125,
    "start_time": "2021-10-01T13:02:47.592Z"
   },
   {
    "duration": 3624,
    "start_time": "2021-10-01T13:04:03.852Z"
   },
   {
    "duration": 857,
    "start_time": "2021-10-01T13:14:25.769Z"
   },
   {
    "duration": 56,
    "start_time": "2021-10-01T13:14:26.630Z"
   },
   {
    "duration": 24,
    "start_time": "2021-10-01T13:14:26.690Z"
   },
   {
    "duration": 108,
    "start_time": "2021-10-01T13:14:26.716Z"
   },
   {
    "duration": 26,
    "start_time": "2021-10-01T13:14:26.826Z"
   },
   {
    "duration": 26,
    "start_time": "2021-10-01T13:17:22.184Z"
   },
   {
    "duration": 20,
    "start_time": "2021-10-01T13:18:38.435Z"
   },
   {
    "duration": 28,
    "start_time": "2021-10-01T13:19:24.515Z"
   },
   {
    "duration": 793,
    "start_time": "2021-10-01T13:19:40.783Z"
   },
   {
    "duration": 30,
    "start_time": "2021-10-01T13:19:41.579Z"
   },
   {
    "duration": 21,
    "start_time": "2021-10-01T13:19:41.612Z"
   },
   {
    "duration": 99,
    "start_time": "2021-10-01T13:19:41.635Z"
   },
   {
    "duration": 45,
    "start_time": "2021-10-01T13:19:41.737Z"
   },
   {
    "duration": 42,
    "start_time": "2021-10-01T13:20:09.684Z"
   },
   {
    "duration": 762,
    "start_time": "2021-10-01T13:20:19.520Z"
   },
   {
    "duration": 38,
    "start_time": "2021-10-01T13:20:20.285Z"
   },
   {
    "duration": 20,
    "start_time": "2021-10-01T13:20:20.326Z"
   },
   {
    "duration": 93,
    "start_time": "2021-10-01T13:20:20.349Z"
   },
   {
    "duration": 39,
    "start_time": "2021-10-01T13:20:20.445Z"
   },
   {
    "duration": 373,
    "start_time": "2021-10-01T13:27:56.660Z"
   },
   {
    "duration": 351,
    "start_time": "2021-10-01T17:12:14.894Z"
   },
   {
    "duration": 1182,
    "start_time": "2021-10-01T17:14:50.828Z"
   },
   {
    "duration": 71,
    "start_time": "2021-10-01T17:14:52.013Z"
   },
   {
    "duration": 20,
    "start_time": "2021-10-01T17:14:52.087Z"
   },
   {
    "duration": 90,
    "start_time": "2021-10-01T17:14:52.110Z"
   },
   {
    "duration": 35,
    "start_time": "2021-10-01T17:14:52.203Z"
   },
   {
    "duration": 376,
    "start_time": "2021-10-01T17:15:55.934Z"
   },
   {
    "duration": 399,
    "start_time": "2021-10-01T17:16:41.187Z"
   },
   {
    "duration": 287,
    "start_time": "2021-10-01T17:34:53.822Z"
   },
   {
    "duration": 907,
    "start_time": "2021-10-01T17:35:24.072Z"
   },
   {
    "duration": 47,
    "start_time": "2021-10-01T17:35:24.981Z"
   },
   {
    "duration": 23,
    "start_time": "2021-10-01T17:35:25.032Z"
   },
   {
    "duration": 83,
    "start_time": "2021-10-01T17:35:25.084Z"
   },
   {
    "duration": 673,
    "start_time": "2021-10-01T17:35:25.183Z"
   },
   {
    "duration": 35,
    "start_time": "2021-10-01T17:37:42.269Z"
   },
   {
    "duration": 636,
    "start_time": "2021-10-01T17:43:03.371Z"
   },
   {
    "duration": 929,
    "start_time": "2021-10-01T17:59:30.095Z"
   },
   {
    "duration": 1214,
    "start_time": "2021-10-01T18:00:15.635Z"
   },
   {
    "duration": 317,
    "start_time": "2021-10-01T18:18:14.071Z"
   },
   {
    "duration": 5515,
    "start_time": "2021-10-01T18:19:49.956Z"
   },
   {
    "duration": 4927,
    "start_time": "2021-10-01T18:20:41.600Z"
   },
   {
    "duration": 5309,
    "start_time": "2021-10-01T18:21:03.328Z"
   },
   {
    "duration": 4455,
    "start_time": "2021-10-01T18:23:24.958Z"
   },
   {
    "duration": 4422,
    "start_time": "2021-10-01T18:25:00.830Z"
   },
   {
    "duration": 320,
    "start_time": "2021-10-01T18:28:05.752Z"
   },
   {
    "duration": 919,
    "start_time": "2021-10-01T18:28:49.869Z"
   },
   {
    "duration": 403,
    "start_time": "2021-10-01T18:33:55.244Z"
   },
   {
    "duration": 304,
    "start_time": "2021-10-01T18:41:05.206Z"
   },
   {
    "duration": 315,
    "start_time": "2021-10-01T18:45:31.594Z"
   },
   {
    "duration": 287,
    "start_time": "2021-10-01T18:48:32.296Z"
   },
   {
    "duration": 42,
    "start_time": "2021-10-01T18:49:14.428Z"
   },
   {
    "duration": 266,
    "start_time": "2021-10-02T16:36:13.501Z"
   },
   {
    "duration": 618,
    "start_time": "2021-10-02T16:36:24.345Z"
   },
   {
    "duration": 30,
    "start_time": "2021-10-02T16:36:24.965Z"
   },
   {
    "duration": 20,
    "start_time": "2021-10-02T16:36:24.996Z"
   },
   {
    "duration": 49,
    "start_time": "2021-10-02T16:36:25.018Z"
   },
   {
    "duration": 2610,
    "start_time": "2021-10-02T16:36:25.068Z"
   },
   {
    "duration": 2483,
    "start_time": "2021-10-02T17:23:29.252Z"
   },
   {
    "duration": 2632,
    "start_time": "2021-10-02T17:32:41.431Z"
   },
   {
    "duration": 2646,
    "start_time": "2021-10-02T17:35:53.498Z"
   },
   {
    "duration": 2621,
    "start_time": "2021-10-02T17:36:29.387Z"
   },
   {
    "duration": 632,
    "start_time": "2021-10-02T17:36:57.015Z"
   },
   {
    "duration": 27,
    "start_time": "2021-10-02T17:36:57.649Z"
   },
   {
    "duration": 33,
    "start_time": "2021-10-02T17:36:57.677Z"
   },
   {
    "duration": 64,
    "start_time": "2021-10-02T17:36:57.713Z"
   },
   {
    "duration": 2697,
    "start_time": "2021-10-02T17:36:57.779Z"
   },
   {
    "duration": 2720,
    "start_time": "2021-10-02T17:38:27.571Z"
   },
   {
    "duration": 2663,
    "start_time": "2021-10-02T17:39:54.033Z"
   },
   {
    "duration": 2712,
    "start_time": "2021-10-02T17:40:58.184Z"
   },
   {
    "duration": 2723,
    "start_time": "2021-10-02T17:42:03.118Z"
   },
   {
    "duration": 2669,
    "start_time": "2021-10-02T17:45:11.113Z"
   },
   {
    "duration": 2686,
    "start_time": "2021-10-02T17:46:48.708Z"
   },
   {
    "duration": 609,
    "start_time": "2021-10-02T17:50:54.042Z"
   },
   {
    "duration": 26,
    "start_time": "2021-10-02T17:50:54.653Z"
   },
   {
    "duration": 31,
    "start_time": "2021-10-02T17:50:54.680Z"
   },
   {
    "duration": 49,
    "start_time": "2021-10-02T17:50:54.714Z"
   },
   {
    "duration": 2670,
    "start_time": "2021-10-02T17:50:54.765Z"
   },
   {
    "duration": 69,
    "start_time": "2021-10-02T17:54:26.768Z"
   },
   {
    "duration": 24,
    "start_time": "2021-10-02T17:54:26.838Z"
   },
   {
    "duration": 15,
    "start_time": "2021-10-02T17:54:26.863Z"
   },
   {
    "duration": 69,
    "start_time": "2021-10-02T17:54:26.879Z"
   },
   {
    "duration": 2765,
    "start_time": "2021-10-02T17:54:26.949Z"
   },
   {
    "duration": 2709,
    "start_time": "2021-10-02T18:28:40.847Z"
   },
   {
    "duration": 2795,
    "start_time": "2021-10-02T18:30:56.355Z"
   },
   {
    "duration": 2795,
    "start_time": "2021-10-02T18:41:28.541Z"
   },
   {
    "duration": 2699,
    "start_time": "2021-10-02T18:46:48.400Z"
   },
   {
    "duration": 2729,
    "start_time": "2021-10-02T18:48:06.025Z"
   },
   {
    "duration": 2738,
    "start_time": "2021-10-02T18:50:09.281Z"
   },
   {
    "duration": 2704,
    "start_time": "2021-10-02T18:51:31.114Z"
   },
   {
    "duration": 658,
    "start_time": "2021-10-02T18:53:10.775Z"
   },
   {
    "duration": 26,
    "start_time": "2021-10-02T18:53:11.435Z"
   },
   {
    "duration": 13,
    "start_time": "2021-10-02T18:53:11.463Z"
   },
   {
    "duration": 59,
    "start_time": "2021-10-02T18:53:11.499Z"
   },
   {
    "duration": 2626,
    "start_time": "2021-10-02T18:53:11.560Z"
   },
   {
    "duration": 60,
    "start_time": "2021-10-02T19:15:32.220Z"
   },
   {
    "duration": 57,
    "start_time": "2021-10-02T19:15:46.112Z"
   },
   {
    "duration": 51,
    "start_time": "2021-10-02T19:34:40.450Z"
   },
   {
    "duration": 33,
    "start_time": "2021-10-02T19:34:40.693Z"
   },
   {
    "duration": 15,
    "start_time": "2021-10-02T19:34:40.727Z"
   },
   {
    "duration": 68,
    "start_time": "2021-10-02T19:34:40.743Z"
   },
   {
    "duration": 2749,
    "start_time": "2021-10-02T19:34:40.813Z"
   },
   {
    "duration": 59,
    "start_time": "2021-10-02T19:56:04.339Z"
   },
   {
    "duration": 29,
    "start_time": "2021-10-02T19:56:04.401Z"
   },
   {
    "duration": 18,
    "start_time": "2021-10-02T19:56:04.592Z"
   },
   {
    "duration": 48,
    "start_time": "2021-10-02T19:56:04.735Z"
   },
   {
    "duration": 2758,
    "start_time": "2021-10-02T19:56:04.786Z"
   },
   {
    "duration": 72,
    "start_time": "2021-10-02T20:03:23.099Z"
   },
   {
    "duration": 630,
    "start_time": "2021-10-02T20:03:34.406Z"
   },
   {
    "duration": 31,
    "start_time": "2021-10-02T20:03:35.038Z"
   },
   {
    "duration": 37,
    "start_time": "2021-10-02T20:03:35.071Z"
   },
   {
    "duration": 69,
    "start_time": "2021-10-02T20:03:35.111Z"
   },
   {
    "duration": 2653,
    "start_time": "2021-10-02T20:03:35.182Z"
   },
   {
    "duration": 84,
    "start_time": "2021-10-02T20:04:07.177Z"
   },
   {
    "duration": 596,
    "start_time": "2021-10-02T20:04:19.431Z"
   },
   {
    "duration": 31,
    "start_time": "2021-10-02T20:04:20.035Z"
   },
   {
    "duration": 38,
    "start_time": "2021-10-02T20:04:20.068Z"
   },
   {
    "duration": 71,
    "start_time": "2021-10-02T20:04:20.108Z"
   },
   {
    "duration": 2654,
    "start_time": "2021-10-02T20:04:20.181Z"
   },
   {
    "duration": 71,
    "start_time": "2021-10-02T20:05:03.484Z"
   },
   {
    "duration": 649,
    "start_time": "2021-10-02T20:05:13.120Z"
   },
   {
    "duration": 28,
    "start_time": "2021-10-02T20:05:13.771Z"
   },
   {
    "duration": 23,
    "start_time": "2021-10-02T20:05:13.802Z"
   },
   {
    "duration": 73,
    "start_time": "2021-10-02T20:05:13.827Z"
   },
   {
    "duration": 2639,
    "start_time": "2021-10-02T20:05:13.902Z"
   },
   {
    "duration": 278,
    "start_time": "2021-10-02T20:09:17.839Z"
   },
   {
    "duration": 214,
    "start_time": "2021-10-02T20:10:22.231Z"
   },
   {
    "duration": 214,
    "start_time": "2021-10-02T20:11:26.258Z"
   },
   {
    "duration": 623,
    "start_time": "2021-10-02T20:11:43.857Z"
   },
   {
    "duration": 37,
    "start_time": "2021-10-02T20:11:44.482Z"
   },
   {
    "duration": 16,
    "start_time": "2021-10-02T20:11:44.521Z"
   },
   {
    "duration": 266,
    "start_time": "2021-10-02T20:11:44.538Z"
   },
   {
    "duration": -217,
    "start_time": "2021-10-02T20:11:45.023Z"
   },
   {
    "duration": 585,
    "start_time": "2021-10-02T20:20:26.546Z"
   },
   {
    "duration": 26,
    "start_time": "2021-10-02T20:20:27.133Z"
   },
   {
    "duration": 15,
    "start_time": "2021-10-02T20:20:27.162Z"
   },
   {
    "duration": 4525,
    "start_time": "2021-10-02T20:20:27.199Z"
   },
   {
    "duration": -263,
    "start_time": "2021-10-02T20:20:31.989Z"
   },
   {
    "duration": 632,
    "start_time": "2021-10-02T20:23:22.585Z"
   },
   {
    "duration": 27,
    "start_time": "2021-10-02T20:23:23.219Z"
   },
   {
    "duration": 14,
    "start_time": "2021-10-02T20:23:23.248Z"
   },
   {
    "duration": 461,
    "start_time": "2021-10-02T20:23:23.264Z"
   },
   {
    "duration": -213,
    "start_time": "2021-10-02T20:23:23.940Z"
   },
   {
    "duration": 2603,
    "start_time": "2021-10-02T20:24:15.474Z"
   },
   {
    "duration": 7821,
    "start_time": "2021-10-02T20:27:59.681Z"
   },
   {
    "duration": 598,
    "start_time": "2021-10-02T20:28:11.132Z"
   },
   {
    "duration": 27,
    "start_time": "2021-10-02T20:28:11.731Z"
   },
   {
    "duration": 13,
    "start_time": "2021-10-02T20:28:11.760Z"
   },
   {
    "duration": 5204,
    "start_time": "2021-10-02T20:28:11.775Z"
   },
   {
    "duration": -269,
    "start_time": "2021-10-02T20:28:17.251Z"
   },
   {
    "duration": 346,
    "start_time": "2021-10-02T20:31:48.667Z"
   },
   {
    "duration": 580,
    "start_time": "2021-10-02T20:31:57.941Z"
   },
   {
    "duration": 28,
    "start_time": "2021-10-02T20:31:58.523Z"
   },
   {
    "duration": 13,
    "start_time": "2021-10-02T20:31:58.553Z"
   },
   {
    "duration": 461,
    "start_time": "2021-10-02T20:31:58.568Z"
   },
   {
    "duration": -254,
    "start_time": "2021-10-02T20:31:59.285Z"
   },
   {
    "duration": 111,
    "start_time": "2021-10-02T20:36:15.630Z"
   },
   {
    "duration": 639,
    "start_time": "2021-10-02T20:36:27.271Z"
   },
   {
    "duration": 34,
    "start_time": "2021-10-02T20:36:27.912Z"
   },
   {
    "duration": 22,
    "start_time": "2021-10-02T20:36:27.948Z"
   },
   {
    "duration": 141,
    "start_time": "2021-10-02T20:36:27.973Z"
   },
   {
    "duration": 2651,
    "start_time": "2021-10-02T20:36:28.119Z"
   },
   {
    "duration": 616,
    "start_time": "2021-10-02T20:40:44.215Z"
   },
   {
    "duration": 29,
    "start_time": "2021-10-02T20:40:44.833Z"
   },
   {
    "duration": 34,
    "start_time": "2021-10-02T20:40:44.866Z"
   },
   {
    "duration": 98,
    "start_time": "2021-10-02T20:40:44.901Z"
   },
   {
    "duration": 2447,
    "start_time": "2021-10-02T20:40:45.002Z"
   },
   {
    "duration": 126,
    "start_time": "2021-10-02T20:43:26.869Z"
   },
   {
    "duration": 624,
    "start_time": "2021-10-02T20:44:44.381Z"
   },
   {
    "duration": 29,
    "start_time": "2021-10-02T20:44:45.008Z"
   },
   {
    "duration": 15,
    "start_time": "2021-10-02T20:44:45.040Z"
   },
   {
    "duration": 114,
    "start_time": "2021-10-02T20:44:45.057Z"
   },
   {
    "duration": 2480,
    "start_time": "2021-10-02T20:44:45.173Z"
   },
   {
    "duration": 628,
    "start_time": "2021-10-02T20:45:25.482Z"
   },
   {
    "duration": 27,
    "start_time": "2021-10-02T20:45:26.112Z"
   },
   {
    "duration": 14,
    "start_time": "2021-10-02T20:45:26.141Z"
   },
   {
    "duration": 117,
    "start_time": "2021-10-02T20:45:26.157Z"
   },
   {
    "duration": 2514,
    "start_time": "2021-10-02T20:45:26.276Z"
   },
   {
    "duration": 600,
    "start_time": "2021-10-02T21:09:23.951Z"
   },
   {
    "duration": 26,
    "start_time": "2021-10-02T21:09:24.555Z"
   },
   {
    "duration": 32,
    "start_time": "2021-10-02T21:09:24.583Z"
   },
   {
    "duration": 108,
    "start_time": "2021-10-02T21:09:24.617Z"
   },
   {
    "duration": 2584,
    "start_time": "2021-10-02T21:09:24.727Z"
   },
   {
    "duration": 633,
    "start_time": "2021-10-02T21:15:04.194Z"
   },
   {
    "duration": 29,
    "start_time": "2021-10-02T21:15:04.829Z"
   },
   {
    "duration": 14,
    "start_time": "2021-10-02T21:15:04.860Z"
   },
   {
    "duration": 112,
    "start_time": "2021-10-02T21:15:04.876Z"
   },
   {
    "duration": 2528,
    "start_time": "2021-10-02T21:15:04.990Z"
   },
   {
    "duration": 604,
    "start_time": "2021-10-02T21:29:03.847Z"
   },
   {
    "duration": 26,
    "start_time": "2021-10-02T21:29:04.453Z"
   },
   {
    "duration": 29,
    "start_time": "2021-10-02T21:29:04.481Z"
   },
   {
    "duration": 106,
    "start_time": "2021-10-02T21:29:04.512Z"
   },
   {
    "duration": 2736,
    "start_time": "2021-10-02T21:29:04.621Z"
   },
   {
    "duration": 94,
    "start_time": "2021-10-03T08:55:36.216Z"
   },
   {
    "duration": 350,
    "start_time": "2021-10-03T08:55:58.446Z"
   },
   {
    "duration": 847,
    "start_time": "2021-10-03T08:56:33.102Z"
   },
   {
    "duration": 42,
    "start_time": "2021-10-03T08:56:33.952Z"
   },
   {
    "duration": 51,
    "start_time": "2021-10-03T08:56:33.998Z"
   },
   {
    "duration": 234,
    "start_time": "2021-10-03T08:56:34.052Z"
   },
   {
    "duration": 3613,
    "start_time": "2021-10-03T08:56:34.289Z"
   },
   {
    "duration": 29,
    "start_time": "2021-10-03T08:58:28.794Z"
   },
   {
    "duration": 22,
    "start_time": "2021-10-03T08:58:57.385Z"
   },
   {
    "duration": 33,
    "start_time": "2021-10-03T09:00:23.864Z"
   },
   {
    "duration": 23,
    "start_time": "2021-10-03T09:01:06.359Z"
   },
   {
    "duration": 180,
    "start_time": "2021-10-03T09:04:29.660Z"
   },
   {
    "duration": 1028,
    "start_time": "2021-10-03T09:04:39.757Z"
   },
   {
    "duration": 67,
    "start_time": "2021-10-03T09:04:40.788Z"
   },
   {
    "duration": 33,
    "start_time": "2021-10-03T09:04:40.859Z"
   },
   {
    "duration": 219,
    "start_time": "2021-10-03T09:04:40.895Z"
   },
   {
    "duration": 3376,
    "start_time": "2021-10-03T09:04:41.117Z"
   },
   {
    "duration": 195,
    "start_time": "2021-10-03T09:07:43.394Z"
   },
   {
    "duration": 203,
    "start_time": "2021-10-03T09:08:12.698Z"
   },
   {
    "duration": 835,
    "start_time": "2021-10-03T09:08:51.548Z"
   },
   {
    "duration": 63,
    "start_time": "2021-10-03T09:08:52.385Z"
   },
   {
    "duration": 23,
    "start_time": "2021-10-03T09:08:52.452Z"
   },
   {
    "duration": 173,
    "start_time": "2021-10-03T09:08:52.479Z"
   },
   {
    "duration": 3251,
    "start_time": "2021-10-03T09:08:52.655Z"
   },
   {
    "duration": 200,
    "start_time": "2021-10-03T09:10:38.854Z"
   },
   {
    "duration": 795,
    "start_time": "2021-10-03T09:10:56.261Z"
   },
   {
    "duration": 39,
    "start_time": "2021-10-03T09:10:57.058Z"
   },
   {
    "duration": 37,
    "start_time": "2021-10-03T09:10:57.100Z"
   },
   {
    "duration": 150,
    "start_time": "2021-10-03T09:10:57.140Z"
   },
   {
    "duration": 3489,
    "start_time": "2021-10-03T09:10:57.292Z"
   },
   {
    "duration": 3481,
    "start_time": "2021-10-03T09:14:26.222Z"
   },
   {
    "duration": 3251,
    "start_time": "2021-10-03T09:16:22.166Z"
   },
   {
    "duration": 3372,
    "start_time": "2021-10-03T09:18:12.390Z"
   },
   {
    "duration": 3509,
    "start_time": "2021-10-03T09:18:33.278Z"
   },
   {
    "duration": 3480,
    "start_time": "2021-10-03T09:18:53.314Z"
   },
   {
    "duration": 822,
    "start_time": "2021-10-03T09:23:42.635Z"
   },
   {
    "duration": 39,
    "start_time": "2021-10-03T09:23:43.459Z"
   },
   {
    "duration": 36,
    "start_time": "2021-10-03T09:23:43.501Z"
   },
   {
    "duration": 154,
    "start_time": "2021-10-03T09:23:43.540Z"
   },
   {
    "duration": 3252,
    "start_time": "2021-10-03T09:23:43.697Z"
   },
   {
    "duration": 370,
    "start_time": "2021-10-03T10:05:15.798Z"
   },
   {
    "duration": 309,
    "start_time": "2021-10-03T10:07:50.442Z"
   },
   {
    "duration": 291,
    "start_time": "2021-10-03T10:08:11.084Z"
   },
   {
    "duration": 263,
    "start_time": "2021-10-03T10:08:55.155Z"
   },
   {
    "duration": 299,
    "start_time": "2021-10-03T10:09:26.581Z"
   },
   {
    "duration": 268,
    "start_time": "2021-10-03T10:10:50.069Z"
   },
   {
    "duration": 271,
    "start_time": "2021-10-03T10:11:09.255Z"
   },
   {
    "duration": 309,
    "start_time": "2021-10-03T10:12:34.170Z"
   },
   {
    "duration": 289,
    "start_time": "2021-10-03T10:13:19.401Z"
   },
   {
    "duration": 298,
    "start_time": "2021-10-03T10:14:28.973Z"
   },
   {
    "duration": 281,
    "start_time": "2021-10-03T10:16:55.559Z"
   },
   {
    "duration": 371,
    "start_time": "2021-10-03T10:17:45.784Z"
   },
   {
    "duration": 285,
    "start_time": "2021-10-03T10:21:31.716Z"
   },
   {
    "duration": 292,
    "start_time": "2021-10-03T10:22:54.899Z"
   },
   {
    "duration": 834,
    "start_time": "2021-10-03T10:23:38.589Z"
   },
   {
    "duration": 41,
    "start_time": "2021-10-03T10:23:39.426Z"
   },
   {
    "duration": 22,
    "start_time": "2021-10-03T10:23:39.470Z"
   },
   {
    "duration": 168,
    "start_time": "2021-10-03T10:23:39.494Z"
   },
   {
    "duration": 3388,
    "start_time": "2021-10-03T10:23:39.665Z"
   },
   {
    "duration": 363,
    "start_time": "2021-10-03T10:23:43.055Z"
   },
   {
    "duration": 288,
    "start_time": "2021-10-03T10:27:49.027Z"
   },
   {
    "duration": 14,
    "start_time": "2021-10-03T10:28:03.486Z"
   },
   {
    "duration": 821,
    "start_time": "2021-10-03T10:28:27.413Z"
   },
   {
    "duration": 39,
    "start_time": "2021-10-03T10:28:28.236Z"
   },
   {
    "duration": 20,
    "start_time": "2021-10-03T10:28:28.277Z"
   },
   {
    "duration": 154,
    "start_time": "2021-10-03T10:28:28.321Z"
   },
   {
    "duration": 3258,
    "start_time": "2021-10-03T10:28:28.477Z"
   },
   {
    "duration": 14,
    "start_time": "2021-10-03T10:28:31.737Z"
   },
   {
    "duration": 310,
    "start_time": "2021-10-03T12:43:05.309Z"
   },
   {
    "duration": 789,
    "start_time": "2021-10-03T12:43:19.910Z"
   },
   {
    "duration": 40,
    "start_time": "2021-10-03T12:43:20.701Z"
   },
   {
    "duration": 48,
    "start_time": "2021-10-03T12:43:20.746Z"
   },
   {
    "duration": 161,
    "start_time": "2021-10-03T12:43:20.797Z"
   },
   {
    "duration": 3598,
    "start_time": "2021-10-03T12:43:20.961Z"
   },
   {
    "duration": 355,
    "start_time": "2021-10-03T12:43:24.562Z"
   },
   {
    "duration": 315,
    "start_time": "2021-10-03T12:47:59.984Z"
   },
   {
    "duration": 269,
    "start_time": "2021-10-03T12:49:46.201Z"
   },
   {
    "duration": 240,
    "start_time": "2021-10-03T12:51:19.794Z"
   },
   {
    "duration": 65,
    "start_time": "2021-10-03T13:02:47.419Z"
   },
   {
    "duration": 355,
    "start_time": "2021-10-03T13:07:49.303Z"
   },
   {
    "duration": 58,
    "start_time": "2021-10-03T13:08:03.310Z"
   },
   {
    "duration": 65,
    "start_time": "2021-10-03T13:12:23.890Z"
   },
   {
    "duration": 234,
    "start_time": "2021-10-03T13:19:42.031Z"
   },
   {
    "duration": 305,
    "start_time": "2021-10-03T13:21:20.461Z"
   },
   {
    "duration": 241,
    "start_time": "2021-10-03T13:21:43.916Z"
   },
   {
    "duration": 284,
    "start_time": "2021-10-03T13:23:03.956Z"
   },
   {
    "duration": 17,
    "start_time": "2021-10-03T13:23:19.938Z"
   },
   {
    "duration": 1472,
    "start_time": "2021-10-03T13:23:54.232Z"
   },
   {
    "duration": 42,
    "start_time": "2021-10-03T13:23:55.708Z"
   },
   {
    "duration": 45,
    "start_time": "2021-10-03T13:23:55.755Z"
   },
   {
    "duration": 162,
    "start_time": "2021-10-03T13:23:55.803Z"
   },
   {
    "duration": 3385,
    "start_time": "2021-10-03T13:23:55.968Z"
   },
   {
    "duration": 50,
    "start_time": "2021-10-03T13:23:59.356Z"
   },
   {
    "duration": 19,
    "start_time": "2021-10-03T13:24:29.453Z"
   },
   {
    "duration": 21,
    "start_time": "2021-10-03T13:24:58.900Z"
   },
   {
    "duration": 21,
    "start_time": "2021-10-03T13:31:40.035Z"
   },
   {
    "duration": 825,
    "start_time": "2021-10-03T13:31:50.656Z"
   },
   {
    "duration": 39,
    "start_time": "2021-10-03T13:31:51.483Z"
   },
   {
    "duration": 22,
    "start_time": "2021-10-03T13:31:51.525Z"
   },
   {
    "duration": 188,
    "start_time": "2021-10-03T13:31:51.549Z"
   },
   {
    "duration": 3151,
    "start_time": "2021-10-03T13:31:51.740Z"
   },
   {
    "duration": 28,
    "start_time": "2021-10-03T13:31:54.894Z"
   },
   {
    "duration": 19,
    "start_time": "2021-10-03T13:32:08.937Z"
   },
   {
    "duration": 19,
    "start_time": "2021-10-03T13:38:07.236Z"
   },
   {
    "duration": 387,
    "start_time": "2021-10-03T13:55:31.284Z"
   },
   {
    "duration": 24,
    "start_time": "2021-10-03T13:56:44.363Z"
   },
   {
    "duration": 387,
    "start_time": "2021-10-03T14:01:30.557Z"
   },
   {
    "duration": 763,
    "start_time": "2021-10-03T14:02:31.683Z"
   },
   {
    "duration": 46,
    "start_time": "2021-10-03T14:02:32.449Z"
   },
   {
    "duration": 21,
    "start_time": "2021-10-03T14:02:32.499Z"
   },
   {
    "duration": 162,
    "start_time": "2021-10-03T14:02:32.523Z"
   },
   {
    "duration": 3281,
    "start_time": "2021-10-03T14:02:32.688Z"
   },
   {
    "duration": 395,
    "start_time": "2021-10-03T14:02:35.971Z"
   },
   {
    "duration": 2771,
    "start_time": "2021-10-03T14:03:22.561Z"
   },
   {
    "duration": 23,
    "start_time": "2021-10-03T14:03:55.918Z"
   },
   {
    "duration": 18,
    "start_time": "2021-10-03T14:04:17.242Z"
   },
   {
    "duration": 250,
    "start_time": "2021-10-03T14:10:22.136Z"
   },
   {
    "duration": 748,
    "start_time": "2021-10-03T14:14:31.153Z"
   },
   {
    "duration": 740,
    "start_time": "2021-10-03T14:15:06.726Z"
   },
   {
    "duration": 770,
    "start_time": "2021-10-03T14:15:24.023Z"
   },
   {
    "duration": 39,
    "start_time": "2021-10-03T14:15:24.796Z"
   },
   {
    "duration": 20,
    "start_time": "2021-10-03T14:15:24.838Z"
   },
   {
    "duration": 154,
    "start_time": "2021-10-03T14:15:24.883Z"
   },
   {
    "duration": 3254,
    "start_time": "2021-10-03T14:15:25.040Z"
   },
   {
    "duration": 844,
    "start_time": "2021-10-03T14:15:28.297Z"
   },
   {
    "duration": 154,
    "start_time": "2021-10-03T14:19:29.557Z"
   },
   {
    "duration": 142,
    "start_time": "2021-10-03T14:20:00.596Z"
   },
   {
    "duration": 944,
    "start_time": "2021-10-03T14:20:27.648Z"
   },
   {
    "duration": 44,
    "start_time": "2021-10-03T14:20:28.595Z"
   },
   {
    "duration": 51,
    "start_time": "2021-10-03T14:20:28.642Z"
   },
   {
    "duration": 165,
    "start_time": "2021-10-03T14:20:28.695Z"
   },
   {
    "duration": 3288,
    "start_time": "2021-10-03T14:20:28.863Z"
   },
   {
    "duration": 79,
    "start_time": "2021-10-03T14:20:32.154Z"
   },
   {
    "duration": 863,
    "start_time": "2021-10-03T14:21:06.663Z"
   },
   {
    "duration": 3818,
    "start_time": "2021-10-03T14:21:56.481Z"
   },
   {
    "duration": 3895,
    "start_time": "2021-10-03T14:22:39.806Z"
   },
   {
    "duration": 155,
    "start_time": "2021-10-03T14:24:07.395Z"
   },
   {
    "duration": 3952,
    "start_time": "2021-10-03T14:24:15.455Z"
   },
   {
    "duration": 57,
    "start_time": "2021-10-03T14:34:28.662Z"
   },
   {
    "duration": 458,
    "start_time": "2021-10-03T14:36:27.543Z"
   },
   {
    "duration": 304,
    "start_time": "2021-10-03T14:37:09.547Z"
   },
   {
    "duration": 979,
    "start_time": "2021-10-03T14:37:20.368Z"
   },
   {
    "duration": 65,
    "start_time": "2021-10-03T14:37:21.350Z"
   },
   {
    "duration": 24,
    "start_time": "2021-10-03T14:37:21.418Z"
   },
   {
    "duration": 186,
    "start_time": "2021-10-03T14:37:21.444Z"
   },
   {
    "duration": 3587,
    "start_time": "2021-10-03T14:37:21.633Z"
   },
   {
    "duration": 69,
    "start_time": "2021-10-03T14:37:25.222Z"
   },
   {
    "duration": 392,
    "start_time": "2021-10-03T14:38:38.347Z"
   },
   {
    "duration": 821,
    "start_time": "2021-10-03T14:39:09.319Z"
   },
   {
    "duration": 53,
    "start_time": "2021-10-03T14:39:10.143Z"
   },
   {
    "duration": 22,
    "start_time": "2021-10-03T14:39:10.200Z"
   },
   {
    "duration": 186,
    "start_time": "2021-10-03T14:39:10.224Z"
   },
   {
    "duration": 4044,
    "start_time": "2021-10-03T14:39:10.413Z"
   },
   {
    "duration": 58,
    "start_time": "2021-10-03T14:39:14.459Z"
   },
   {
    "duration": 31,
    "start_time": "2021-10-03T14:53:37.685Z"
   },
   {
    "duration": 28,
    "start_time": "2021-10-03T14:59:22.395Z"
   },
   {
    "duration": 943,
    "start_time": "2021-10-03T15:10:09.570Z"
   },
   {
    "duration": 73,
    "start_time": "2021-10-03T15:10:10.516Z"
   },
   {
    "duration": 33,
    "start_time": "2021-10-03T15:10:10.594Z"
   },
   {
    "duration": 231,
    "start_time": "2021-10-03T15:10:10.630Z"
   },
   {
    "duration": 3555,
    "start_time": "2021-10-03T15:10:10.864Z"
   },
   {
    "duration": 35,
    "start_time": "2021-10-03T15:10:14.422Z"
   },
   {
    "duration": 971,
    "start_time": "2021-10-03T15:11:18.083Z"
   },
   {
    "duration": 74,
    "start_time": "2021-10-03T15:11:19.057Z"
   },
   {
    "duration": 50,
    "start_time": "2021-10-03T15:11:19.135Z"
   },
   {
    "duration": 214,
    "start_time": "2021-10-03T15:11:19.190Z"
   },
   {
    "duration": 3996,
    "start_time": "2021-10-03T15:11:19.409Z"
   },
   {
    "duration": 38,
    "start_time": "2021-10-03T15:11:23.408Z"
   },
   {
    "duration": 29,
    "start_time": "2021-10-03T15:17:54.222Z"
   },
   {
    "duration": 871,
    "start_time": "2021-10-03T15:18:21.890Z"
   },
   {
    "duration": 64,
    "start_time": "2021-10-03T15:18:22.765Z"
   },
   {
    "duration": 51,
    "start_time": "2021-10-03T15:18:22.833Z"
   },
   {
    "duration": 228,
    "start_time": "2021-10-03T15:18:22.887Z"
   },
   {
    "duration": 3419,
    "start_time": "2021-10-03T15:18:23.118Z"
   },
   {
    "duration": 61,
    "start_time": "2021-10-03T15:18:26.540Z"
   },
   {
    "duration": 361,
    "start_time": "2021-10-03T15:19:08.336Z"
   },
   {
    "duration": 296,
    "start_time": "2021-10-03T15:19:37.350Z"
   },
   {
    "duration": 311,
    "start_time": "2021-10-03T15:19:49.874Z"
   },
   {
    "duration": 27,
    "start_time": "2021-10-03T15:22:29.237Z"
   },
   {
    "duration": 854,
    "start_time": "2021-10-03T15:22:51.596Z"
   },
   {
    "duration": 55,
    "start_time": "2021-10-03T15:22:52.453Z"
   },
   {
    "duration": 21,
    "start_time": "2021-10-03T15:22:52.512Z"
   },
   {
    "duration": 184,
    "start_time": "2021-10-03T15:22:52.536Z"
   },
   {
    "duration": 3285,
    "start_time": "2021-10-03T15:22:52.722Z"
   },
   {
    "duration": 35,
    "start_time": "2021-10-03T15:22:56.009Z"
   },
   {
    "duration": 33,
    "start_time": "2021-10-03T15:27:42.614Z"
   },
   {
    "duration": 29,
    "start_time": "2021-10-03T15:29:56.964Z"
   },
   {
    "duration": 822,
    "start_time": "2021-10-03T15:35:22.593Z"
   },
   {
    "duration": 40,
    "start_time": "2021-10-03T15:35:23.418Z"
   },
   {
    "duration": 47,
    "start_time": "2021-10-03T15:35:23.461Z"
   },
   {
    "duration": 166,
    "start_time": "2021-10-03T15:35:23.511Z"
   },
   {
    "duration": 3331,
    "start_time": "2021-10-03T15:35:23.682Z"
   },
   {
    "duration": 38,
    "start_time": "2021-10-03T15:35:27.015Z"
   },
   {
    "duration": 876,
    "start_time": "2021-10-03T15:38:08.071Z"
   },
   {
    "duration": 57,
    "start_time": "2021-10-03T15:38:08.950Z"
   },
   {
    "duration": 36,
    "start_time": "2021-10-03T15:38:09.011Z"
   },
   {
    "duration": 196,
    "start_time": "2021-10-03T15:38:09.051Z"
   },
   {
    "duration": 3494,
    "start_time": "2021-10-03T15:38:09.250Z"
   },
   {
    "duration": 78,
    "start_time": "2021-10-03T15:38:12.748Z"
   },
   {
    "duration": 49,
    "start_time": "2021-10-03T15:40:29.672Z"
   },
   {
    "duration": 801,
    "start_time": "2021-10-03T15:40:52.424Z"
   },
   {
    "duration": 41,
    "start_time": "2021-10-03T15:40:53.227Z"
   },
   {
    "duration": 31,
    "start_time": "2021-10-03T15:40:53.271Z"
   },
   {
    "duration": 212,
    "start_time": "2021-10-03T15:40:53.305Z"
   },
   {
    "duration": 4235,
    "start_time": "2021-10-03T15:40:53.520Z"
   },
   {
    "duration": 67,
    "start_time": "2021-10-03T15:40:57.758Z"
   },
   {
    "duration": 46,
    "start_time": "2021-10-03T15:44:13.586Z"
   },
   {
    "duration": 877,
    "start_time": "2021-10-03T15:44:24.162Z"
   },
   {
    "duration": 59,
    "start_time": "2021-10-03T15:44:25.041Z"
   },
   {
    "duration": 20,
    "start_time": "2021-10-03T15:44:25.103Z"
   },
   {
    "duration": 183,
    "start_time": "2021-10-03T15:44:25.126Z"
   },
   {
    "duration": 4260,
    "start_time": "2021-10-03T15:44:25.312Z"
   },
   {
    "duration": 68,
    "start_time": "2021-10-03T15:44:29.574Z"
   },
   {
    "duration": 42,
    "start_time": "2021-10-03T15:46:19.759Z"
   },
   {
    "duration": 45,
    "start_time": "2021-10-03T15:53:54.073Z"
   },
   {
    "duration": 765,
    "start_time": "2021-10-03T15:54:08.629Z"
   },
   {
    "duration": 39,
    "start_time": "2021-10-03T15:54:09.397Z"
   },
   {
    "duration": 47,
    "start_time": "2021-10-03T15:54:09.439Z"
   },
   {
    "duration": 154,
    "start_time": "2021-10-03T15:54:09.489Z"
   },
   {
    "duration": 3139,
    "start_time": "2021-10-03T15:54:09.646Z"
   },
   {
    "duration": 68,
    "start_time": "2021-10-03T15:54:12.787Z"
   },
   {
    "duration": 806,
    "start_time": "2021-10-03T16:16:19.981Z"
   },
   {
    "duration": 54,
    "start_time": "2021-10-03T16:16:20.790Z"
   },
   {
    "duration": 45,
    "start_time": "2021-10-03T16:16:20.847Z"
   },
   {
    "duration": 146,
    "start_time": "2021-10-03T16:16:20.894Z"
   },
   {
    "duration": 3185,
    "start_time": "2021-10-03T16:16:21.043Z"
   },
   {
    "duration": 79,
    "start_time": "2021-10-03T16:16:24.230Z"
   },
   {
    "duration": 759,
    "start_time": "2021-10-03T16:33:09.219Z"
   },
   {
    "duration": 55,
    "start_time": "2021-10-03T16:33:09.981Z"
   },
   {
    "duration": 46,
    "start_time": "2021-10-03T16:33:10.038Z"
   },
   {
    "duration": 154,
    "start_time": "2021-10-03T16:33:10.086Z"
   },
   {
    "duration": 3244,
    "start_time": "2021-10-03T16:33:10.243Z"
   },
   {
    "duration": 61,
    "start_time": "2021-10-03T16:33:13.490Z"
   },
   {
    "duration": 57,
    "start_time": "2021-10-03T16:37:21.710Z"
   },
   {
    "duration": 1072,
    "start_time": "2021-10-03T16:37:32.934Z"
   },
   {
    "duration": 72,
    "start_time": "2021-10-03T16:37:34.009Z"
   },
   {
    "duration": 23,
    "start_time": "2021-10-03T16:37:34.084Z"
   },
   {
    "duration": 157,
    "start_time": "2021-10-03T16:37:34.109Z"
   },
   {
    "duration": 3144,
    "start_time": "2021-10-03T16:37:34.268Z"
   },
   {
    "duration": 76,
    "start_time": "2021-10-03T16:37:37.415Z"
   },
   {
    "duration": 805,
    "start_time": "2021-10-03T16:52:29.240Z"
   },
   {
    "duration": 822,
    "start_time": "2021-10-03T16:52:30.048Z"
   },
   {
    "duration": -1025,
    "start_time": "2021-10-03T16:52:31.899Z"
   },
   {
    "duration": -1030,
    "start_time": "2021-10-03T16:52:31.907Z"
   },
   {
    "duration": -1035,
    "start_time": "2021-10-03T16:52:31.915Z"
   },
   {
    "duration": -1043,
    "start_time": "2021-10-03T16:52:31.925Z"
   },
   {
    "duration": 324,
    "start_time": "2021-10-03T16:57:51.920Z"
   },
   {
    "duration": 326,
    "start_time": "2021-10-03T17:03:10.762Z"
   },
   {
    "duration": 821,
    "start_time": "2021-10-03T17:03:20.449Z"
   },
   {
    "duration": 348,
    "start_time": "2021-10-03T17:03:21.273Z"
   },
   {
    "duration": -1002,
    "start_time": "2021-10-03T17:03:22.626Z"
   },
   {
    "duration": -1016,
    "start_time": "2021-10-03T17:03:22.641Z"
   },
   {
    "duration": -1031,
    "start_time": "2021-10-03T17:03:22.658Z"
   },
   {
    "duration": -1036,
    "start_time": "2021-10-03T17:03:22.665Z"
   },
   {
    "duration": 802,
    "start_time": "2021-10-03T18:12:35.342Z"
   },
   {
    "duration": 402,
    "start_time": "2021-10-03T18:12:36.147Z"
   },
   {
    "duration": -690,
    "start_time": "2021-10-03T18:12:37.242Z"
   },
   {
    "duration": -699,
    "start_time": "2021-10-03T18:12:37.252Z"
   },
   {
    "duration": -704,
    "start_time": "2021-10-03T18:12:37.259Z"
   },
   {
    "duration": -710,
    "start_time": "2021-10-03T18:12:37.266Z"
   },
   {
    "duration": 307,
    "start_time": "2021-10-03T18:13:58.335Z"
   },
   {
    "duration": 791,
    "start_time": "2021-10-03T18:14:19.486Z"
   },
   {
    "duration": 424,
    "start_time": "2021-10-03T18:14:20.279Z"
   },
   {
    "duration": -690,
    "start_time": "2021-10-03T18:14:21.397Z"
   },
   {
    "duration": -700,
    "start_time": "2021-10-03T18:14:21.409Z"
   },
   {
    "duration": -702,
    "start_time": "2021-10-03T18:14:21.414Z"
   },
   {
    "duration": -711,
    "start_time": "2021-10-03T18:14:21.425Z"
   },
   {
    "duration": 77,
    "start_time": "2021-10-03T18:15:17.463Z"
   },
   {
    "duration": 354,
    "start_time": "2021-10-03T18:15:17.544Z"
   },
   {
    "duration": -662,
    "start_time": "2021-10-03T18:15:18.562Z"
   },
   {
    "duration": -666,
    "start_time": "2021-10-03T18:15:18.568Z"
   },
   {
    "duration": -673,
    "start_time": "2021-10-03T18:15:18.576Z"
   },
   {
    "duration": -677,
    "start_time": "2021-10-03T18:15:18.582Z"
   },
   {
    "duration": 112,
    "start_time": "2021-10-03T18:16:48.433Z"
   },
   {
    "duration": 82,
    "start_time": "2021-10-03T18:16:48.548Z"
   },
   {
    "duration": 23,
    "start_time": "2021-10-03T18:16:48.634Z"
   },
   {
    "duration": 163,
    "start_time": "2021-10-03T18:16:48.659Z"
   },
   {
    "duration": 3231,
    "start_time": "2021-10-03T18:16:48.825Z"
   },
   {
    "duration": 72,
    "start_time": "2021-10-03T18:16:52.059Z"
   },
   {
    "duration": 81,
    "start_time": "2021-10-03T18:22:16.091Z"
   },
   {
    "duration": 260,
    "start_time": "2021-10-03T18:22:16.175Z"
   },
   {
    "duration": -807,
    "start_time": "2021-10-03T18:22:17.245Z"
   },
   {
    "duration": -821,
    "start_time": "2021-10-03T18:22:17.260Z"
   },
   {
    "duration": -832,
    "start_time": "2021-10-03T18:22:17.272Z"
   },
   {
    "duration": -837,
    "start_time": "2021-10-03T18:22:17.279Z"
   },
   {
    "duration": 80,
    "start_time": "2021-10-03T18:30:32.174Z"
   },
   {
    "duration": 326,
    "start_time": "2021-10-03T18:30:32.256Z"
   },
   {
    "duration": -732,
    "start_time": "2021-10-03T18:30:33.317Z"
   },
   {
    "duration": -751,
    "start_time": "2021-10-03T18:30:33.338Z"
   },
   {
    "duration": -784,
    "start_time": "2021-10-03T18:30:33.372Z"
   },
   {
    "duration": -864,
    "start_time": "2021-10-03T18:30:33.454Z"
   },
   {
    "duration": 81,
    "start_time": "2021-10-03T18:32:27.449Z"
   },
   {
    "duration": 1060,
    "start_time": "2021-10-03T18:32:27.533Z"
   },
   {
    "duration": -731,
    "start_time": "2021-10-03T18:32:29.326Z"
   },
   {
    "duration": -737,
    "start_time": "2021-10-03T18:32:29.334Z"
   },
   {
    "duration": -745,
    "start_time": "2021-10-03T18:32:29.343Z"
   },
   {
    "duration": -749,
    "start_time": "2021-10-03T18:32:29.349Z"
   },
   {
    "duration": 84,
    "start_time": "2021-10-03T18:35:59.775Z"
   },
   {
    "duration": 309,
    "start_time": "2021-10-03T18:35:59.862Z"
   },
   {
    "duration": -725,
    "start_time": "2021-10-03T18:36:00.899Z"
   },
   {
    "duration": -743,
    "start_time": "2021-10-03T18:36:00.918Z"
   },
   {
    "duration": -750,
    "start_time": "2021-10-03T18:36:00.927Z"
   },
   {
    "duration": -761,
    "start_time": "2021-10-03T18:36:00.940Z"
   },
   {
    "duration": 79,
    "start_time": "2021-10-03T18:40:45.409Z"
   },
   {
    "duration": 257,
    "start_time": "2021-10-03T18:40:45.491Z"
   },
   {
    "duration": -759,
    "start_time": "2021-10-03T18:40:46.510Z"
   },
   {
    "duration": -764,
    "start_time": "2021-10-03T18:40:46.517Z"
   },
   {
    "duration": -768,
    "start_time": "2021-10-03T18:40:46.524Z"
   },
   {
    "duration": -774,
    "start_time": "2021-10-03T18:40:46.532Z"
   },
   {
    "duration": 81,
    "start_time": "2021-10-03T18:41:26.760Z"
   },
   {
    "duration": 287,
    "start_time": "2021-10-03T18:41:26.844Z"
   },
   {
    "duration": -720,
    "start_time": "2021-10-03T18:41:27.854Z"
   },
   {
    "duration": -737,
    "start_time": "2021-10-03T18:41:27.872Z"
   },
   {
    "duration": -745,
    "start_time": "2021-10-03T18:41:27.882Z"
   },
   {
    "duration": -753,
    "start_time": "2021-10-03T18:41:27.891Z"
   },
   {
    "duration": 80,
    "start_time": "2021-10-03T18:42:11.326Z"
   },
   {
    "duration": 287,
    "start_time": "2021-10-03T18:42:11.409Z"
   },
   {
    "duration": -680,
    "start_time": "2021-10-03T18:42:12.379Z"
   },
   {
    "duration": -706,
    "start_time": "2021-10-03T18:42:12.406Z"
   },
   {
    "duration": -721,
    "start_time": "2021-10-03T18:42:12.423Z"
   },
   {
    "duration": -732,
    "start_time": "2021-10-03T18:42:12.435Z"
   },
   {
    "duration": 81,
    "start_time": "2021-10-03T18:43:27.124Z"
   },
   {
    "duration": 313,
    "start_time": "2021-10-03T18:43:27.207Z"
   },
   {
    "duration": -716,
    "start_time": "2021-10-03T18:43:28.239Z"
   },
   {
    "duration": -729,
    "start_time": "2021-10-03T18:43:28.253Z"
   },
   {
    "duration": -736,
    "start_time": "2021-10-03T18:43:28.261Z"
   },
   {
    "duration": -741,
    "start_time": "2021-10-03T18:43:28.268Z"
   },
   {
    "duration": 118,
    "start_time": "2021-10-03T18:51:36.553Z"
   },
   {
    "duration": 104,
    "start_time": "2021-10-03T18:51:36.675Z"
   },
   {
    "duration": -715,
    "start_time": "2021-10-03T18:51:37.497Z"
   },
   {
    "duration": -718,
    "start_time": "2021-10-03T18:51:37.502Z"
   },
   {
    "duration": -730,
    "start_time": "2021-10-03T18:51:37.516Z"
   },
   {
    "duration": -737,
    "start_time": "2021-10-03T18:51:37.525Z"
   },
   {
    "duration": 86,
    "start_time": "2021-10-03T18:53:42.742Z"
   },
   {
    "duration": 298,
    "start_time": "2021-10-03T18:53:42.831Z"
   },
   {
    "duration": -718,
    "start_time": "2021-10-03T18:53:43.851Z"
   },
   {
    "duration": -733,
    "start_time": "2021-10-03T18:53:43.867Z"
   },
   {
    "duration": -738,
    "start_time": "2021-10-03T18:53:43.873Z"
   },
   {
    "duration": -746,
    "start_time": "2021-10-03T18:53:43.883Z"
   },
   {
    "duration": 806,
    "start_time": "2021-10-03T18:55:04.099Z"
   },
   {
    "duration": 409,
    "start_time": "2021-10-03T18:55:04.908Z"
   },
   {
    "duration": -726,
    "start_time": "2021-10-03T18:55:06.046Z"
   },
   {
    "duration": -740,
    "start_time": "2021-10-03T18:55:06.061Z"
   },
   {
    "duration": -744,
    "start_time": "2021-10-03T18:55:06.067Z"
   },
   {
    "duration": -750,
    "start_time": "2021-10-03T18:55:06.074Z"
   },
   {
    "duration": 1086,
    "start_time": "2021-10-03T18:56:52.567Z"
   },
   {
    "duration": 454,
    "start_time": "2021-10-03T18:56:53.657Z"
   },
   {
    "duration": -719,
    "start_time": "2021-10-03T18:56:54.833Z"
   },
   {
    "duration": -733,
    "start_time": "2021-10-03T18:56:54.848Z"
   },
   {
    "duration": -739,
    "start_time": "2021-10-03T18:56:54.856Z"
   },
   {
    "duration": -743,
    "start_time": "2021-10-03T18:56:54.861Z"
   },
   {
    "duration": 109,
    "start_time": "2021-10-03T19:01:24.428Z"
   },
   {
    "duration": 322,
    "start_time": "2021-10-03T19:01:24.540Z"
   },
   {
    "duration": -729,
    "start_time": "2021-10-03T19:01:25.594Z"
   },
   {
    "duration": -735,
    "start_time": "2021-10-03T19:01:25.601Z"
   },
   {
    "duration": -739,
    "start_time": "2021-10-03T19:01:25.607Z"
   },
   {
    "duration": -746,
    "start_time": "2021-10-03T19:01:25.615Z"
   },
   {
    "duration": 77,
    "start_time": "2021-10-03T19:02:52.848Z"
   },
   {
    "duration": 308,
    "start_time": "2021-10-03T19:02:52.928Z"
   },
   {
    "duration": -841,
    "start_time": "2021-10-03T19:02:54.080Z"
   },
   {
    "duration": -857,
    "start_time": "2021-10-03T19:02:54.098Z"
   },
   {
    "duration": -879,
    "start_time": "2021-10-03T19:02:54.121Z"
   },
   {
    "duration": -896,
    "start_time": "2021-10-03T19:02:54.140Z"
   },
   {
    "duration": 78,
    "start_time": "2021-10-03T19:03:43.006Z"
   },
   {
    "duration": 97,
    "start_time": "2021-10-03T19:03:43.087Z"
   },
   {
    "duration": -824,
    "start_time": "2021-10-03T19:03:44.011Z"
   },
   {
    "duration": -834,
    "start_time": "2021-10-03T19:03:44.023Z"
   },
   {
    "duration": -839,
    "start_time": "2021-10-03T19:03:44.029Z"
   },
   {
    "duration": -848,
    "start_time": "2021-10-03T19:03:44.040Z"
   },
   {
    "duration": 82,
    "start_time": "2021-10-03T19:05:03.012Z"
   },
   {
    "duration": 182,
    "start_time": "2021-10-03T19:05:03.098Z"
   },
   {
    "duration": -795,
    "start_time": "2021-10-03T19:05:04.078Z"
   },
   {
    "duration": -806,
    "start_time": "2021-10-03T19:05:04.090Z"
   },
   {
    "duration": -815,
    "start_time": "2021-10-03T19:05:04.101Z"
   },
   {
    "duration": -821,
    "start_time": "2021-10-03T19:05:04.109Z"
   },
   {
    "duration": 80,
    "start_time": "2021-10-03T19:06:27.134Z"
   },
   {
    "duration": 108,
    "start_time": "2021-10-03T19:06:27.216Z"
   },
   {
    "duration": -710,
    "start_time": "2021-10-03T19:06:28.036Z"
   },
   {
    "duration": -715,
    "start_time": "2021-10-03T19:06:28.043Z"
   },
   {
    "duration": -720,
    "start_time": "2021-10-03T19:06:28.049Z"
   },
   {
    "duration": -725,
    "start_time": "2021-10-03T19:06:28.056Z"
   },
   {
    "duration": 81,
    "start_time": "2021-10-03T19:07:34.467Z"
   },
   {
    "duration": 114,
    "start_time": "2021-10-03T19:07:34.551Z"
   },
   {
    "duration": -805,
    "start_time": "2021-10-03T19:07:35.473Z"
   },
   {
    "duration": -817,
    "start_time": "2021-10-03T19:07:35.487Z"
   },
   {
    "duration": -829,
    "start_time": "2021-10-03T19:07:35.501Z"
   },
   {
    "duration": -837,
    "start_time": "2021-10-03T19:07:35.511Z"
   },
   {
    "duration": 87,
    "start_time": "2021-10-03T19:10:01.753Z"
   },
   {
    "duration": 313,
    "start_time": "2021-10-03T19:10:01.843Z"
   },
   {
    "duration": -740,
    "start_time": "2021-10-03T19:10:02.900Z"
   },
   {
    "duration": -756,
    "start_time": "2021-10-03T19:10:02.917Z"
   },
   {
    "duration": -770,
    "start_time": "2021-10-03T19:10:02.933Z"
   },
   {
    "duration": -781,
    "start_time": "2021-10-03T19:10:02.947Z"
   },
   {
    "duration": 79,
    "start_time": "2021-10-03T19:11:43.648Z"
   },
   {
    "duration": 101,
    "start_time": "2021-10-03T19:11:43.730Z"
   },
   {
    "duration": -730,
    "start_time": "2021-10-03T19:11:44.564Z"
   },
   {
    "duration": -736,
    "start_time": "2021-10-03T19:11:44.571Z"
   },
   {
    "duration": -742,
    "start_time": "2021-10-03T19:11:44.579Z"
   },
   {
    "duration": -749,
    "start_time": "2021-10-03T19:11:44.588Z"
   },
   {
    "duration": 80,
    "start_time": "2021-10-03T19:19:07.975Z"
   },
   {
    "duration": 80,
    "start_time": "2021-10-03T19:19:08.057Z"
   },
   {
    "duration": -886,
    "start_time": "2021-10-03T19:19:09.025Z"
   },
   {
    "duration": -894,
    "start_time": "2021-10-03T19:19:09.034Z"
   },
   {
    "duration": -900,
    "start_time": "2021-10-03T19:19:09.042Z"
   },
   {
    "duration": -907,
    "start_time": "2021-10-03T19:19:09.050Z"
   },
   {
    "duration": 78,
    "start_time": "2021-10-03T19:21:07.775Z"
   },
   {
    "duration": 85,
    "start_time": "2021-10-03T19:21:07.856Z"
   },
   {
    "duration": -787,
    "start_time": "2021-10-03T19:21:08.730Z"
   },
   {
    "duration": -795,
    "start_time": "2021-10-03T19:21:08.740Z"
   },
   {
    "duration": -802,
    "start_time": "2021-10-03T19:21:08.748Z"
   },
   {
    "duration": -807,
    "start_time": "2021-10-03T19:21:08.755Z"
   },
   {
    "duration": 80,
    "start_time": "2021-10-03T19:22:36.872Z"
   },
   {
    "duration": 98,
    "start_time": "2021-10-03T19:22:36.954Z"
   },
   {
    "duration": -735,
    "start_time": "2021-10-03T19:22:37.790Z"
   },
   {
    "duration": -776,
    "start_time": "2021-10-03T19:22:37.832Z"
   },
   {
    "duration": -785,
    "start_time": "2021-10-03T19:22:37.842Z"
   },
   {
    "duration": -792,
    "start_time": "2021-10-03T19:22:37.851Z"
   },
   {
    "duration": 77,
    "start_time": "2021-10-03T19:34:47.687Z"
   },
   {
    "duration": 81,
    "start_time": "2021-10-03T19:34:47.767Z"
   },
   {
    "duration": -772,
    "start_time": "2021-10-03T19:34:48.624Z"
   },
   {
    "duration": -776,
    "start_time": "2021-10-03T19:34:48.630Z"
   },
   {
    "duration": -780,
    "start_time": "2021-10-03T19:34:48.636Z"
   },
   {
    "duration": -784,
    "start_time": "2021-10-03T19:34:48.643Z"
   },
   {
    "duration": 76,
    "start_time": "2021-10-03T19:35:20.871Z"
   },
   {
    "duration": 485,
    "start_time": "2021-10-03T19:35:20.950Z"
   },
   {
    "duration": -772,
    "start_time": "2021-10-03T19:35:22.210Z"
   },
   {
    "duration": -780,
    "start_time": "2021-10-03T19:35:22.219Z"
   },
   {
    "duration": -784,
    "start_time": "2021-10-03T19:35:22.225Z"
   },
   {
    "duration": -788,
    "start_time": "2021-10-03T19:35:22.231Z"
   },
   {
    "duration": 74,
    "start_time": "2021-10-03T19:35:50.748Z"
   },
   {
    "duration": 74,
    "start_time": "2021-10-03T19:35:50.825Z"
   },
   {
    "duration": 21,
    "start_time": "2021-10-03T19:35:50.902Z"
   },
   {
    "duration": 164,
    "start_time": "2021-10-03T19:35:50.925Z"
   },
   {
    "duration": 3198,
    "start_time": "2021-10-03T19:35:51.092Z"
   },
   {
    "duration": 56,
    "start_time": "2021-10-03T19:35:54.292Z"
   },
   {
    "duration": 81,
    "start_time": "2021-10-03T19:36:56.702Z"
   },
   {
    "duration": 311,
    "start_time": "2021-10-03T19:36:56.786Z"
   },
   {
    "duration": -845,
    "start_time": "2021-10-03T19:36:57.945Z"
   },
   {
    "duration": -980,
    "start_time": "2021-10-03T19:36:58.081Z"
   },
   {
    "duration": -991,
    "start_time": "2021-10-03T19:36:58.094Z"
   },
   {
    "duration": -1006,
    "start_time": "2021-10-03T19:36:58.110Z"
   },
   {
    "duration": 90,
    "start_time": "2021-10-03T19:37:47.535Z"
   },
   {
    "duration": 299,
    "start_time": "2021-10-03T19:37:47.628Z"
   },
   {
    "duration": -761,
    "start_time": "2021-10-03T19:37:48.690Z"
   },
   {
    "duration": -768,
    "start_time": "2021-10-03T19:37:48.699Z"
   },
   {
    "duration": -773,
    "start_time": "2021-10-03T19:37:48.705Z"
   },
   {
    "duration": -776,
    "start_time": "2021-10-03T19:37:48.710Z"
   },
   {
    "duration": 771,
    "start_time": "2021-10-03T19:40:03.326Z"
   },
   {
    "duration": 421,
    "start_time": "2021-10-03T19:40:04.099Z"
   },
   {
    "duration": -748,
    "start_time": "2021-10-03T19:40:05.271Z"
   },
   {
    "duration": -760,
    "start_time": "2021-10-03T19:40:05.285Z"
   },
   {
    "duration": -765,
    "start_time": "2021-10-03T19:40:05.291Z"
   },
   {
    "duration": -768,
    "start_time": "2021-10-03T19:40:05.296Z"
   },
   {
    "duration": 766,
    "start_time": "2021-10-03T19:46:51.527Z"
   },
   {
    "duration": 1215,
    "start_time": "2021-10-03T19:46:52.296Z"
   },
   {
    "duration": -760,
    "start_time": "2021-10-03T19:46:54.274Z"
   },
   {
    "duration": -772,
    "start_time": "2021-10-03T19:46:54.288Z"
   },
   {
    "duration": -783,
    "start_time": "2021-10-03T19:46:54.301Z"
   },
   {
    "duration": -790,
    "start_time": "2021-10-03T19:46:54.309Z"
   },
   {
    "duration": 753,
    "start_time": "2021-10-03T19:49:35.933Z"
   },
   {
    "duration": 409,
    "start_time": "2021-10-03T19:49:36.688Z"
   },
   {
    "duration": -759,
    "start_time": "2021-10-03T19:49:37.859Z"
   },
   {
    "duration": -771,
    "start_time": "2021-10-03T19:49:37.873Z"
   },
   {
    "duration": -779,
    "start_time": "2021-10-03T19:49:37.882Z"
   },
   {
    "duration": -783,
    "start_time": "2021-10-03T19:49:37.888Z"
   },
   {
    "duration": 843,
    "start_time": "2021-10-03T19:51:26.015Z"
   },
   {
    "duration": 398,
    "start_time": "2021-10-03T19:51:26.861Z"
   },
   {
    "duration": -781,
    "start_time": "2021-10-03T19:51:28.043Z"
   },
   {
    "duration": -791,
    "start_time": "2021-10-03T19:51:28.054Z"
   },
   {
    "duration": -795,
    "start_time": "2021-10-03T19:51:28.060Z"
   },
   {
    "duration": -798,
    "start_time": "2021-10-03T19:51:28.065Z"
   },
   {
    "duration": 77,
    "start_time": "2021-10-03T19:52:15.851Z"
   },
   {
    "duration": 321,
    "start_time": "2021-10-03T19:52:15.931Z"
   },
   {
    "duration": -777,
    "start_time": "2021-10-03T19:52:17.032Z"
   },
   {
    "duration": -796,
    "start_time": "2021-10-03T19:52:17.052Z"
   },
   {
    "duration": -800,
    "start_time": "2021-10-03T19:52:17.058Z"
   },
   {
    "duration": -805,
    "start_time": "2021-10-03T19:52:17.064Z"
   },
   {
    "duration": 78,
    "start_time": "2021-10-03T19:59:21.161Z"
   },
   {
    "duration": 657,
    "start_time": "2021-10-03T19:59:21.242Z"
   },
   {
    "duration": -778,
    "start_time": "2021-10-03T19:59:22.679Z"
   },
   {
    "duration": -789,
    "start_time": "2021-10-03T19:59:22.692Z"
   },
   {
    "duration": -794,
    "start_time": "2021-10-03T19:59:22.699Z"
   },
   {
    "duration": -799,
    "start_time": "2021-10-03T19:59:22.705Z"
   },
   {
    "duration": 831,
    "start_time": "2021-10-03T20:02:26.354Z"
   },
   {
    "duration": 351,
    "start_time": "2021-10-03T20:02:27.189Z"
   },
   {
    "duration": -764,
    "start_time": "2021-10-03T20:02:28.308Z"
   },
   {
    "duration": -779,
    "start_time": "2021-10-03T20:02:28.325Z"
   },
   {
    "duration": -786,
    "start_time": "2021-10-03T20:02:28.334Z"
   },
   {
    "duration": -788,
    "start_time": "2021-10-03T20:02:28.339Z"
   },
   {
    "duration": 79,
    "start_time": "2021-10-03T20:06:06.302Z"
   },
   {
    "duration": 9442,
    "start_time": "2021-10-03T20:06:06.384Z"
   },
   {
    "duration": 22,
    "start_time": "2021-10-03T20:06:15.829Z"
   },
   {
    "duration": 166,
    "start_time": "2021-10-03T20:06:15.853Z"
   },
   {
    "duration": 3148,
    "start_time": "2021-10-03T20:06:16.023Z"
   },
   {
    "duration": 65,
    "start_time": "2021-10-03T20:06:19.174Z"
   },
   {
    "duration": 85,
    "start_time": "2021-10-03T20:08:36.803Z"
   },
   {
    "duration": 9296,
    "start_time": "2021-10-03T20:08:36.891Z"
   },
   {
    "duration": 23,
    "start_time": "2021-10-03T20:08:46.190Z"
   },
   {
    "duration": 169,
    "start_time": "2021-10-03T20:08:46.216Z"
   },
   {
    "duration": 3309,
    "start_time": "2021-10-03T20:08:46.388Z"
   },
   {
    "duration": 59,
    "start_time": "2021-10-03T20:08:49.700Z"
   },
   {
    "duration": 760,
    "start_time": "2021-10-03T20:12:19.311Z"
   },
   {
    "duration": 350,
    "start_time": "2021-10-03T20:12:20.074Z"
   },
   {
    "duration": -775,
    "start_time": "2021-10-03T20:12:21.202Z"
   },
   {
    "duration": -790,
    "start_time": "2021-10-03T20:12:21.218Z"
   },
   {
    "duration": -796,
    "start_time": "2021-10-03T20:12:21.225Z"
   },
   {
    "duration": -801,
    "start_time": "2021-10-03T20:12:21.232Z"
   },
   {
    "duration": 77,
    "start_time": "2021-10-03T20:18:37.118Z"
   },
   {
    "duration": 287,
    "start_time": "2021-10-03T20:18:37.198Z"
   },
   {
    "duration": -776,
    "start_time": "2021-10-03T20:18:38.263Z"
   },
   {
    "duration": -797,
    "start_time": "2021-10-03T20:18:38.286Z"
   },
   {
    "duration": -806,
    "start_time": "2021-10-03T20:18:38.297Z"
   },
   {
    "duration": -812,
    "start_time": "2021-10-03T20:18:38.304Z"
   },
   {
    "duration": 77,
    "start_time": "2021-10-03T20:19:31.968Z"
   },
   {
    "duration": 330,
    "start_time": "2021-10-03T20:19:32.047Z"
   },
   {
    "duration": -852,
    "start_time": "2021-10-03T20:19:33.232Z"
   },
   {
    "duration": -867,
    "start_time": "2021-10-03T20:19:33.249Z"
   },
   {
    "duration": -881,
    "start_time": "2021-10-03T20:19:33.264Z"
   },
   {
    "duration": -894,
    "start_time": "2021-10-03T20:19:33.278Z"
   },
   {
    "duration": 78,
    "start_time": "2021-10-03T20:20:15.499Z"
   },
   {
    "duration": 93,
    "start_time": "2021-10-03T20:20:15.581Z"
   },
   {
    "duration": -899,
    "start_time": "2021-10-03T20:20:16.577Z"
   },
   {
    "duration": -907,
    "start_time": "2021-10-03T20:20:16.587Z"
   },
   {
    "duration": -916,
    "start_time": "2021-10-03T20:20:16.599Z"
   },
   {
    "duration": -922,
    "start_time": "2021-10-03T20:20:16.607Z"
   },
   {
    "duration": 74,
    "start_time": "2021-10-03T20:22:43.698Z"
   },
   {
    "duration": 434,
    "start_time": "2021-10-03T20:22:43.775Z"
   },
   {
    "duration": -823,
    "start_time": "2021-10-03T20:22:45.035Z"
   },
   {
    "duration": -828,
    "start_time": "2021-10-03T20:22:45.042Z"
   },
   {
    "duration": -834,
    "start_time": "2021-10-03T20:22:45.051Z"
   },
   {
    "duration": -838,
    "start_time": "2021-10-03T20:22:45.057Z"
   },
   {
    "duration": 79,
    "start_time": "2021-10-03T20:23:15.401Z"
   },
   {
    "duration": 272,
    "start_time": "2021-10-03T20:23:15.483Z"
   },
   {
    "duration": -872,
    "start_time": "2021-10-03T20:23:16.630Z"
   },
   {
    "duration": -880,
    "start_time": "2021-10-03T20:23:16.639Z"
   },
   {
    "duration": -893,
    "start_time": "2021-10-03T20:23:16.654Z"
   },
   {
    "duration": -901,
    "start_time": "2021-10-03T20:23:16.664Z"
   },
   {
    "duration": 83,
    "start_time": "2021-10-03T20:23:46.293Z"
   },
   {
    "duration": 301,
    "start_time": "2021-10-03T20:23:46.380Z"
   },
   {
    "duration": -820,
    "start_time": "2021-10-03T20:23:47.503Z"
   },
   {
    "duration": -830,
    "start_time": "2021-10-03T20:23:47.515Z"
   },
   {
    "duration": -852,
    "start_time": "2021-10-03T20:23:47.538Z"
   },
   {
    "duration": -888,
    "start_time": "2021-10-03T20:23:47.576Z"
   },
   {
    "duration": 78,
    "start_time": "2021-10-03T20:24:46.315Z"
   },
   {
    "duration": 7297,
    "start_time": "2021-10-03T20:24:46.396Z"
   },
   {
    "duration": -839,
    "start_time": "2021-10-03T20:24:54.535Z"
   },
   {
    "duration": -845,
    "start_time": "2021-10-03T20:24:54.542Z"
   },
   {
    "duration": -849,
    "start_time": "2021-10-03T20:24:54.548Z"
   },
   {
    "duration": -855,
    "start_time": "2021-10-03T20:24:54.555Z"
   },
   {
    "duration": 77,
    "start_time": "2021-10-03T20:26:14.386Z"
   },
   {
    "duration": 188,
    "start_time": "2021-10-03T20:26:14.466Z"
   },
   {
    "duration": -851,
    "start_time": "2021-10-03T20:26:15.508Z"
   },
   {
    "duration": -888,
    "start_time": "2021-10-03T20:26:15.546Z"
   },
   {
    "duration": -921,
    "start_time": "2021-10-03T20:26:15.580Z"
   },
   {
    "duration": -935,
    "start_time": "2021-10-03T20:26:15.596Z"
   },
   {
    "duration": 75,
    "start_time": "2021-10-03T20:26:43.638Z"
   },
   {
    "duration": 313,
    "start_time": "2021-10-03T20:26:43.716Z"
   },
   {
    "duration": -795,
    "start_time": "2021-10-03T20:26:44.828Z"
   },
   {
    "duration": -824,
    "start_time": "2021-10-03T20:26:44.858Z"
   },
   {
    "duration": -828,
    "start_time": "2021-10-03T20:26:44.864Z"
   },
   {
    "duration": -838,
    "start_time": "2021-10-03T20:26:44.875Z"
   },
   {
    "duration": 79,
    "start_time": "2021-10-03T20:27:46.783Z"
   },
   {
    "duration": 70,
    "start_time": "2021-10-03T20:27:46.865Z"
   },
   {
    "duration": 22,
    "start_time": "2021-10-03T20:27:46.938Z"
   },
   {
    "duration": 158,
    "start_time": "2021-10-03T20:27:46.983Z"
   },
   {
    "duration": 3224,
    "start_time": "2021-10-03T20:27:47.143Z"
   },
   {
    "duration": 69,
    "start_time": "2021-10-03T20:27:50.370Z"
   },
   {
    "duration": 87,
    "start_time": "2021-10-03T20:29:03.224Z"
   },
   {
    "duration": 77,
    "start_time": "2021-10-03T20:29:03.315Z"
   },
   {
    "duration": 26,
    "start_time": "2021-10-03T20:29:03.396Z"
   },
   {
    "duration": 166,
    "start_time": "2021-10-03T20:29:03.433Z"
   },
   {
    "duration": 3359,
    "start_time": "2021-10-03T20:29:03.602Z"
   },
   {
    "duration": 74,
    "start_time": "2021-10-03T20:29:06.964Z"
   },
   {
    "duration": 88,
    "start_time": "2021-10-03T20:31:24.120Z"
   },
   {
    "duration": 77,
    "start_time": "2021-10-03T20:31:24.211Z"
   },
   {
    "duration": 22,
    "start_time": "2021-10-03T20:31:24.291Z"
   },
   {
    "duration": 167,
    "start_time": "2021-10-03T20:31:24.316Z"
   },
   {
    "duration": 3408,
    "start_time": "2021-10-03T20:31:24.485Z"
   },
   {
    "duration": 94,
    "start_time": "2021-10-03T20:31:27.896Z"
   },
   {
    "duration": 89,
    "start_time": "2021-10-03T20:38:06.181Z"
   },
   {
    "duration": 65,
    "start_time": "2021-10-03T20:38:06.273Z"
   },
   {
    "duration": 40,
    "start_time": "2021-10-03T20:38:06.342Z"
   },
   {
    "duration": 147,
    "start_time": "2021-10-03T20:38:06.385Z"
   },
   {
    "duration": 3356,
    "start_time": "2021-10-03T20:38:06.535Z"
   },
   {
    "duration": 62,
    "start_time": "2021-10-03T20:38:09.894Z"
   },
   {
    "duration": 95,
    "start_time": "2021-10-03T20:39:48.345Z"
   },
   {
    "duration": 457,
    "start_time": "2021-10-03T20:39:48.444Z"
   },
   {
    "duration": -809,
    "start_time": "2021-10-03T20:39:49.713Z"
   },
   {
    "duration": -814,
    "start_time": "2021-10-03T20:39:49.719Z"
   },
   {
    "duration": -818,
    "start_time": "2021-10-03T20:39:49.724Z"
   },
   {
    "duration": -825,
    "start_time": "2021-10-03T20:39:49.733Z"
   },
   {
    "duration": 86,
    "start_time": "2021-10-03T20:45:34.892Z"
   },
   {
    "duration": 237,
    "start_time": "2021-10-03T20:45:34.981Z"
   },
   {
    "duration": -852,
    "start_time": "2021-10-03T20:45:36.073Z"
   },
   {
    "duration": -858,
    "start_time": "2021-10-03T20:45:36.080Z"
   },
   {
    "duration": -868,
    "start_time": "2021-10-03T20:45:36.092Z"
   },
   {
    "duration": -881,
    "start_time": "2021-10-03T20:45:36.106Z"
   },
   {
    "duration": 846,
    "start_time": "2021-10-03T20:48:02.869Z"
   },
   {
    "duration": 100,
    "start_time": "2021-10-03T20:48:03.718Z"
   },
   {
    "duration": -801,
    "start_time": "2021-10-03T20:48:04.622Z"
   },
   {
    "duration": -806,
    "start_time": "2021-10-03T20:48:04.628Z"
   },
   {
    "duration": -809,
    "start_time": "2021-10-03T20:48:04.633Z"
   },
   {
    "duration": -812,
    "start_time": "2021-10-03T20:48:04.638Z"
   },
   {
    "duration": 958,
    "start_time": "2021-10-03T20:50:18.686Z"
   },
   {
    "duration": 2614,
    "start_time": "2021-10-03T20:50:19.647Z"
   },
   {
    "duration": -816,
    "start_time": "2021-10-03T20:50:23.082Z"
   },
   {
    "duration": -826,
    "start_time": "2021-10-03T20:50:23.093Z"
   },
   {
    "duration": -842,
    "start_time": "2021-10-03T20:50:23.110Z"
   },
   {
    "duration": -846,
    "start_time": "2021-10-03T20:50:23.116Z"
   },
   {
    "duration": 819,
    "start_time": "2021-10-03T20:54:10.663Z"
   },
   {
    "duration": 38,
    "start_time": "2021-10-03T20:54:11.484Z"
   },
   {
    "duration": 1419,
    "start_time": "2021-10-03T20:54:11.525Z"
   },
   {
    "duration": -814,
    "start_time": "2021-10-03T20:54:13.760Z"
   },
   {
    "duration": -822,
    "start_time": "2021-10-03T20:54:13.770Z"
   },
   {
    "duration": -837,
    "start_time": "2021-10-03T20:54:13.786Z"
   },
   {
    "duration": 797,
    "start_time": "2021-10-03T20:58:07.381Z"
   },
   {
    "duration": 40,
    "start_time": "2021-10-03T20:58:08.180Z"
   },
   {
    "duration": 1649,
    "start_time": "2021-10-03T20:58:08.223Z"
   },
   {
    "duration": -810,
    "start_time": "2021-10-03T20:58:10.685Z"
   },
   {
    "duration": -823,
    "start_time": "2021-10-03T20:58:10.699Z"
   },
   {
    "duration": -835,
    "start_time": "2021-10-03T20:58:10.713Z"
   },
   {
    "duration": 805,
    "start_time": "2021-10-04T08:36:52.997Z"
   },
   {
    "duration": 40,
    "start_time": "2021-10-04T08:36:53.805Z"
   },
   {
    "duration": 1598,
    "start_time": "2021-10-04T08:36:53.859Z"
   },
   {
    "duration": -1629,
    "start_time": "2021-10-04T08:36:57.090Z"
   },
   {
    "duration": -1635,
    "start_time": "2021-10-04T08:36:57.098Z"
   },
   {
    "duration": -1651,
    "start_time": "2021-10-04T08:36:57.116Z"
   },
   {
    "duration": 79,
    "start_time": "2021-10-04T08:37:54.922Z"
   },
   {
    "duration": 32,
    "start_time": "2021-10-04T08:37:55.004Z"
   },
   {
    "duration": 851,
    "start_time": "2021-10-04T08:39:48.978Z"
   },
   {
    "duration": 44,
    "start_time": "2021-10-04T08:39:49.832Z"
   },
   {
    "duration": 169185,
    "start_time": "2021-10-04T08:39:49.879Z"
   },
   {
    "duration": -1673,
    "start_time": "2021-10-04T08:42:40.741Z"
   },
   {
    "duration": -1685,
    "start_time": "2021-10-04T08:42:40.755Z"
   },
   {
    "duration": -1690,
    "start_time": "2021-10-04T08:42:40.763Z"
   },
   {
    "duration": 912,
    "start_time": "2021-10-04T08:47:03.127Z"
   },
   {
    "duration": 53,
    "start_time": "2021-10-04T08:47:04.042Z"
   },
   {
    "duration": 167678,
    "start_time": "2021-10-04T08:47:04.100Z"
   },
   {
    "duration": -1833,
    "start_time": "2021-10-04T08:49:53.614Z"
   },
   {
    "duration": -1839,
    "start_time": "2021-10-04T08:49:53.621Z"
   },
   {
    "duration": -1860,
    "start_time": "2021-10-04T08:49:53.644Z"
   },
   {
    "duration": 832,
    "start_time": "2021-10-04T08:57:32.354Z"
   },
   {
    "duration": 40,
    "start_time": "2021-10-04T08:57:33.189Z"
   },
   {
    "duration": 120,
    "start_time": "2021-10-04T08:57:33.232Z"
   },
   {
    "duration": -1624,
    "start_time": "2021-10-04T08:57:34.979Z"
   },
   {
    "duration": -1644,
    "start_time": "2021-10-04T08:57:35.000Z"
   },
   {
    "duration": -1648,
    "start_time": "2021-10-04T08:57:35.006Z"
   },
   {
    "duration": 839,
    "start_time": "2021-10-04T08:58:27.553Z"
   },
   {
    "duration": 39,
    "start_time": "2021-10-04T08:58:28.395Z"
   },
   {
    "duration": 832,
    "start_time": "2021-10-04T08:59:58.154Z"
   },
   {
    "duration": 39,
    "start_time": "2021-10-04T08:59:58.989Z"
   },
   {
    "duration": 153,
    "start_time": "2021-10-04T08:59:59.031Z"
   },
   {
    "duration": -1644,
    "start_time": "2021-10-04T09:00:00.830Z"
   },
   {
    "duration": -1651,
    "start_time": "2021-10-04T09:00:00.838Z"
   },
   {
    "duration": -1655,
    "start_time": "2021-10-04T09:00:00.844Z"
   },
   {
    "duration": 824,
    "start_time": "2021-10-04T09:02:35.790Z"
   },
   {
    "duration": 50,
    "start_time": "2021-10-04T09:02:36.617Z"
   },
   {
    "duration": 124,
    "start_time": "2021-10-04T09:02:36.671Z"
   },
   {
    "duration": -1631,
    "start_time": "2021-10-04T09:02:38.429Z"
   },
   {
    "duration": -1639,
    "start_time": "2021-10-04T09:02:38.439Z"
   },
   {
    "duration": -1644,
    "start_time": "2021-10-04T09:02:38.447Z"
   },
   {
    "duration": 828,
    "start_time": "2021-10-04T09:06:20.715Z"
   },
   {
    "duration": 38,
    "start_time": "2021-10-04T09:06:21.546Z"
   },
   {
    "duration": 131,
    "start_time": "2021-10-04T09:06:21.586Z"
   },
   {
    "duration": -1638,
    "start_time": "2021-10-04T09:06:23.358Z"
   },
   {
    "duration": -1644,
    "start_time": "2021-10-04T09:06:23.365Z"
   },
   {
    "duration": -1649,
    "start_time": "2021-10-04T09:06:23.372Z"
   },
   {
    "duration": 874,
    "start_time": "2021-10-04T09:11:19.505Z"
   },
   {
    "duration": 55,
    "start_time": "2021-10-04T09:11:20.383Z"
   },
   {
    "duration": 157,
    "start_time": "2021-10-04T09:11:20.442Z"
   },
   {
    "duration": -1656,
    "start_time": "2021-10-04T09:11:22.257Z"
   },
   {
    "duration": -1661,
    "start_time": "2021-10-04T09:11:22.264Z"
   },
   {
    "duration": -1667,
    "start_time": "2021-10-04T09:11:22.272Z"
   },
   {
    "duration": 843,
    "start_time": "2021-10-04T09:19:52.259Z"
   },
   {
    "duration": 42,
    "start_time": "2021-10-04T09:19:53.105Z"
   },
   {
    "duration": 142,
    "start_time": "2021-10-04T09:19:53.158Z"
   },
   {
    "duration": -1619,
    "start_time": "2021-10-04T09:19:54.922Z"
   },
   {
    "duration": -1625,
    "start_time": "2021-10-04T09:19:54.929Z"
   },
   {
    "duration": -1630,
    "start_time": "2021-10-04T09:19:54.936Z"
   },
   {
    "duration": 805,
    "start_time": "2021-10-04T09:20:57.207Z"
   },
   {
    "duration": 47,
    "start_time": "2021-10-04T09:20:58.015Z"
   },
   {
    "duration": 755,
    "start_time": "2021-10-04T09:20:58.065Z"
   },
   {
    "duration": -1667,
    "start_time": "2021-10-04T09:21:00.490Z"
   },
   {
    "duration": -1689,
    "start_time": "2021-10-04T09:21:00.514Z"
   },
   {
    "duration": -1693,
    "start_time": "2021-10-04T09:21:00.521Z"
   },
   {
    "duration": 824,
    "start_time": "2021-10-04T09:26:02.391Z"
   },
   {
    "duration": 50,
    "start_time": "2021-10-04T09:26:03.217Z"
   },
   {
    "duration": 157,
    "start_time": "2021-10-04T09:26:03.270Z"
   },
   {
    "duration": -1637,
    "start_time": "2021-10-04T09:26:05.066Z"
   },
   {
    "duration": -1654,
    "start_time": "2021-10-04T09:26:05.085Z"
   },
   {
    "duration": -1665,
    "start_time": "2021-10-04T09:26:05.098Z"
   },
   {
    "duration": 80,
    "start_time": "2021-10-04T09:26:35.998Z"
   },
   {
    "duration": 31,
    "start_time": "2021-10-04T09:26:36.081Z"
   },
   {
    "duration": 541,
    "start_time": "2021-10-04T09:26:36.115Z"
   },
   {
    "duration": -1705,
    "start_time": "2021-10-04T09:26:38.365Z"
   },
   {
    "duration": -1711,
    "start_time": "2021-10-04T09:26:38.373Z"
   },
   {
    "duration": -1718,
    "start_time": "2021-10-04T09:26:38.381Z"
   },
   {
    "duration": 805,
    "start_time": "2021-10-04T09:29:55.689Z"
   },
   {
    "duration": 39,
    "start_time": "2021-10-04T09:29:56.497Z"
   },
   {
    "duration": 494,
    "start_time": "2021-10-04T09:29:56.539Z"
   },
   {
    "duration": -1663,
    "start_time": "2021-10-04T09:29:58.700Z"
   },
   {
    "duration": -1674,
    "start_time": "2021-10-04T09:29:58.712Z"
   },
   {
    "duration": -1679,
    "start_time": "2021-10-04T09:29:58.718Z"
   },
   {
    "duration": 80,
    "start_time": "2021-10-04T09:31:59.351Z"
   },
   {
    "duration": 39,
    "start_time": "2021-10-04T09:31:59.434Z"
   },
   {
    "duration": 134,
    "start_time": "2021-10-04T09:31:59.476Z"
   },
   {
    "duration": -1710,
    "start_time": "2021-10-04T09:32:01.322Z"
   },
   {
    "duration": -1719,
    "start_time": "2021-10-04T09:32:01.333Z"
   },
   {
    "duration": -1725,
    "start_time": "2021-10-04T09:32:01.340Z"
   },
   {
    "duration": 80,
    "start_time": "2021-10-04T09:33:40.590Z"
   },
   {
    "duration": 32,
    "start_time": "2021-10-04T09:33:40.673Z"
   },
   {
    "duration": 707,
    "start_time": "2021-10-04T09:33:40.708Z"
   },
   {
    "duration": -1681,
    "start_time": "2021-10-04T09:33:43.099Z"
   },
   {
    "duration": -1690,
    "start_time": "2021-10-04T09:33:43.110Z"
   },
   {
    "duration": -1695,
    "start_time": "2021-10-04T09:33:43.116Z"
   },
   {
    "duration": 79,
    "start_time": "2021-10-04T09:34:23.897Z"
   },
   {
    "duration": 34,
    "start_time": "2021-10-04T09:34:23.978Z"
   },
   {
    "duration": 9866,
    "start_time": "2021-10-04T09:34:24.015Z"
   },
   {
    "duration": -1797,
    "start_time": "2021-10-04T09:34:35.681Z"
   },
   {
    "duration": -1801,
    "start_time": "2021-10-04T09:34:35.687Z"
   },
   {
    "duration": -1807,
    "start_time": "2021-10-04T09:34:35.694Z"
   },
   {
    "duration": 926,
    "start_time": "2021-10-04T09:38:29.090Z"
   },
   {
    "duration": 59,
    "start_time": "2021-10-04T09:38:30.018Z"
   },
   {
    "duration": 705,
    "start_time": "2021-10-04T09:38:30.082Z"
   },
   {
    "duration": -1707,
    "start_time": "2021-10-04T09:38:32.497Z"
   },
   {
    "duration": -1715,
    "start_time": "2021-10-04T09:38:32.506Z"
   },
   {
    "duration": -1718,
    "start_time": "2021-10-04T09:38:32.511Z"
   },
   {
    "duration": 810,
    "start_time": "2021-10-04T09:40:04.198Z"
   },
   {
    "duration": 49,
    "start_time": "2021-10-04T09:40:05.011Z"
   },
   {
    "duration": 499,
    "start_time": "2021-10-04T09:40:05.063Z"
   },
   {
    "duration": -1680,
    "start_time": "2021-10-04T09:40:07.245Z"
   },
   {
    "duration": -1692,
    "start_time": "2021-10-04T09:40:07.258Z"
   },
   {
    "duration": -1698,
    "start_time": "2021-10-04T09:40:07.266Z"
   },
   {
    "duration": 82,
    "start_time": "2021-10-04T09:41:06.609Z"
   },
   {
    "duration": 32,
    "start_time": "2021-10-04T09:41:06.694Z"
   },
   {
    "duration": 441,
    "start_time": "2021-10-04T09:41:06.729Z"
   },
   {
    "duration": -1713,
    "start_time": "2021-10-04T09:41:08.886Z"
   },
   {
    "duration": -1720,
    "start_time": "2021-10-04T09:41:08.894Z"
   },
   {
    "duration": -1723,
    "start_time": "2021-10-04T09:41:08.899Z"
   },
   {
    "duration": 953,
    "start_time": "2021-10-04T09:43:50.466Z"
   },
   {
    "duration": 48,
    "start_time": "2021-10-04T09:43:51.422Z"
   },
   {
    "duration": 1137,
    "start_time": "2021-10-04T09:43:51.472Z"
   },
   {
    "duration": -1692,
    "start_time": "2021-10-04T09:43:54.303Z"
   },
   {
    "duration": -1701,
    "start_time": "2021-10-04T09:43:54.314Z"
   },
   {
    "duration": -1706,
    "start_time": "2021-10-04T09:43:54.320Z"
   },
   {
    "duration": 846,
    "start_time": "2021-10-04T09:46:25.466Z"
   },
   {
    "duration": 49,
    "start_time": "2021-10-04T09:46:26.314Z"
   },
   {
    "duration": 501,
    "start_time": "2021-10-04T09:46:26.366Z"
   },
   {
    "duration": -1691,
    "start_time": "2021-10-04T09:46:28.560Z"
   },
   {
    "duration": -1706,
    "start_time": "2021-10-04T09:46:28.577Z"
   },
   {
    "duration": -1712,
    "start_time": "2021-10-04T09:46:28.584Z"
   },
   {
    "duration": 939,
    "start_time": "2021-10-04T09:49:58.621Z"
   },
   {
    "duration": 41,
    "start_time": "2021-10-04T09:49:59.563Z"
   },
   {
    "duration": 4002,
    "start_time": "2021-10-04T09:49:59.607Z"
   },
   {
    "duration": -1760,
    "start_time": "2021-10-04T09:50:05.371Z"
   },
   {
    "duration": -1764,
    "start_time": "2021-10-04T09:50:05.377Z"
   },
   {
    "duration": -1771,
    "start_time": "2021-10-04T09:50:05.385Z"
   },
   {
    "duration": 865,
    "start_time": "2021-10-04T09:55:17.791Z"
   },
   {
    "duration": 41,
    "start_time": "2021-10-04T09:55:18.660Z"
   },
   {
    "duration": 129,
    "start_time": "2021-10-04T09:55:18.703Z"
   },
   {
    "duration": -1667,
    "start_time": "2021-10-04T09:55:20.503Z"
   },
   {
    "duration": -1691,
    "start_time": "2021-10-04T09:55:20.529Z"
   },
   {
    "duration": -1705,
    "start_time": "2021-10-04T09:55:20.545Z"
   },
   {
    "duration": 83,
    "start_time": "2021-10-04T09:57:12.059Z"
   },
   {
    "duration": 37,
    "start_time": "2021-10-04T09:57:12.145Z"
   },
   {
    "duration": 135,
    "start_time": "2021-10-04T09:57:12.187Z"
   },
   {
    "duration": -1668,
    "start_time": "2021-10-04T09:57:13.993Z"
   },
   {
    "duration": -1679,
    "start_time": "2021-10-04T09:57:14.006Z"
   },
   {
    "duration": -1686,
    "start_time": "2021-10-04T09:57:14.015Z"
   },
   {
    "duration": 1060,
    "start_time": "2021-10-04T09:58:17.014Z"
   },
   {
    "duration": 42,
    "start_time": "2021-10-04T09:58:18.077Z"
   },
   {
    "duration": 131,
    "start_time": "2021-10-04T09:58:18.124Z"
   },
   {
    "duration": -1680,
    "start_time": "2021-10-04T09:58:19.937Z"
   },
   {
    "duration": -1686,
    "start_time": "2021-10-04T09:58:19.945Z"
   },
   {
    "duration": -1690,
    "start_time": "2021-10-04T09:58:19.950Z"
   },
   {
    "duration": 82,
    "start_time": "2021-10-04T09:59:57.235Z"
   },
   {
    "duration": 43,
    "start_time": "2021-10-04T09:59:57.320Z"
   },
   {
    "duration": 133,
    "start_time": "2021-10-04T09:59:57.366Z"
   },
   {
    "duration": -1710,
    "start_time": "2021-10-04T09:59:59.212Z"
   },
   {
    "duration": -1715,
    "start_time": "2021-10-04T09:59:59.220Z"
   },
   {
    "duration": -1721,
    "start_time": "2021-10-04T09:59:59.228Z"
   },
   {
    "duration": 844,
    "start_time": "2021-10-04T10:04:47.163Z"
   },
   {
    "duration": 53,
    "start_time": "2021-10-04T10:04:48.010Z"
   },
   {
    "duration": 128,
    "start_time": "2021-10-04T10:04:48.066Z"
   },
   {
    "duration": -1690,
    "start_time": "2021-10-04T10:04:49.886Z"
   },
   {
    "duration": -1695,
    "start_time": "2021-10-04T10:04:49.892Z"
   },
   {
    "duration": -1699,
    "start_time": "2021-10-04T10:04:49.898Z"
   },
   {
    "duration": 78,
    "start_time": "2021-10-04T10:07:57.013Z"
   },
   {
    "duration": 31,
    "start_time": "2021-10-04T10:07:57.094Z"
   },
   {
    "duration": 126,
    "start_time": "2021-10-04T10:07:57.127Z"
   },
   {
    "duration": -1696,
    "start_time": "2021-10-04T10:07:58.952Z"
   },
   {
    "duration": -1702,
    "start_time": "2021-10-04T10:07:58.959Z"
   },
   {
    "duration": -1710,
    "start_time": "2021-10-04T10:07:58.969Z"
   },
   {
    "duration": 83,
    "start_time": "2021-10-04T10:08:45.147Z"
   },
   {
    "duration": 49,
    "start_time": "2021-10-04T10:08:45.233Z"
   },
   {
    "duration": 144,
    "start_time": "2021-10-04T10:08:45.285Z"
   },
   {
    "duration": -1690,
    "start_time": "2021-10-04T10:08:47.122Z"
   },
   {
    "duration": -1699,
    "start_time": "2021-10-04T10:08:47.132Z"
   },
   {
    "duration": -1703,
    "start_time": "2021-10-04T10:08:47.138Z"
   },
   {
    "duration": 80,
    "start_time": "2021-10-04T10:09:56.807Z"
   },
   {
    "duration": 32,
    "start_time": "2021-10-04T10:09:56.889Z"
   },
   {
    "duration": 70,
    "start_time": "2021-10-04T10:09:56.924Z"
   },
   {
    "duration": 160,
    "start_time": "2021-10-04T10:09:56.997Z"
   },
   {
    "duration": 3388,
    "start_time": "2021-10-04T10:09:57.160Z"
   },
   {
    "duration": 67,
    "start_time": "2021-10-04T10:10:00.558Z"
   },
   {
    "duration": 87,
    "start_time": "2021-10-04T10:13:53.397Z"
   },
   {
    "duration": 34,
    "start_time": "2021-10-04T10:13:53.487Z"
   },
   {
    "duration": 508,
    "start_time": "2021-10-04T10:13:53.524Z"
   },
   {
    "duration": -1695,
    "start_time": "2021-10-04T10:13:55.731Z"
   },
   {
    "duration": -1700,
    "start_time": "2021-10-04T10:13:55.737Z"
   },
   {
    "duration": -1703,
    "start_time": "2021-10-04T10:13:55.742Z"
   },
   {
    "duration": 83,
    "start_time": "2021-10-04T10:15:26.763Z"
   },
   {
    "duration": 35,
    "start_time": "2021-10-04T10:15:26.848Z"
   },
   {
    "duration": 426,
    "start_time": "2021-10-04T10:15:26.885Z"
   },
   {
    "duration": -1715,
    "start_time": "2021-10-04T10:15:29.029Z"
   },
   {
    "duration": -1722,
    "start_time": "2021-10-04T10:15:29.037Z"
   },
   {
    "duration": -1726,
    "start_time": "2021-10-04T10:15:29.043Z"
   },
   {
    "duration": 812,
    "start_time": "2021-10-04T10:19:05.216Z"
   },
   {
    "duration": 44,
    "start_time": "2021-10-04T10:19:06.031Z"
   },
   {
    "duration": 508,
    "start_time": "2021-10-04T10:19:06.078Z"
   },
   {
    "duration": -1709,
    "start_time": "2021-10-04T10:19:08.297Z"
   },
   {
    "duration": -1718,
    "start_time": "2021-10-04T10:19:08.308Z"
   },
   {
    "duration": -1723,
    "start_time": "2021-10-04T10:19:08.314Z"
   },
   {
    "duration": 82,
    "start_time": "2021-10-04T10:27:25.693Z"
   },
   {
    "duration": 31,
    "start_time": "2021-10-04T10:27:25.777Z"
   },
   {
    "duration": 421,
    "start_time": "2021-10-04T10:27:25.811Z"
   },
   {
    "duration": -1714,
    "start_time": "2021-10-04T10:27:27.949Z"
   },
   {
    "duration": -1723,
    "start_time": "2021-10-04T10:27:27.959Z"
   },
   {
    "duration": -1729,
    "start_time": "2021-10-04T10:27:27.967Z"
   },
   {
    "duration": 81,
    "start_time": "2021-10-04T10:34:23.672Z"
   },
   {
    "duration": 33,
    "start_time": "2021-10-04T10:34:23.755Z"
   },
   {
    "duration": 458,
    "start_time": "2021-10-04T10:34:23.792Z"
   },
   {
    "duration": -1715,
    "start_time": "2021-10-04T10:34:25.968Z"
   },
   {
    "duration": -1727,
    "start_time": "2021-10-04T10:34:25.983Z"
   },
   {
    "duration": -1731,
    "start_time": "2021-10-04T10:34:25.989Z"
   },
   {
    "duration": 83,
    "start_time": "2021-10-04T10:35:37.059Z"
   },
   {
    "duration": 38,
    "start_time": "2021-10-04T10:35:37.144Z"
   },
   {
    "duration": 416,
    "start_time": "2021-10-04T10:35:37.185Z"
   },
   {
    "duration": -1751,
    "start_time": "2021-10-04T10:35:39.354Z"
   },
   {
    "duration": -1755,
    "start_time": "2021-10-04T10:35:39.360Z"
   },
   {
    "duration": -1765,
    "start_time": "2021-10-04T10:35:39.371Z"
   },
   {
    "duration": 814,
    "start_time": "2021-10-04T10:48:30.992Z"
   },
   {
    "duration": 54,
    "start_time": "2021-10-04T10:48:31.809Z"
   },
   {
    "duration": 484,
    "start_time": "2021-10-04T10:48:31.866Z"
   },
   {
    "duration": -1731,
    "start_time": "2021-10-04T10:48:34.083Z"
   },
   {
    "duration": -1743,
    "start_time": "2021-10-04T10:48:34.097Z"
   },
   {
    "duration": -1750,
    "start_time": "2021-10-04T10:48:34.105Z"
   },
   {
    "duration": 839,
    "start_time": "2021-10-04T10:50:46.217Z"
   },
   {
    "duration": 41,
    "start_time": "2021-10-04T10:50:47.058Z"
   },
   {
    "duration": 1573,
    "start_time": "2021-10-04T10:50:47.102Z"
   },
   {
    "duration": -1721,
    "start_time": "2021-10-04T10:50:50.399Z"
   },
   {
    "duration": -1730,
    "start_time": "2021-10-04T10:50:50.409Z"
   },
   {
    "duration": -1741,
    "start_time": "2021-10-04T10:50:50.422Z"
   },
   {
    "duration": 79,
    "start_time": "2021-10-04T10:53:19.426Z"
   },
   {
    "duration": 30,
    "start_time": "2021-10-04T10:53:19.508Z"
   },
   {
    "duration": 1865,
    "start_time": "2021-10-04T10:53:19.559Z"
   },
   {
    "duration": -1756,
    "start_time": "2021-10-04T10:53:23.182Z"
   },
   {
    "duration": -1769,
    "start_time": "2021-10-04T10:53:23.197Z"
   },
   {
    "duration": -1777,
    "start_time": "2021-10-04T10:53:23.206Z"
   },
   {
    "duration": 82,
    "start_time": "2021-10-04T10:54:42.893Z"
   },
   {
    "duration": 33,
    "start_time": "2021-10-04T10:54:42.978Z"
   },
   {
    "duration": 132,
    "start_time": "2021-10-04T10:54:43.014Z"
   },
   {
    "duration": -1775,
    "start_time": "2021-10-04T10:54:44.923Z"
   },
   {
    "duration": -1779,
    "start_time": "2021-10-04T10:54:44.929Z"
   },
   {
    "duration": -1789,
    "start_time": "2021-10-04T10:54:44.940Z"
   },
   {
    "duration": 80,
    "start_time": "2021-10-04T10:55:23.990Z"
   },
   {
    "duration": 34,
    "start_time": "2021-10-04T10:55:24.072Z"
   },
   {
    "duration": 1853,
    "start_time": "2021-10-04T10:55:24.109Z"
   },
   {
    "duration": -1728,
    "start_time": "2021-10-04T10:55:27.693Z"
   },
   {
    "duration": -1734,
    "start_time": "2021-10-04T10:55:27.700Z"
   },
   {
    "duration": -1744,
    "start_time": "2021-10-04T10:55:27.712Z"
   },
   {
    "duration": 820,
    "start_time": "2021-10-04T11:05:09.490Z"
   },
   {
    "duration": 69,
    "start_time": "2021-10-04T11:05:10.314Z"
   },
   {
    "duration": 1850,
    "start_time": "2021-10-04T11:05:10.387Z"
   },
   {
    "duration": 43,
    "start_time": "2021-10-04T11:05:12.196Z"
   },
   {
    "duration": 38,
    "start_time": "2021-10-04T11:05:12.203Z"
   },
   {
    "duration": 21,
    "start_time": "2021-10-04T11:05:12.221Z"
   },
   {
    "duration": 844,
    "start_time": "2021-10-04T11:10:10.866Z"
   },
   {
    "duration": 59,
    "start_time": "2021-10-04T11:10:11.713Z"
   },
   {
    "duration": 122,
    "start_time": "2021-10-04T11:10:11.776Z"
   },
   {
    "duration": 62,
    "start_time": "2021-10-04T11:10:11.838Z"
   },
   {
    "duration": 56,
    "start_time": "2021-10-04T11:10:11.846Z"
   },
   {
    "duration": 51,
    "start_time": "2021-10-04T11:10:11.852Z"
   },
   {
    "duration": 85,
    "start_time": "2021-10-04T11:13:14.095Z"
   },
   {
    "duration": 33,
    "start_time": "2021-10-04T11:13:14.183Z"
   },
   {
    "duration": 1587,
    "start_time": "2021-10-04T11:13:14.221Z"
   },
   {
    "duration": 29,
    "start_time": "2021-10-04T11:13:15.781Z"
   },
   {
    "duration": -8,
    "start_time": "2021-10-04T11:13:15.820Z"
   },
   {
    "duration": -14,
    "start_time": "2021-10-04T11:13:15.827Z"
   },
   {
    "duration": 842,
    "start_time": "2021-10-04T11:15:09.052Z"
   },
   {
    "duration": 43,
    "start_time": "2021-10-04T11:15:09.897Z"
   },
   {
    "duration": 4100,
    "start_time": "2021-10-04T11:15:09.958Z"
   },
   {
    "duration": 23,
    "start_time": "2021-10-04T11:15:14.037Z"
   },
   {
    "duration": 14,
    "start_time": "2021-10-04T11:15:14.048Z"
   },
   {
    "duration": -1,
    "start_time": "2021-10-04T11:15:14.064Z"
   },
   {
    "duration": 80,
    "start_time": "2021-10-04T11:23:24.930Z"
   },
   {
    "duration": 46,
    "start_time": "2021-10-04T11:23:25.013Z"
   },
   {
    "duration": 3808,
    "start_time": "2021-10-04T11:23:25.062Z"
   },
   {
    "duration": 19,
    "start_time": "2021-10-04T11:23:28.855Z"
   },
   {
    "duration": -2,
    "start_time": "2021-10-04T11:23:28.878Z"
   },
   {
    "duration": -6,
    "start_time": "2021-10-04T11:23:28.885Z"
   },
   {
    "duration": 83,
    "start_time": "2021-10-04T11:24:20.884Z"
   },
   {
    "duration": 34,
    "start_time": "2021-10-04T11:24:20.970Z"
   },
   {
    "duration": 4334,
    "start_time": "2021-10-04T11:24:21.008Z"
   },
   {
    "duration": 18,
    "start_time": "2021-10-04T11:24:25.327Z"
   },
   {
    "duration": 1,
    "start_time": "2021-10-04T11:24:25.346Z"
   },
   {
    "duration": -5,
    "start_time": "2021-10-04T11:24:25.354Z"
   },
   {
    "duration": 1463,
    "start_time": "2021-10-04T11:25:50.667Z"
   },
   {
    "duration": 827,
    "start_time": "2021-10-04T11:26:18.777Z"
   },
   {
    "duration": 50,
    "start_time": "2021-10-04T11:26:19.607Z"
   },
   {
    "duration": 3143,
    "start_time": "2021-10-04T11:26:19.661Z"
   },
   {
    "duration": -1317,
    "start_time": "2021-10-04T11:26:24.124Z"
   },
   {
    "duration": -1333,
    "start_time": "2021-10-04T11:26:24.141Z"
   },
   {
    "duration": -1338,
    "start_time": "2021-10-04T11:26:24.148Z"
   },
   {
    "duration": 84,
    "start_time": "2021-10-04T11:27:58.326Z"
   },
   {
    "duration": 51,
    "start_time": "2021-10-04T11:27:58.413Z"
   },
   {
    "duration": 680,
    "start_time": "2021-10-04T11:27:58.467Z"
   },
   {
    "duration": -5,
    "start_time": "2021-10-04T11:27:59.155Z"
   },
   {
    "duration": -11,
    "start_time": "2021-10-04T11:27:59.162Z"
   },
   {
    "duration": -20,
    "start_time": "2021-10-04T11:27:59.173Z"
   },
   {
    "duration": 82,
    "start_time": "2021-10-04T11:29:00.787Z"
   },
   {
    "duration": 36,
    "start_time": "2021-10-04T11:29:00.872Z"
   },
   {
    "duration": 702,
    "start_time": "2021-10-04T11:29:00.911Z"
   },
   {
    "duration": -10,
    "start_time": "2021-10-04T11:29:01.626Z"
   },
   {
    "duration": -16,
    "start_time": "2021-10-04T11:29:01.633Z"
   },
   {
    "duration": -20,
    "start_time": "2021-10-04T11:29:01.639Z"
   },
   {
    "duration": 80,
    "start_time": "2021-10-04T11:29:48.632Z"
   },
   {
    "duration": 45,
    "start_time": "2021-10-04T11:29:48.714Z"
   },
   {
    "duration": 2458,
    "start_time": "2021-10-04T11:29:48.761Z"
   },
   {
    "duration": 821,
    "start_time": "2021-10-04T11:29:51.222Z"
   },
   {
    "duration": -11,
    "start_time": "2021-10-04T11:29:52.057Z"
   },
   {
    "duration": -22,
    "start_time": "2021-10-04T11:29:52.069Z"
   },
   {
    "duration": 792,
    "start_time": "2021-10-04T11:31:58.403Z"
   },
   {
    "duration": 39,
    "start_time": "2021-10-04T11:31:59.198Z"
   },
   {
    "duration": 2319,
    "start_time": "2021-10-04T11:31:59.240Z"
   },
   {
    "duration": 871,
    "start_time": "2021-10-04T11:32:01.562Z"
   },
   {
    "duration": -4,
    "start_time": "2021-10-04T11:32:02.440Z"
   },
   {
    "duration": -11,
    "start_time": "2021-10-04T11:32:02.449Z"
   },
   {
    "duration": 80,
    "start_time": "2021-10-04T11:38:23.568Z"
   },
   {
    "duration": 31,
    "start_time": "2021-10-04T11:38:23.651Z"
   },
   {
    "duration": 667,
    "start_time": "2021-10-04T11:38:23.685Z"
   },
   {
    "duration": -9,
    "start_time": "2021-10-04T11:38:24.364Z"
   },
   {
    "duration": -14,
    "start_time": "2021-10-04T11:38:24.371Z"
   },
   {
    "duration": -20,
    "start_time": "2021-10-04T11:38:24.379Z"
   },
   {
    "duration": 819,
    "start_time": "2021-10-04T11:39:46.115Z"
   },
   {
    "duration": 43,
    "start_time": "2021-10-04T11:39:46.937Z"
   },
   {
    "duration": 2964,
    "start_time": "2021-10-04T11:39:46.983Z"
   },
   {
    "duration": -27,
    "start_time": "2021-10-04T11:39:49.977Z"
   },
   {
    "duration": -36,
    "start_time": "2021-10-04T11:39:49.987Z"
   },
   {
    "duration": -41,
    "start_time": "2021-10-04T11:39:49.993Z"
   },
   {
    "duration": 82,
    "start_time": "2021-10-04T11:42:38.361Z"
   },
   {
    "duration": 34,
    "start_time": "2021-10-04T11:42:38.446Z"
   },
   {
    "duration": 2345,
    "start_time": "2021-10-04T11:42:38.483Z"
   },
   {
    "duration": 810,
    "start_time": "2021-10-04T11:42:40.830Z"
   },
   {
    "duration": -20,
    "start_time": "2021-10-04T11:42:41.663Z"
   },
   {
    "duration": -26,
    "start_time": "2021-10-04T11:42:41.670Z"
   },
   {
    "duration": 81,
    "start_time": "2021-10-04T11:43:22.579Z"
   },
   {
    "duration": 32,
    "start_time": "2021-10-04T11:43:22.663Z"
   },
   {
    "duration": 2731,
    "start_time": "2021-10-04T11:43:22.698Z"
   },
   {
    "duration": -12,
    "start_time": "2021-10-04T11:43:25.443Z"
   },
   {
    "duration": -26,
    "start_time": "2021-10-04T11:43:25.459Z"
   },
   {
    "duration": -33,
    "start_time": "2021-10-04T11:43:25.468Z"
   },
   {
    "duration": 80,
    "start_time": "2021-10-04T11:44:07.070Z"
   },
   {
    "duration": 30,
    "start_time": "2021-10-04T11:44:07.153Z"
   },
   {
    "duration": 2311,
    "start_time": "2021-10-04T11:44:07.186Z"
   },
   {
    "duration": 971,
    "start_time": "2021-10-04T11:44:09.499Z"
   },
   {
    "duration": -18,
    "start_time": "2021-10-04T11:44:10.492Z"
   },
   {
    "duration": -25,
    "start_time": "2021-10-04T11:44:10.501Z"
   },
   {
    "duration": 895,
    "start_time": "2021-10-04T11:46:14.245Z"
   },
   {
    "duration": 46,
    "start_time": "2021-10-04T11:46:15.143Z"
   },
   {
    "duration": 2332,
    "start_time": "2021-10-04T11:46:15.194Z"
   },
   {
    "duration": 940,
    "start_time": "2021-10-04T11:46:17.529Z"
   },
   {
    "duration": -16,
    "start_time": "2021-10-04T11:46:18.488Z"
   },
   {
    "duration": -30,
    "start_time": "2021-10-04T11:46:18.504Z"
   },
   {
    "duration": 82,
    "start_time": "2021-10-04T11:47:21.163Z"
   },
   {
    "duration": 32,
    "start_time": "2021-10-04T11:47:21.248Z"
   },
   {
    "duration": 2244,
    "start_time": "2021-10-04T11:47:21.283Z"
   },
   {
    "duration": 740,
    "start_time": "2021-10-04T11:47:23.530Z"
   },
   {
    "duration": -12,
    "start_time": "2021-10-04T11:47:24.285Z"
   },
   {
    "duration": -17,
    "start_time": "2021-10-04T11:47:24.292Z"
   },
   {
    "duration": 905,
    "start_time": "2021-10-04T11:53:37.265Z"
   },
   {
    "duration": 41,
    "start_time": "2021-10-04T11:53:38.173Z"
   },
   {
    "duration": 2914,
    "start_time": "2021-10-04T11:53:38.218Z"
   },
   {
    "duration": 863,
    "start_time": "2021-10-04T11:53:41.135Z"
   },
   {
    "duration": -43,
    "start_time": "2021-10-04T11:53:42.045Z"
   },
   {
    "duration": -52,
    "start_time": "2021-10-04T11:53:42.056Z"
   },
   {
    "duration": 998,
    "start_time": "2021-10-04T12:10:15.955Z"
   },
   {
    "duration": 40,
    "start_time": "2021-10-04T12:10:16.956Z"
   },
   {
    "duration": 2274,
    "start_time": "2021-10-04T12:10:16.999Z"
   },
   {
    "duration": 152,
    "start_time": "2021-10-04T12:10:19.276Z"
   },
   {
    "duration": 3249,
    "start_time": "2021-10-04T12:10:19.431Z"
   },
   {
    "duration": 141,
    "start_time": "2021-10-04T12:10:22.683Z"
   },
   {
    "duration": 91,
    "start_time": "2021-10-04T12:18:45.956Z"
   },
   {
    "duration": 38,
    "start_time": "2021-10-04T12:18:46.050Z"
   },
   {
    "duration": 2308,
    "start_time": "2021-10-04T12:18:46.092Z"
   },
   {
    "duration": 143,
    "start_time": "2021-10-04T12:18:48.403Z"
   },
   {
    "duration": 3470,
    "start_time": "2021-10-04T12:18:48.549Z"
   },
   {
    "duration": 222,
    "start_time": "2021-10-04T12:18:52.021Z"
   },
   {
    "duration": 91,
    "start_time": "2021-10-04T12:31:41.515Z"
   },
   {
    "duration": 50,
    "start_time": "2021-10-04T12:31:41.609Z"
   },
   {
    "duration": 2320,
    "start_time": "2021-10-04T12:31:41.662Z"
   },
   {
    "duration": 144,
    "start_time": "2021-10-04T12:31:43.985Z"
   },
   {
    "duration": 3313,
    "start_time": "2021-10-04T12:31:44.132Z"
   },
   {
    "duration": 222,
    "start_time": "2021-10-04T12:31:47.448Z"
   },
   {
    "duration": 90,
    "start_time": "2021-10-04T12:38:43.206Z"
   },
   {
    "duration": 34,
    "start_time": "2021-10-04T12:38:43.299Z"
   },
   {
    "duration": 2303,
    "start_time": "2021-10-04T12:38:43.357Z"
   },
   {
    "duration": 147,
    "start_time": "2021-10-04T12:38:45.662Z"
   },
   {
    "duration": 3271,
    "start_time": "2021-10-04T12:38:45.811Z"
   },
   {
    "duration": 297,
    "start_time": "2021-10-04T12:38:49.085Z"
   },
   {
    "duration": 89,
    "start_time": "2021-10-04T12:46:23.358Z"
   },
   {
    "duration": 37,
    "start_time": "2021-10-04T12:46:23.449Z"
   },
   {
    "duration": 2293,
    "start_time": "2021-10-04T12:46:23.489Z"
   },
   {
    "duration": 150,
    "start_time": "2021-10-04T12:46:25.784Z"
   },
   {
    "duration": 3400,
    "start_time": "2021-10-04T12:46:25.936Z"
   },
   {
    "duration": 203,
    "start_time": "2021-10-04T12:46:29.339Z"
   },
   {
    "duration": 86,
    "start_time": "2021-10-04T12:49:11.112Z"
   },
   {
    "duration": 31,
    "start_time": "2021-10-04T12:49:11.200Z"
   },
   {
    "duration": 2330,
    "start_time": "2021-10-04T12:49:11.234Z"
   },
   {
    "duration": 145,
    "start_time": "2021-10-04T12:49:13.566Z"
   },
   {
    "duration": 3374,
    "start_time": "2021-10-04T12:49:13.714Z"
   },
   {
    "duration": 644,
    "start_time": "2021-10-04T12:49:17.091Z"
   },
   {
    "duration": 892,
    "start_time": "2021-10-04T12:49:57.866Z"
   },
   {
    "duration": 44,
    "start_time": "2021-10-04T12:49:58.762Z"
   },
   {
    "duration": 2537,
    "start_time": "2021-10-04T12:49:58.809Z"
   },
   {
    "duration": 166,
    "start_time": "2021-10-04T12:50:01.348Z"
   },
   {
    "duration": 3519,
    "start_time": "2021-10-04T12:50:01.516Z"
   },
   {
    "duration": 204,
    "start_time": "2021-10-04T12:50:05.038Z"
   },
   {
    "duration": 89,
    "start_time": "2021-10-04T12:51:04.453Z"
   },
   {
    "duration": 42,
    "start_time": "2021-10-04T12:51:04.545Z"
   },
   {
    "duration": 2353,
    "start_time": "2021-10-04T12:51:04.590Z"
   },
   {
    "duration": 152,
    "start_time": "2021-10-04T12:51:06.946Z"
   },
   {
    "duration": 3314,
    "start_time": "2021-10-04T12:51:07.100Z"
   },
   {
    "duration": 1140,
    "start_time": "2021-10-04T12:51:10.417Z"
   },
   {
    "duration": 87,
    "start_time": "2021-10-04T12:51:51.337Z"
   },
   {
    "duration": 41,
    "start_time": "2021-10-04T12:51:51.427Z"
   },
   {
    "duration": 2494,
    "start_time": "2021-10-04T12:51:51.470Z"
   },
   {
    "duration": 147,
    "start_time": "2021-10-04T12:51:53.967Z"
   },
   {
    "duration": 3420,
    "start_time": "2021-10-04T12:51:54.116Z"
   },
   {
    "duration": 229,
    "start_time": "2021-10-04T12:51:57.539Z"
   },
   {
    "duration": 98,
    "start_time": "2021-10-04T12:58:45.927Z"
   },
   {
    "duration": 55,
    "start_time": "2021-10-04T12:58:46.029Z"
   },
   {
    "duration": 2487,
    "start_time": "2021-10-04T12:58:46.087Z"
   },
   {
    "duration": 165,
    "start_time": "2021-10-04T12:58:48.577Z"
   },
   {
    "duration": 3530,
    "start_time": "2021-10-04T12:58:48.745Z"
   },
   {
    "duration": 950,
    "start_time": "2021-10-04T12:58:52.278Z"
   },
   {
    "duration": 88,
    "start_time": "2021-10-04T13:05:37.419Z"
   },
   {
    "duration": 48,
    "start_time": "2021-10-04T13:05:37.510Z"
   },
   {
    "duration": 2284,
    "start_time": "2021-10-04T13:05:37.561Z"
   },
   {
    "duration": 146,
    "start_time": "2021-10-04T13:05:39.847Z"
   },
   {
    "duration": 3323,
    "start_time": "2021-10-04T13:05:39.996Z"
   },
   {
    "duration": 506,
    "start_time": "2021-10-04T13:05:43.322Z"
   },
   {
    "duration": 90,
    "start_time": "2021-10-04T13:07:52.758Z"
   },
   {
    "duration": 33,
    "start_time": "2021-10-04T13:07:52.851Z"
   },
   {
    "duration": 2388,
    "start_time": "2021-10-04T13:07:52.887Z"
   },
   {
    "duration": 150,
    "start_time": "2021-10-04T13:07:55.278Z"
   },
   {
    "duration": 3630,
    "start_time": "2021-10-04T13:07:55.431Z"
   },
   {
    "duration": 530,
    "start_time": "2021-10-04T13:07:59.064Z"
   },
   {
    "duration": 89,
    "start_time": "2021-10-04T13:08:52.877Z"
   },
   {
    "duration": 32,
    "start_time": "2021-10-04T13:08:52.969Z"
   },
   {
    "duration": 2324,
    "start_time": "2021-10-04T13:08:53.004Z"
   },
   {
    "duration": 154,
    "start_time": "2021-10-04T13:08:55.331Z"
   },
   {
    "duration": 3494,
    "start_time": "2021-10-04T13:08:55.488Z"
   },
   {
    "duration": 151,
    "start_time": "2021-10-04T13:08:58.985Z"
   },
   {
    "duration": 828,
    "start_time": "2021-10-04T13:09:58.978Z"
   },
   {
    "duration": 56,
    "start_time": "2021-10-04T13:09:59.810Z"
   },
   {
    "duration": 2317,
    "start_time": "2021-10-04T13:09:59.870Z"
   },
   {
    "duration": 160,
    "start_time": "2021-10-04T13:10:02.190Z"
   },
   {
    "duration": 3247,
    "start_time": "2021-10-04T13:10:02.358Z"
   },
   {
    "duration": 157,
    "start_time": "2021-10-04T13:10:05.608Z"
   },
   {
    "duration": 85,
    "start_time": "2021-10-04T13:15:55.948Z"
   },
   {
    "duration": 37,
    "start_time": "2021-10-04T13:15:56.036Z"
   },
   {
    "duration": 2294,
    "start_time": "2021-10-04T13:15:56.076Z"
   },
   {
    "duration": 144,
    "start_time": "2021-10-04T13:15:58.372Z"
   },
   {
    "duration": 3818,
    "start_time": "2021-10-04T13:15:58.518Z"
   },
   {
    "duration": 168,
    "start_time": "2021-10-04T13:16:02.339Z"
   },
   {
    "duration": 88,
    "start_time": "2021-10-04T13:20:16.568Z"
   },
   {
    "duration": 33,
    "start_time": "2021-10-04T13:20:16.659Z"
   },
   {
    "duration": 2316,
    "start_time": "2021-10-04T13:20:16.695Z"
   },
   {
    "duration": 154,
    "start_time": "2021-10-04T13:20:19.013Z"
   },
   {
    "duration": 3399,
    "start_time": "2021-10-04T13:20:19.171Z"
   },
   {
    "duration": 191,
    "start_time": "2021-10-04T13:20:22.573Z"
   },
   {
    "duration": 85,
    "start_time": "2021-10-04T13:30:44.243Z"
   },
   {
    "duration": 48,
    "start_time": "2021-10-04T13:30:44.331Z"
   },
   {
    "duration": 2387,
    "start_time": "2021-10-04T13:30:44.382Z"
   },
   {
    "duration": 153,
    "start_time": "2021-10-04T13:30:46.772Z"
   },
   {
    "duration": 3359,
    "start_time": "2021-10-04T13:30:46.927Z"
   },
   {
    "duration": 175,
    "start_time": "2021-10-04T13:30:50.289Z"
   },
   {
    "duration": 80,
    "start_time": "2021-10-04T13:33:53.280Z"
   },
   {
    "duration": 32,
    "start_time": "2021-10-04T13:33:53.362Z"
   },
   {
    "duration": 2327,
    "start_time": "2021-10-04T13:33:53.398Z"
   },
   {
    "duration": 147,
    "start_time": "2021-10-04T13:33:55.727Z"
   },
   {
    "duration": 3455,
    "start_time": "2021-10-04T13:33:55.876Z"
   },
   {
    "duration": 175,
    "start_time": "2021-10-04T13:33:59.334Z"
   },
   {
    "duration": 83,
    "start_time": "2021-10-04T13:39:48.354Z"
   },
   {
    "duration": 38,
    "start_time": "2021-10-04T13:39:48.440Z"
   },
   {
    "duration": 2340,
    "start_time": "2021-10-04T13:39:48.481Z"
   },
   {
    "duration": 151,
    "start_time": "2021-10-04T13:39:50.824Z"
   },
   {
    "duration": 3406,
    "start_time": "2021-10-04T13:39:50.977Z"
   },
   {
    "duration": 173,
    "start_time": "2021-10-04T13:39:54.385Z"
   },
   {
    "duration": 79,
    "start_time": "2021-10-04T13:40:33.200Z"
   },
   {
    "duration": 30,
    "start_time": "2021-10-04T13:40:33.281Z"
   },
   {
    "duration": 2265,
    "start_time": "2021-10-04T13:40:33.314Z"
   },
   {
    "duration": 145,
    "start_time": "2021-10-04T13:40:35.581Z"
   },
   {
    "duration": 3428,
    "start_time": "2021-10-04T13:40:35.729Z"
   },
   {
    "duration": 171,
    "start_time": "2021-10-04T13:40:39.160Z"
   },
   {
    "duration": 77,
    "start_time": "2021-10-04T13:42:19.398Z"
   },
   {
    "duration": 32,
    "start_time": "2021-10-04T13:42:19.477Z"
   },
   {
    "duration": 2458,
    "start_time": "2021-10-04T13:42:19.512Z"
   },
   {
    "duration": 151,
    "start_time": "2021-10-04T13:42:21.972Z"
   },
   {
    "duration": 3547,
    "start_time": "2021-10-04T13:42:22.125Z"
   },
   {
    "duration": 176,
    "start_time": "2021-10-04T13:42:25.675Z"
   },
   {
    "duration": 83,
    "start_time": "2021-10-04T13:50:01.513Z"
   },
   {
    "duration": 32,
    "start_time": "2021-10-04T13:50:01.599Z"
   },
   {
    "duration": 2528,
    "start_time": "2021-10-04T13:50:01.635Z"
   },
   {
    "duration": 159,
    "start_time": "2021-10-04T13:50:04.166Z"
   },
   {
    "duration": 3906,
    "start_time": "2021-10-04T13:50:04.328Z"
   },
   {
    "duration": 173,
    "start_time": "2021-10-04T13:50:08.236Z"
   },
   {
    "duration": 906,
    "start_time": "2021-10-04T13:52:02.129Z"
   },
   {
    "duration": 40,
    "start_time": "2021-10-04T13:52:03.038Z"
   },
   {
    "duration": 2335,
    "start_time": "2021-10-04T13:52:03.081Z"
   },
   {
    "duration": 163,
    "start_time": "2021-10-04T13:52:05.419Z"
   },
   {
    "duration": 3833,
    "start_time": "2021-10-04T13:52:05.584Z"
   },
   {
    "duration": 165,
    "start_time": "2021-10-04T13:52:09.420Z"
   },
   {
    "duration": 719,
    "start_time": "2021-10-04T13:55:08.480Z"
   },
   {
    "duration": 41,
    "start_time": "2021-10-04T13:55:09.202Z"
   },
   {
    "duration": 2386,
    "start_time": "2021-10-04T13:55:09.259Z"
   },
   {
    "duration": 151,
    "start_time": "2021-10-04T13:55:11.647Z"
   },
   {
    "duration": 3475,
    "start_time": "2021-10-04T13:55:11.801Z"
   },
   {
    "duration": 184,
    "start_time": "2021-10-04T13:55:15.279Z"
   },
   {
    "duration": 85,
    "start_time": "2021-10-04T14:19:04.506Z"
   },
   {
    "duration": 34,
    "start_time": "2021-10-04T14:19:04.594Z"
   },
   {
    "duration": 2353,
    "start_time": "2021-10-04T14:19:04.631Z"
   },
   {
    "duration": 147,
    "start_time": "2021-10-04T14:19:06.987Z"
   },
   {
    "duration": 3439,
    "start_time": "2021-10-04T14:19:07.137Z"
   },
   {
    "duration": 621,
    "start_time": "2021-10-04T14:19:10.578Z"
   },
   {
    "duration": 88,
    "start_time": "2021-10-04T14:20:03.497Z"
   },
   {
    "duration": 34,
    "start_time": "2021-10-04T14:20:03.588Z"
   },
   {
    "duration": 2409,
    "start_time": "2021-10-04T14:20:03.626Z"
   },
   {
    "duration": 153,
    "start_time": "2021-10-04T14:20:06.038Z"
   },
   {
    "duration": 4119,
    "start_time": "2021-10-04T14:20:06.194Z"
   },
   {
    "duration": 642,
    "start_time": "2021-10-04T14:20:10.316Z"
   },
   {
    "duration": 88,
    "start_time": "2021-10-04T14:21:00.724Z"
   },
   {
    "duration": 53,
    "start_time": "2021-10-04T14:21:00.815Z"
   },
   {
    "duration": 2353,
    "start_time": "2021-10-04T14:21:00.873Z"
   },
   {
    "duration": 157,
    "start_time": "2021-10-04T14:21:03.228Z"
   },
   {
    "duration": 3521,
    "start_time": "2021-10-04T14:21:03.388Z"
   },
   {
    "duration": 545,
    "start_time": "2021-10-04T14:21:06.912Z"
   },
   {
    "duration": 87,
    "start_time": "2021-10-04T14:28:21.578Z"
   },
   {
    "duration": 35,
    "start_time": "2021-10-04T14:28:21.667Z"
   },
   {
    "duration": 2304,
    "start_time": "2021-10-04T14:28:21.705Z"
   },
   {
    "duration": 154,
    "start_time": "2021-10-04T14:28:24.012Z"
   },
   {
    "duration": 3401,
    "start_time": "2021-10-04T14:28:24.169Z"
   },
   {
    "duration": 170,
    "start_time": "2021-10-04T14:28:27.573Z"
   },
   {
    "duration": 89,
    "start_time": "2021-10-04T14:37:33.144Z"
   },
   {
    "duration": 47,
    "start_time": "2021-10-04T14:37:33.236Z"
   },
   {
    "duration": 2282,
    "start_time": "2021-10-04T14:37:33.286Z"
   },
   {
    "duration": 146,
    "start_time": "2021-10-04T14:37:35.570Z"
   },
   {
    "duration": 3649,
    "start_time": "2021-10-04T14:37:35.719Z"
   },
   {
    "duration": 174,
    "start_time": "2021-10-04T14:37:39.371Z"
   },
   {
    "duration": 91,
    "start_time": "2021-10-04T14:44:00.956Z"
   },
   {
    "duration": 44,
    "start_time": "2021-10-04T14:44:01.050Z"
   },
   {
    "duration": 2368,
    "start_time": "2021-10-04T14:44:01.099Z"
   },
   {
    "duration": 159,
    "start_time": "2021-10-04T14:44:03.470Z"
   },
   {
    "duration": 3543,
    "start_time": "2021-10-04T14:44:03.631Z"
   },
   {
    "duration": 217,
    "start_time": "2021-10-04T14:44:07.178Z"
   },
   {
    "duration": 91,
    "start_time": "2021-10-04T14:57:31.419Z"
   },
   {
    "duration": 47,
    "start_time": "2021-10-04T14:57:31.513Z"
   },
   {
    "duration": 2298,
    "start_time": "2021-10-04T14:57:31.563Z"
   },
   {
    "duration": 149,
    "start_time": "2021-10-04T14:57:33.864Z"
   },
   {
    "duration": 3378,
    "start_time": "2021-10-04T14:57:34.015Z"
   },
   {
    "duration": 198,
    "start_time": "2021-10-04T14:57:37.396Z"
   },
   {
    "duration": 98,
    "start_time": "2021-10-04T14:58:21.243Z"
   },
   {
    "duration": 41,
    "start_time": "2021-10-04T14:58:21.344Z"
   },
   {
    "duration": 2491,
    "start_time": "2021-10-04T14:58:21.388Z"
   },
   {
    "duration": 148,
    "start_time": "2021-10-04T14:58:23.882Z"
   },
   {
    "duration": 3679,
    "start_time": "2021-10-04T14:58:24.033Z"
   },
   {
    "duration": 196,
    "start_time": "2021-10-04T14:58:27.715Z"
   },
   {
    "duration": 89,
    "start_time": "2021-10-04T15:00:24.563Z"
   },
   {
    "duration": 38,
    "start_time": "2021-10-04T15:00:24.655Z"
   },
   {
    "duration": 2396,
    "start_time": "2021-10-04T15:00:24.697Z"
   },
   {
    "duration": 155,
    "start_time": "2021-10-04T15:00:27.096Z"
   },
   {
    "duration": 3565,
    "start_time": "2021-10-04T15:00:27.258Z"
   },
   {
    "duration": 214,
    "start_time": "2021-10-04T15:00:30.826Z"
   },
   {
    "duration": 92,
    "start_time": "2021-10-04T15:02:43.024Z"
   },
   {
    "duration": 47,
    "start_time": "2021-10-04T15:02:43.118Z"
   },
   {
    "duration": 2313,
    "start_time": "2021-10-04T15:02:43.168Z"
   },
   {
    "duration": 149,
    "start_time": "2021-10-04T15:02:45.484Z"
   },
   {
    "duration": 3362,
    "start_time": "2021-10-04T15:02:45.636Z"
   },
   {
    "duration": 215,
    "start_time": "2021-10-04T15:02:49.001Z"
   },
   {
    "duration": 843,
    "start_time": "2021-10-04T15:06:00.914Z"
   },
   {
    "duration": 39,
    "start_time": "2021-10-04T15:06:01.760Z"
   },
   {
    "duration": 2377,
    "start_time": "2021-10-04T15:06:01.802Z"
   },
   {
    "duration": 152,
    "start_time": "2021-10-04T15:06:04.181Z"
   },
   {
    "duration": 3354,
    "start_time": "2021-10-04T15:06:04.335Z"
   },
   {
    "duration": 213,
    "start_time": "2021-10-04T15:06:07.692Z"
   },
   {
    "duration": 91,
    "start_time": "2021-10-04T15:07:30.580Z"
   },
   {
    "duration": 38,
    "start_time": "2021-10-04T15:07:30.674Z"
   },
   {
    "duration": 2430,
    "start_time": "2021-10-04T15:07:30.717Z"
   },
   {
    "duration": 151,
    "start_time": "2021-10-04T15:07:33.150Z"
   },
   {
    "duration": 3509,
    "start_time": "2021-10-04T15:07:33.304Z"
   },
   {
    "duration": 201,
    "start_time": "2021-10-04T15:07:36.817Z"
   },
   {
    "duration": 93,
    "start_time": "2021-10-04T15:10:14.768Z"
   },
   {
    "duration": 36,
    "start_time": "2021-10-04T15:10:14.865Z"
   },
   {
    "duration": 3935,
    "start_time": "2021-10-04T15:10:14.904Z"
   },
   {
    "duration": -233,
    "start_time": "2021-10-04T15:10:19.075Z"
   },
   {
    "duration": -239,
    "start_time": "2021-10-04T15:10:19.083Z"
   },
   {
    "duration": -249,
    "start_time": "2021-10-04T15:10:19.094Z"
   },
   {
    "duration": 851,
    "start_time": "2021-10-04T15:12:11.069Z"
   },
   {
    "duration": 48,
    "start_time": "2021-10-04T15:12:11.922Z"
   },
   {
    "duration": 2885,
    "start_time": "2021-10-04T15:12:11.973Z"
   },
   {
    "duration": -143,
    "start_time": "2021-10-04T15:12:15.003Z"
   },
   {
    "duration": -161,
    "start_time": "2021-10-04T15:12:15.023Z"
   },
   {
    "duration": -166,
    "start_time": "2021-10-04T15:12:15.030Z"
   },
   {
    "duration": 82,
    "start_time": "2021-10-04T15:13:35.090Z"
   },
   {
    "duration": 34,
    "start_time": "2021-10-04T15:13:35.175Z"
   },
   {
    "duration": 2796,
    "start_time": "2021-10-04T15:13:35.212Z"
   },
   {
    "duration": -127,
    "start_time": "2021-10-04T15:13:38.137Z"
   },
   {
    "duration": -141,
    "start_time": "2021-10-04T15:13:38.153Z"
   },
   {
    "duration": -148,
    "start_time": "2021-10-04T15:13:38.162Z"
   },
   {
    "duration": 794,
    "start_time": "2021-10-04T15:14:21.107Z"
   },
   {
    "duration": 39,
    "start_time": "2021-10-04T15:14:21.903Z"
   },
   {
    "duration": 3020,
    "start_time": "2021-10-04T15:14:21.959Z"
   },
   {
    "duration": -110,
    "start_time": "2021-10-04T15:14:25.092Z"
   },
   {
    "duration": -114,
    "start_time": "2021-10-04T15:14:25.098Z"
   },
   {
    "duration": -127,
    "start_time": "2021-10-04T15:14:25.112Z"
   },
   {
    "duration": 1007,
    "start_time": "2021-10-04T15:15:58.634Z"
   },
   {
    "duration": 41,
    "start_time": "2021-10-04T15:15:59.644Z"
   },
   {
    "duration": 5457,
    "start_time": "2021-10-04T15:15:59.688Z"
   },
   {
    "duration": -183,
    "start_time": "2021-10-04T15:16:05.331Z"
   },
   {
    "duration": -187,
    "start_time": "2021-10-04T15:16:05.336Z"
   },
   {
    "duration": -192,
    "start_time": "2021-10-04T15:16:05.343Z"
   },
   {
    "duration": 824,
    "start_time": "2021-10-04T15:27:10.213Z"
   },
   {
    "duration": 45,
    "start_time": "2021-10-04T15:27:11.040Z"
   },
   {
    "duration": 549,
    "start_time": "2021-10-04T15:27:11.088Z"
   },
   {
    "duration": -139,
    "start_time": "2021-10-04T15:27:11.778Z"
   },
   {
    "duration": -142,
    "start_time": "2021-10-04T15:27:11.783Z"
   },
   {
    "duration": -150,
    "start_time": "2021-10-04T15:27:11.793Z"
   },
   {
    "duration": 1297,
    "start_time": "2021-10-04T15:32:18.973Z"
   },
   {
    "duration": 41,
    "start_time": "2021-10-04T15:32:20.272Z"
   },
   {
    "duration": 128,
    "start_time": "2021-10-04T15:32:20.316Z"
   },
   {
    "duration": -87,
    "start_time": "2021-10-04T15:32:20.534Z"
   },
   {
    "duration": -93,
    "start_time": "2021-10-04T15:32:20.541Z"
   },
   {
    "duration": -119,
    "start_time": "2021-10-04T15:32:20.569Z"
   },
   {
    "duration": 83,
    "start_time": "2021-10-04T15:33:29.364Z"
   },
   {
    "duration": 31,
    "start_time": "2021-10-04T15:33:29.450Z"
   },
   {
    "duration": 510,
    "start_time": "2021-10-04T15:33:29.485Z"
   },
   {
    "duration": -133,
    "start_time": "2021-10-04T15:33:30.130Z"
   },
   {
    "duration": -142,
    "start_time": "2021-10-04T15:33:30.141Z"
   },
   {
    "duration": -147,
    "start_time": "2021-10-04T15:33:30.147Z"
   },
   {
    "duration": 86,
    "start_time": "2021-10-04T15:36:12.149Z"
   },
   {
    "duration": 45,
    "start_time": "2021-10-04T15:36:12.238Z"
   },
   {
    "duration": 506,
    "start_time": "2021-10-04T15:36:12.286Z"
   },
   {
    "duration": -392,
    "start_time": "2021-10-04T15:36:13.188Z"
   },
   {
    "duration": -405,
    "start_time": "2021-10-04T15:36:13.203Z"
   },
   {
    "duration": -415,
    "start_time": "2021-10-04T15:36:13.215Z"
   },
   {
    "duration": 82,
    "start_time": "2021-10-04T15:38:07.382Z"
   },
   {
    "duration": 29,
    "start_time": "2021-10-04T15:38:07.467Z"
   },
   {
    "duration": 471,
    "start_time": "2021-10-04T15:38:07.499Z"
   },
   {
    "duration": -160,
    "start_time": "2021-10-04T15:38:08.133Z"
   },
   {
    "duration": -169,
    "start_time": "2021-10-04T15:38:08.144Z"
   },
   {
    "duration": -199,
    "start_time": "2021-10-04T15:38:08.176Z"
   },
   {
    "duration": 833,
    "start_time": "2021-10-04T15:41:06.576Z"
   },
   {
    "duration": 50,
    "start_time": "2021-10-04T15:41:07.412Z"
   },
   {
    "duration": 64,
    "start_time": "2021-10-04T15:41:07.467Z"
   },
   {
    "duration": 169,
    "start_time": "2021-10-04T15:41:07.535Z"
   },
   {
    "duration": 3377,
    "start_time": "2021-10-04T15:41:07.707Z"
   },
   {
    "duration": 117,
    "start_time": "2021-10-04T15:41:11.088Z"
   },
   {
    "duration": 94,
    "start_time": "2021-10-04T15:43:00.155Z"
   },
   {
    "duration": 39,
    "start_time": "2021-10-04T15:43:00.253Z"
   },
   {
    "duration": 124,
    "start_time": "2021-10-04T15:43:00.296Z"
   },
   {
    "duration": 192,
    "start_time": "2021-10-04T15:43:00.424Z"
   },
   {
    "duration": 3404,
    "start_time": "2021-10-04T15:43:00.618Z"
   },
   {
    "duration": 105,
    "start_time": "2021-10-04T15:43:04.025Z"
   },
   {
    "duration": 1060,
    "start_time": "2021-10-04T15:46:48.065Z"
   },
   {
    "duration": 65,
    "start_time": "2021-10-04T15:46:49.128Z"
   },
   {
    "duration": 92,
    "start_time": "2021-10-04T15:46:49.197Z"
   },
   {
    "duration": 211,
    "start_time": "2021-10-04T15:46:49.292Z"
   },
   {
    "duration": 3657,
    "start_time": "2021-10-04T15:46:49.506Z"
   },
   {
    "duration": 121,
    "start_time": "2021-10-04T15:46:53.165Z"
   },
   {
    "duration": 89,
    "start_time": "2021-10-04T15:49:03.235Z"
   },
   {
    "duration": 46,
    "start_time": "2021-10-04T15:49:03.327Z"
   },
   {
    "duration": 55,
    "start_time": "2021-10-04T15:49:03.376Z"
   },
   {
    "duration": 152,
    "start_time": "2021-10-04T15:49:03.434Z"
   },
   {
    "duration": 3511,
    "start_time": "2021-10-04T15:49:03.588Z"
   },
   {
    "duration": 92,
    "start_time": "2021-10-04T15:49:07.102Z"
   },
   {
    "duration": 87,
    "start_time": "2021-10-04T15:49:53.946Z"
   },
   {
    "duration": 49,
    "start_time": "2021-10-04T15:49:54.035Z"
   },
   {
    "duration": 77,
    "start_time": "2021-10-04T15:49:54.087Z"
   },
   {
    "duration": 132,
    "start_time": "2021-10-04T15:49:54.166Z"
   },
   {
    "duration": 3431,
    "start_time": "2021-10-04T15:49:54.301Z"
   },
   {
    "duration": 89,
    "start_time": "2021-10-04T15:49:57.735Z"
   },
   {
    "duration": 89,
    "start_time": "2021-10-04T15:51:20.386Z"
   },
   {
    "duration": 34,
    "start_time": "2021-10-04T15:51:20.478Z"
   },
   {
    "duration": 81,
    "start_time": "2021-10-04T15:51:20.515Z"
   },
   {
    "duration": 148,
    "start_time": "2021-10-04T15:51:20.598Z"
   },
   {
    "duration": 3304,
    "start_time": "2021-10-04T15:51:20.757Z"
   },
   {
    "duration": 554,
    "start_time": "2021-10-04T15:51:24.064Z"
   },
   {
    "duration": 89,
    "start_time": "2021-10-04T15:59:38.707Z"
   },
   {
    "duration": 31,
    "start_time": "2021-10-04T15:59:38.799Z"
   },
   {
    "duration": 75,
    "start_time": "2021-10-04T15:59:38.833Z"
   },
   {
    "duration": 151,
    "start_time": "2021-10-04T15:59:38.911Z"
   },
   {
    "duration": 3446,
    "start_time": "2021-10-04T15:59:39.064Z"
   },
   {
    "duration": 469,
    "start_time": "2021-10-04T15:59:42.513Z"
   },
   {
    "duration": 294,
    "start_time": "2021-10-04T16:01:25.904Z"
   },
   {
    "duration": 36,
    "start_time": "2021-10-04T16:01:26.202Z"
   },
   {
    "duration": 55,
    "start_time": "2021-10-04T16:01:26.259Z"
   },
   {
    "duration": 168,
    "start_time": "2021-10-04T16:01:26.317Z"
   },
   {
    "duration": 3608,
    "start_time": "2021-10-04T16:01:26.488Z"
   },
   {
    "duration": 471,
    "start_time": "2021-10-04T16:01:30.099Z"
   },
   {
    "duration": 98,
    "start_time": "2021-10-04T16:03:07.612Z"
   },
   {
    "duration": 32,
    "start_time": "2021-10-04T16:03:07.712Z"
   },
   {
    "duration": 59,
    "start_time": "2021-10-04T16:03:07.760Z"
   },
   {
    "duration": 167,
    "start_time": "2021-10-04T16:03:07.822Z"
   },
   {
    "duration": 3557,
    "start_time": "2021-10-04T16:03:07.991Z"
   },
   {
    "duration": 447,
    "start_time": "2021-10-04T16:03:11.559Z"
   },
   {
    "duration": 85,
    "start_time": "2021-10-04T16:04:22.590Z"
   },
   {
    "duration": 34,
    "start_time": "2021-10-04T16:04:22.678Z"
   },
   {
    "duration": 81,
    "start_time": "2021-10-04T16:04:22.716Z"
   },
   {
    "duration": 142,
    "start_time": "2021-10-04T16:04:22.800Z"
   },
   {
    "duration": 3330,
    "start_time": "2021-10-04T16:04:22.945Z"
   },
   {
    "duration": 454,
    "start_time": "2021-10-04T16:04:26.277Z"
   },
   {
    "duration": 91,
    "start_time": "2021-10-04T16:11:19.476Z"
   },
   {
    "duration": 31,
    "start_time": "2021-10-04T16:11:19.570Z"
   },
   {
    "duration": 79,
    "start_time": "2021-10-04T16:11:19.604Z"
   },
   {
    "duration": 136,
    "start_time": "2021-10-04T16:11:19.686Z"
   },
   {
    "duration": 3505,
    "start_time": "2021-10-04T16:11:19.825Z"
   },
   {
    "duration": 441,
    "start_time": "2021-10-04T16:11:23.333Z"
   },
   {
    "duration": 895,
    "start_time": "2021-10-04T16:17:53.652Z"
   },
   {
    "duration": 40,
    "start_time": "2021-10-04T16:17:54.549Z"
   },
   {
    "duration": 65,
    "start_time": "2021-10-04T16:17:54.592Z"
   },
   {
    "duration": 134,
    "start_time": "2021-10-04T16:17:54.660Z"
   },
   {
    "duration": 3575,
    "start_time": "2021-10-04T16:17:54.796Z"
   },
   {
    "duration": 505,
    "start_time": "2021-10-04T16:17:58.374Z"
   },
   {
    "duration": 87,
    "start_time": "2021-10-04T16:19:36.777Z"
   },
   {
    "duration": 32,
    "start_time": "2021-10-04T16:19:36.867Z"
   },
   {
    "duration": 77,
    "start_time": "2021-10-04T16:19:36.902Z"
   },
   {
    "duration": 136,
    "start_time": "2021-10-04T16:19:36.982Z"
   },
   {
    "duration": 3514,
    "start_time": "2021-10-04T16:19:37.121Z"
   },
   {
    "duration": 474,
    "start_time": "2021-10-04T16:19:40.637Z"
   },
   {
    "duration": 88,
    "start_time": "2021-10-04T16:20:30.541Z"
   },
   {
    "duration": 52,
    "start_time": "2021-10-04T16:20:30.632Z"
   },
   {
    "duration": 88,
    "start_time": "2021-10-04T16:20:30.687Z"
   },
   {
    "duration": 153,
    "start_time": "2021-10-04T16:20:30.778Z"
   },
   {
    "duration": 3354,
    "start_time": "2021-10-04T16:20:30.934Z"
   },
   {
    "duration": 490,
    "start_time": "2021-10-04T16:20:34.290Z"
   },
   {
    "duration": 837,
    "start_time": "2021-10-04T16:24:05.216Z"
   },
   {
    "duration": 41,
    "start_time": "2021-10-04T16:24:06.056Z"
   },
   {
    "duration": 72,
    "start_time": "2021-10-04T16:24:06.100Z"
   },
   {
    "duration": 224,
    "start_time": "2021-10-04T16:24:06.176Z"
   },
   {
    "duration": 3758,
    "start_time": "2021-10-04T16:24:06.404Z"
   },
   {
    "duration": 599,
    "start_time": "2021-10-04T16:24:10.165Z"
   },
   {
    "duration": 87,
    "start_time": "2021-10-04T16:31:29.592Z"
   },
   {
    "duration": 33,
    "start_time": "2021-10-04T16:31:29.682Z"
   },
   {
    "duration": 79,
    "start_time": "2021-10-04T16:31:29.718Z"
   },
   {
    "duration": 142,
    "start_time": "2021-10-04T16:31:29.800Z"
   },
   {
    "duration": 3462,
    "start_time": "2021-10-04T16:31:29.945Z"
   },
   {
    "duration": 504,
    "start_time": "2021-10-04T16:31:33.410Z"
   },
   {
    "duration": 809,
    "start_time": "2021-10-04T16:31:58.910Z"
   },
   {
    "duration": 54,
    "start_time": "2021-10-04T16:31:59.721Z"
   },
   {
    "duration": 57,
    "start_time": "2021-10-04T16:31:59.778Z"
   },
   {
    "duration": 163,
    "start_time": "2021-10-04T16:31:59.837Z"
   },
   {
    "duration": 3339,
    "start_time": "2021-10-04T16:32:00.003Z"
   },
   {
    "duration": 538,
    "start_time": "2021-10-04T16:32:03.345Z"
   },
   {
    "duration": 91,
    "start_time": "2021-10-04T16:35:25.681Z"
   },
   {
    "duration": 35,
    "start_time": "2021-10-04T16:35:25.776Z"
   },
   {
    "duration": 80,
    "start_time": "2021-10-04T16:35:25.816Z"
   },
   {
    "duration": 146,
    "start_time": "2021-10-04T16:35:25.899Z"
   },
   {
    "duration": 3452,
    "start_time": "2021-10-04T16:35:26.057Z"
   },
   {
    "duration": 104,
    "start_time": "2021-10-04T16:35:29.511Z"
   },
   {
    "duration": 92,
    "start_time": "2021-10-04T16:37:06.380Z"
   },
   {
    "duration": 33,
    "start_time": "2021-10-04T16:37:06.475Z"
   },
   {
    "duration": 83,
    "start_time": "2021-10-04T16:37:06.511Z"
   },
   {
    "duration": 137,
    "start_time": "2021-10-04T16:37:06.597Z"
   },
   {
    "duration": 3409,
    "start_time": "2021-10-04T16:37:06.737Z"
   },
   {
    "duration": 500,
    "start_time": "2021-10-04T16:37:10.149Z"
   },
   {
    "duration": 93,
    "start_time": "2021-10-04T16:40:24.655Z"
   },
   {
    "duration": 38,
    "start_time": "2021-10-04T16:40:24.751Z"
   },
   {
    "duration": 77,
    "start_time": "2021-10-04T16:40:24.792Z"
   },
   {
    "duration": 140,
    "start_time": "2021-10-04T16:40:24.872Z"
   },
   {
    "duration": 3646,
    "start_time": "2021-10-04T16:40:25.015Z"
   },
   {
    "duration": 104,
    "start_time": "2021-10-04T16:40:28.663Z"
   },
   {
    "duration": 87,
    "start_time": "2021-10-04T16:46:02.246Z"
   },
   {
    "duration": 44,
    "start_time": "2021-10-04T16:46:02.337Z"
   },
   {
    "duration": 74,
    "start_time": "2021-10-04T16:46:02.383Z"
   },
   {
    "duration": 129,
    "start_time": "2021-10-04T16:46:02.460Z"
   },
   {
    "duration": 3856,
    "start_time": "2021-10-04T16:46:02.591Z"
   },
   {
    "duration": 137,
    "start_time": "2021-10-04T16:46:06.449Z"
   },
   {
    "duration": 87,
    "start_time": "2021-10-04T16:47:12.070Z"
   },
   {
    "duration": 33,
    "start_time": "2021-10-04T16:47:12.160Z"
   },
   {
    "duration": 77,
    "start_time": "2021-10-04T16:47:12.195Z"
   },
   {
    "duration": 137,
    "start_time": "2021-10-04T16:47:12.275Z"
   },
   {
    "duration": 3383,
    "start_time": "2021-10-04T16:47:12.414Z"
   },
   {
    "duration": 446,
    "start_time": "2021-10-04T16:47:15.799Z"
   },
   {
    "duration": 89,
    "start_time": "2021-10-04T16:51:52.294Z"
   },
   {
    "duration": 33,
    "start_time": "2021-10-04T16:51:52.385Z"
   },
   {
    "duration": 78,
    "start_time": "2021-10-04T16:51:52.422Z"
   },
   {
    "duration": 143,
    "start_time": "2021-10-04T16:51:52.503Z"
   },
   {
    "duration": 3392,
    "start_time": "2021-10-04T16:51:52.649Z"
   },
   {
    "duration": 90,
    "start_time": "2021-10-04T16:51:56.044Z"
   },
   {
    "duration": 87,
    "start_time": "2021-10-04T16:55:03.903Z"
   },
   {
    "duration": 30,
    "start_time": "2021-10-04T16:55:03.992Z"
   },
   {
    "duration": 73,
    "start_time": "2021-10-04T16:55:04.025Z"
   },
   {
    "duration": 143,
    "start_time": "2021-10-04T16:55:04.100Z"
   },
   {
    "duration": 3718,
    "start_time": "2021-10-04T16:55:04.246Z"
   },
   {
    "duration": 450,
    "start_time": "2021-10-04T16:55:07.967Z"
   },
   {
    "duration": 88,
    "start_time": "2021-10-04T16:59:45.401Z"
   },
   {
    "duration": 34,
    "start_time": "2021-10-04T16:59:45.492Z"
   },
   {
    "duration": 75,
    "start_time": "2021-10-04T16:59:45.529Z"
   },
   {
    "duration": 163,
    "start_time": "2021-10-04T16:59:45.608Z"
   },
   {
    "duration": 3720,
    "start_time": "2021-10-04T16:59:45.774Z"
   },
   {
    "duration": 160,
    "start_time": "2021-10-04T16:59:49.497Z"
   },
   {
    "duration": 88,
    "start_time": "2021-10-04T17:00:47.586Z"
   },
   {
    "duration": 34,
    "start_time": "2021-10-04T17:00:47.677Z"
   },
   {
    "duration": 85,
    "start_time": "2021-10-04T17:00:47.715Z"
   },
   {
    "duration": 144,
    "start_time": "2021-10-04T17:00:47.803Z"
   },
   {
    "duration": 3779,
    "start_time": "2021-10-04T17:00:47.950Z"
   },
   {
    "duration": 441,
    "start_time": "2021-10-04T17:00:51.732Z"
   },
   {
    "duration": 88,
    "start_time": "2021-10-04T17:03:56.314Z"
   },
   {
    "duration": 32,
    "start_time": "2021-10-04T17:03:56.405Z"
   },
   {
    "duration": 65,
    "start_time": "2021-10-04T17:03:56.440Z"
   },
   {
    "duration": 153,
    "start_time": "2021-10-04T17:03:56.507Z"
   },
   {
    "duration": 3719,
    "start_time": "2021-10-04T17:03:56.662Z"
   },
   {
    "duration": 496,
    "start_time": "2021-10-04T17:04:00.384Z"
   },
   {
    "duration": 85,
    "start_time": "2021-10-04T17:06:29.978Z"
   },
   {
    "duration": 36,
    "start_time": "2021-10-04T17:06:30.065Z"
   },
   {
    "duration": 76,
    "start_time": "2021-10-04T17:06:30.103Z"
   },
   {
    "duration": 140,
    "start_time": "2021-10-04T17:06:30.181Z"
   },
   {
    "duration": 3556,
    "start_time": "2021-10-04T17:06:30.324Z"
   },
   {
    "duration": 495,
    "start_time": "2021-10-04T17:06:33.882Z"
   },
   {
    "duration": 453,
    "start_time": "2021-10-04T17:07:34.649Z"
   },
   {
    "duration": 446,
    "start_time": "2021-10-04T17:10:02.928Z"
   },
   {
    "duration": 450,
    "start_time": "2021-10-04T17:11:08.371Z"
   },
   {
    "duration": 478,
    "start_time": "2021-10-04T17:19:28.983Z"
   },
   {
    "duration": 95,
    "start_time": "2021-10-04T17:20:12.467Z"
   },
   {
    "duration": 83,
    "start_time": "2021-10-04T17:30:39.697Z"
   },
   {
    "duration": 1690,
    "start_time": "2021-10-04T17:43:55.045Z"
   },
   {
    "duration": 883,
    "start_time": "2021-10-04T17:49:50.034Z"
   },
   {
    "duration": 52,
    "start_time": "2021-10-04T17:49:50.920Z"
   },
   {
    "duration": 58,
    "start_time": "2021-10-04T17:49:50.975Z"
   },
   {
    "duration": 154,
    "start_time": "2021-10-04T17:49:51.036Z"
   },
   {
    "duration": 3270,
    "start_time": "2021-10-04T17:49:51.193Z"
   },
   {
    "duration": 1970,
    "start_time": "2021-10-04T17:49:54.466Z"
   },
   {
    "duration": 133,
    "start_time": "2021-10-04T17:53:25.519Z"
   },
   {
    "duration": 1768,
    "start_time": "2021-10-04T17:54:25.811Z"
   },
   {
    "duration": 14,
    "start_time": "2021-10-04T17:55:51.461Z"
   },
   {
    "duration": 90,
    "start_time": "2021-10-04T17:57:17.467Z"
   },
   {
    "duration": 101,
    "start_time": "2021-10-04T17:59:02.080Z"
   },
   {
    "duration": 94,
    "start_time": "2021-10-04T18:03:00.849Z"
   },
   {
    "duration": 90,
    "start_time": "2021-10-04T18:10:30.510Z"
   },
   {
    "duration": 846,
    "start_time": "2021-10-04T18:15:45.551Z"
   },
   {
    "duration": 59,
    "start_time": "2021-10-04T18:15:46.400Z"
   },
   {
    "duration": 57,
    "start_time": "2021-10-04T18:15:46.462Z"
   },
   {
    "duration": 167,
    "start_time": "2021-10-04T18:15:46.522Z"
   },
   {
    "duration": 3273,
    "start_time": "2021-10-04T18:15:46.692Z"
   },
   {
    "duration": 148,
    "start_time": "2021-10-04T18:15:49.968Z"
   },
   {
    "duration": 111,
    "start_time": "2021-10-04T18:28:54.983Z"
   },
   {
    "duration": 600,
    "start_time": "2021-10-04T18:39:13.239Z"
   },
   {
    "duration": 954,
    "start_time": "2021-10-04T18:41:12.935Z"
   },
   {
    "duration": 163,
    "start_time": "2021-10-04T18:43:37.908Z"
   },
   {
    "duration": 168,
    "start_time": "2021-10-04T18:44:21.310Z"
   },
   {
    "duration": 130,
    "start_time": "2021-10-04T20:02:10.942Z"
   },
   {
    "duration": 1404,
    "start_time": "2021-10-04T20:11:56.501Z"
   },
   {
    "duration": 459,
    "start_time": "2021-10-04T20:21:16.754Z"
   },
   {
    "duration": 836,
    "start_time": "2021-10-04T20:24:14.758Z"
   },
   {
    "duration": 441,
    "start_time": "2021-10-04T20:24:43.519Z"
   },
   {
    "duration": 2110,
    "start_time": "2021-10-04T20:34:04.774Z"
   },
   {
    "duration": 8146,
    "start_time": "2021-10-04T20:34:46.359Z"
   },
   {
    "duration": 841,
    "start_time": "2021-10-04T20:35:12.589Z"
   },
   {
    "duration": 51,
    "start_time": "2021-10-04T20:35:13.433Z"
   },
   {
    "duration": 70,
    "start_time": "2021-10-04T20:35:13.487Z"
   },
   {
    "duration": 153,
    "start_time": "2021-10-04T20:35:13.560Z"
   },
   {
    "duration": 3664,
    "start_time": "2021-10-04T20:35:13.715Z"
   },
   {
    "duration": 10279,
    "start_time": "2021-10-04T20:35:17.383Z"
   },
   {
    "duration": 8950,
    "start_time": "2021-10-04T20:40:02.169Z"
   },
   {
    "duration": 126,
    "start_time": "2021-10-04T20:42:47.894Z"
   },
   {
    "duration": 18,
    "start_time": "2021-10-04T20:45:13.165Z"
   },
   {
    "duration": 145,
    "start_time": "2021-10-04T20:45:27.932Z"
   },
   {
    "duration": 126,
    "start_time": "2021-10-04T20:46:40.770Z"
   },
   {
    "duration": 485,
    "start_time": "2021-10-04T21:16:16.973Z"
   },
   {
    "duration": 443,
    "start_time": "2021-10-04T21:21:10.541Z"
   },
   {
    "duration": 612,
    "start_time": "2021-10-04T21:22:36.005Z"
   },
   {
    "duration": 354,
    "start_time": "2021-10-05T07:12:10.593Z"
   },
   {
    "duration": 706,
    "start_time": "2021-10-05T07:12:38.882Z"
   },
   {
    "duration": 27,
    "start_time": "2021-10-05T07:12:39.590Z"
   },
   {
    "duration": 36,
    "start_time": "2021-10-05T07:12:39.618Z"
   },
   {
    "duration": 99,
    "start_time": "2021-10-05T07:12:39.655Z"
   },
   {
    "duration": 2375,
    "start_time": "2021-10-05T07:12:39.756Z"
   },
   {
    "duration": 468,
    "start_time": "2021-10-05T07:12:42.133Z"
   },
   {
    "duration": 375,
    "start_time": "2021-10-05T07:13:45.282Z"
   },
   {
    "duration": 79,
    "start_time": "2021-10-05T07:14:28.141Z"
   },
   {
    "duration": 79,
    "start_time": "2021-10-05T07:16:42.694Z"
   },
   {
    "duration": 366,
    "start_time": "2021-10-05T07:17:17.564Z"
   },
   {
    "duration": 366,
    "start_time": "2021-10-05T07:17:55.106Z"
   },
   {
    "duration": 636,
    "start_time": "2021-10-05T07:18:36.906Z"
   },
   {
    "duration": 27,
    "start_time": "2021-10-05T07:18:37.544Z"
   },
   {
    "duration": 34,
    "start_time": "2021-10-05T07:18:37.573Z"
   },
   {
    "duration": 96,
    "start_time": "2021-10-05T07:18:37.609Z"
   },
   {
    "duration": 2370,
    "start_time": "2021-10-05T07:18:37.707Z"
   },
   {
    "duration": 469,
    "start_time": "2021-10-05T07:18:40.079Z"
   },
   {
    "duration": 80,
    "start_time": "2021-10-05T07:21:36.571Z"
   },
   {
    "duration": 81,
    "start_time": "2021-10-05T07:22:26.607Z"
   },
   {
    "duration": 70,
    "start_time": "2021-10-05T07:26:14.074Z"
   },
   {
    "duration": 22,
    "start_time": "2021-10-05T07:26:14.145Z"
   },
   {
    "duration": 37,
    "start_time": "2021-10-05T07:26:14.177Z"
   },
   {
    "duration": 94,
    "start_time": "2021-10-05T07:26:14.216Z"
   },
   {
    "duration": 2474,
    "start_time": "2021-10-05T07:26:14.312Z"
   },
   {
    "duration": 116,
    "start_time": "2021-10-05T07:26:16.788Z"
   },
   {
    "duration": 83,
    "start_time": "2021-10-05T07:41:29.167Z"
   },
   {
    "duration": 123,
    "start_time": "2021-10-05T07:42:15.690Z"
   },
   {
    "duration": 2168,
    "start_time": "2021-10-05T07:46:55.375Z"
   },
   {
    "duration": 131,
    "start_time": "2021-10-05T07:51:50.591Z"
   },
   {
    "duration": 81,
    "start_time": "2021-10-05T07:52:49.682Z"
   },
   {
    "duration": 102,
    "start_time": "2021-10-05T07:58:18.423Z"
   },
   {
    "duration": 103,
    "start_time": "2021-10-05T07:59:32.693Z"
   },
   {
    "duration": 101,
    "start_time": "2021-10-05T08:00:03.990Z"
   },
   {
    "duration": 612,
    "start_time": "2021-10-05T08:23:17.937Z"
   },
   {
    "duration": 28,
    "start_time": "2021-10-05T08:23:18.551Z"
   },
   {
    "duration": 37,
    "start_time": "2021-10-05T08:23:18.581Z"
   },
   {
    "duration": 98,
    "start_time": "2021-10-05T08:23:18.619Z"
   },
   {
    "duration": 2347,
    "start_time": "2021-10-05T08:23:18.719Z"
   },
   {
    "duration": 137,
    "start_time": "2021-10-05T08:23:21.068Z"
   },
   {
    "duration": 68,
    "start_time": "2021-10-05T08:34:18.647Z"
   },
   {
    "duration": 23,
    "start_time": "2021-10-05T08:34:18.716Z"
   },
   {
    "duration": 53,
    "start_time": "2021-10-05T08:34:18.741Z"
   },
   {
    "duration": 86,
    "start_time": "2021-10-05T08:34:18.796Z"
   },
   {
    "duration": 2513,
    "start_time": "2021-10-05T08:34:18.884Z"
   },
   {
    "duration": 138,
    "start_time": "2021-10-05T08:34:21.399Z"
   },
   {
    "duration": 1810,
    "start_time": "2021-10-05T08:38:14.784Z"
   },
   {
    "duration": 1594,
    "start_time": "2021-10-05T08:40:19.895Z"
   },
   {
    "duration": 1583,
    "start_time": "2021-10-05T08:41:22.898Z"
   },
   {
    "duration": 1491,
    "start_time": "2021-10-05T08:45:09.051Z"
   },
   {
    "duration": 371,
    "start_time": "2021-10-05T08:54:33.621Z"
   },
   {
    "duration": 380,
    "start_time": "2021-10-05T08:55:50.263Z"
   },
   {
    "duration": 105,
    "start_time": "2021-10-05T08:57:24.627Z"
   },
   {
    "duration": 102,
    "start_time": "2021-10-05T08:58:57.220Z"
   },
   {
    "duration": 103,
    "start_time": "2021-10-05T08:59:19.488Z"
   },
   {
    "duration": 110,
    "start_time": "2021-10-05T09:00:12.766Z"
   },
   {
    "duration": 102,
    "start_time": "2021-10-05T09:01:57.497Z"
   },
   {
    "duration": 615,
    "start_time": "2021-10-05T09:05:27.416Z"
   },
   {
    "duration": 29,
    "start_time": "2021-10-05T09:05:28.033Z"
   },
   {
    "duration": 42,
    "start_time": "2021-10-05T09:05:28.064Z"
   },
   {
    "duration": 98,
    "start_time": "2021-10-05T09:05:28.107Z"
   },
   {
    "duration": 2499,
    "start_time": "2021-10-05T09:05:28.207Z"
   },
   {
    "duration": 9638,
    "start_time": "2021-10-05T09:05:30.708Z"
   },
   {
    "duration": 1411,
    "start_time": "2021-10-05T09:07:23.954Z"
   },
   {
    "duration": 655,
    "start_time": "2021-10-05T09:08:07.388Z"
   },
   {
    "duration": 28,
    "start_time": "2021-10-05T09:08:08.045Z"
   },
   {
    "duration": 36,
    "start_time": "2021-10-05T09:08:08.075Z"
   },
   {
    "duration": 102,
    "start_time": "2021-10-05T09:08:08.113Z"
   },
   {
    "duration": 2417,
    "start_time": "2021-10-05T09:08:08.217Z"
   },
   {
    "duration": 1486,
    "start_time": "2021-10-05T09:08:10.636Z"
   },
   {
    "duration": 680,
    "start_time": "2021-10-05T09:09:18.345Z"
   },
   {
    "duration": 30,
    "start_time": "2021-10-05T09:09:19.026Z"
   },
   {
    "duration": 45,
    "start_time": "2021-10-05T09:09:19.058Z"
   },
   {
    "duration": 97,
    "start_time": "2021-10-05T09:09:19.105Z"
   },
   {
    "duration": 2385,
    "start_time": "2021-10-05T09:09:19.204Z"
   },
   {
    "duration": 2201,
    "start_time": "2021-10-05T09:09:21.591Z"
   },
   {
    "duration": 112,
    "start_time": "2021-10-05T09:17:50.981Z"
   },
   {
    "duration": 1676,
    "start_time": "2021-10-05T09:19:29.621Z"
   },
   {
    "duration": 649,
    "start_time": "2021-10-05T09:21:53.938Z"
   },
   {
    "duration": 32,
    "start_time": "2021-10-05T09:21:54.590Z"
   },
   {
    "duration": 59,
    "start_time": "2021-10-05T09:21:54.624Z"
   },
   {
    "duration": 98,
    "start_time": "2021-10-05T09:21:54.685Z"
   },
   {
    "duration": 2459,
    "start_time": "2021-10-05T09:21:54.785Z"
   },
   {
    "duration": 525,
    "start_time": "2021-10-05T09:21:57.246Z"
   },
   {
    "duration": 443,
    "start_time": "2021-10-05T09:23:29.287Z"
   },
   {
    "duration": 1418,
    "start_time": "2021-10-05T09:24:01.412Z"
   },
   {
    "duration": 411,
    "start_time": "2021-10-05T09:25:10.604Z"
   },
   {
    "duration": 1598,
    "start_time": "2021-10-05T09:30:38.793Z"
   },
   {
    "duration": 694,
    "start_time": "2021-10-05T09:31:14.728Z"
   },
   {
    "duration": 32,
    "start_time": "2021-10-05T09:31:15.424Z"
   },
   {
    "duration": 50,
    "start_time": "2021-10-05T09:31:15.459Z"
   },
   {
    "duration": 100,
    "start_time": "2021-10-05T09:31:15.511Z"
   },
   {
    "duration": 2413,
    "start_time": "2021-10-05T09:31:15.612Z"
   },
   {
    "duration": 1398,
    "start_time": "2021-10-05T09:31:18.027Z"
   },
   {
    "duration": 1996,
    "start_time": "2021-10-05T09:32:30.272Z"
   },
   {
    "duration": 1755,
    "start_time": "2021-10-05T09:33:21.058Z"
   },
   {
    "duration": 97,
    "start_time": "2021-10-05T09:34:17.111Z"
   },
   {
    "duration": 653,
    "start_time": "2021-10-05T09:35:07.284Z"
   },
   {
    "duration": 29,
    "start_time": "2021-10-05T09:35:07.939Z"
   },
   {
    "duration": 38,
    "start_time": "2021-10-05T09:35:07.970Z"
   },
   {
    "duration": 99,
    "start_time": "2021-10-05T09:35:08.010Z"
   },
   {
    "duration": 2504,
    "start_time": "2021-10-05T09:35:08.110Z"
   },
   {
    "duration": 2538,
    "start_time": "2021-10-05T09:35:10.616Z"
   },
   {
    "duration": 125,
    "start_time": "2021-10-05T09:36:36.254Z"
   },
   {
    "duration": 122,
    "start_time": "2021-10-05T09:38:03.388Z"
   },
   {
    "duration": 1490,
    "start_time": "2021-10-05T09:54:37.437Z"
   },
   {
    "duration": 638,
    "start_time": "2021-10-05T09:55:25.492Z"
   },
   {
    "duration": 30,
    "start_time": "2021-10-05T09:55:26.132Z"
   },
   {
    "duration": 45,
    "start_time": "2021-10-05T09:55:26.165Z"
   },
   {
    "duration": 103,
    "start_time": "2021-10-05T09:55:26.213Z"
   },
   {
    "duration": 2411,
    "start_time": "2021-10-05T09:55:26.319Z"
   },
   {
    "duration": 2544,
    "start_time": "2021-10-05T09:55:28.732Z"
   },
   {
    "duration": 66,
    "start_time": "2021-10-05T09:56:54.829Z"
   },
   {
    "duration": 25,
    "start_time": "2021-10-05T09:56:54.897Z"
   },
   {
    "duration": 54,
    "start_time": "2021-10-05T09:56:54.924Z"
   },
   {
    "duration": 81,
    "start_time": "2021-10-05T09:56:54.979Z"
   },
   {
    "duration": 2467,
    "start_time": "2021-10-05T09:56:55.062Z"
   },
   {
    "duration": 1497,
    "start_time": "2021-10-05T09:56:57.531Z"
   },
   {
    "duration": 1642,
    "start_time": "2021-10-05T09:59:51.942Z"
   },
   {
    "duration": 660,
    "start_time": "2021-10-05T10:00:31.164Z"
   },
   {
    "duration": 29,
    "start_time": "2021-10-05T10:00:31.826Z"
   },
   {
    "duration": 40,
    "start_time": "2021-10-05T10:00:31.857Z"
   },
   {
    "duration": 97,
    "start_time": "2021-10-05T10:00:31.899Z"
   },
   {
    "duration": 2447,
    "start_time": "2021-10-05T10:00:31.998Z"
   },
   {
    "duration": 2376,
    "start_time": "2021-10-05T10:00:34.447Z"
   },
   {
    "duration": 1812,
    "start_time": "2021-10-05T10:02:50.113Z"
   },
   {
    "duration": 631,
    "start_time": "2021-10-05T10:30:00.634Z"
   },
   {
    "duration": 48,
    "start_time": "2021-10-05T10:30:01.267Z"
   },
   {
    "duration": 17,
    "start_time": "2021-10-05T10:30:01.318Z"
   },
   {
    "duration": 108,
    "start_time": "2021-10-05T10:30:01.337Z"
   },
   {
    "duration": 2359,
    "start_time": "2021-10-05T10:30:01.447Z"
   },
   {
    "duration": 1690,
    "start_time": "2021-10-05T10:30:03.808Z"
   },
   {
    "duration": 56,
    "start_time": "2021-10-05T10:32:16.459Z"
   },
   {
    "duration": 651,
    "start_time": "2021-10-05T10:32:31.561Z"
   },
   {
    "duration": 41,
    "start_time": "2021-10-05T10:32:32.214Z"
   },
   {
    "duration": 28,
    "start_time": "2021-10-05T10:32:32.257Z"
   },
   {
    "duration": 94,
    "start_time": "2021-10-05T10:32:32.287Z"
   },
   {
    "duration": 2376,
    "start_time": "2021-10-05T10:32:32.383Z"
   },
   {
    "duration": 1745,
    "start_time": "2021-10-05T10:32:34.762Z"
   },
   {
    "duration": 73,
    "start_time": "2021-10-05T10:34:08.148Z"
   },
   {
    "duration": 355,
    "start_time": "2021-10-05T10:34:08.223Z"
   },
   {
    "duration": 356,
    "start_time": "2021-10-05T10:34:08.224Z"
   },
   {
    "duration": 348,
    "start_time": "2021-10-05T10:34:08.233Z"
   },
   {
    "duration": 320,
    "start_time": "2021-10-05T10:34:08.262Z"
   },
   {
    "duration": 311,
    "start_time": "2021-10-05T10:34:08.272Z"
   },
   {
    "duration": 64,
    "start_time": "2021-10-05T10:35:26.222Z"
   },
   {
    "duration": 36,
    "start_time": "2021-10-05T10:35:26.288Z"
   },
   {
    "duration": 16,
    "start_time": "2021-10-05T10:35:26.326Z"
   },
   {
    "duration": 100,
    "start_time": "2021-10-05T10:35:26.344Z"
   },
   {
    "duration": 2479,
    "start_time": "2021-10-05T10:35:26.446Z"
   },
   {
    "duration": 2167,
    "start_time": "2021-10-05T10:35:28.927Z"
   },
   {
    "duration": 867,
    "start_time": "2021-10-05T10:37:56.883Z"
   },
   {
    "duration": 36,
    "start_time": "2021-10-05T10:37:57.751Z"
   },
   {
    "duration": 15,
    "start_time": "2021-10-05T10:37:57.789Z"
   },
   {
    "duration": 103,
    "start_time": "2021-10-05T10:37:57.806Z"
   },
   {
    "duration": 2407,
    "start_time": "2021-10-05T10:37:57.911Z"
   },
   {
    "duration": 1678,
    "start_time": "2021-10-05T10:38:00.320Z"
   },
   {
    "duration": 397,
    "start_time": "2021-10-05T10:58:54.252Z"
   },
   {
    "duration": 70,
    "start_time": "2021-10-05T10:58:59.840Z"
   },
   {
    "duration": 283,
    "start_time": "2021-10-05T10:58:59.912Z"
   },
   {
    "duration": 189,
    "start_time": "2021-10-05T10:59:00.008Z"
   },
   {
    "duration": 178,
    "start_time": "2021-10-05T10:59:00.020Z"
   },
   {
    "duration": 7,
    "start_time": "2021-10-05T10:59:00.192Z"
   },
   {
    "duration": -23,
    "start_time": "2021-10-05T10:59:00.223Z"
   },
   {
    "duration": 61,
    "start_time": "2021-10-05T10:59:53.722Z"
   },
   {
    "duration": 295,
    "start_time": "2021-10-05T10:59:53.785Z"
   },
   {
    "duration": 302,
    "start_time": "2021-10-05T10:59:53.780Z"
   },
   {
    "duration": 288,
    "start_time": "2021-10-05T10:59:53.795Z"
   },
   {
    "duration": 70,
    "start_time": "2021-10-05T10:59:54.014Z"
   },
   {
    "duration": 60,
    "start_time": "2021-10-05T10:59:54.025Z"
   },
   {
    "duration": 63,
    "start_time": "2021-10-05T11:02:30.246Z"
   },
   {
    "duration": 6571,
    "start_time": "2021-10-05T11:02:30.311Z"
   },
   {
    "duration": 311,
    "start_time": "2021-10-05T11:02:36.573Z"
   },
   {
    "duration": 289,
    "start_time": "2021-10-05T11:02:36.596Z"
   },
   {
    "duration": 285,
    "start_time": "2021-10-05T11:02:36.602Z"
   },
   {
    "duration": 269,
    "start_time": "2021-10-05T11:02:36.619Z"
   },
   {
    "duration": 64,
    "start_time": "2021-10-05T11:07:04.163Z"
   },
   {
    "duration": 48,
    "start_time": "2021-10-05T11:07:04.229Z"
   },
   {
    "duration": 15,
    "start_time": "2021-10-05T11:07:04.279Z"
   },
   {
    "duration": 101,
    "start_time": "2021-10-05T11:07:04.296Z"
   },
   {
    "duration": 2473,
    "start_time": "2021-10-05T11:07:04.398Z"
   },
   {
    "duration": 1403,
    "start_time": "2021-10-05T11:07:06.877Z"
   },
   {
    "duration": 694,
    "start_time": "2021-10-05T11:08:00.556Z"
   },
   {
    "duration": 27,
    "start_time": "2021-10-05T11:08:01.252Z"
   },
   {
    "duration": 16,
    "start_time": "2021-10-05T11:08:01.281Z"
   },
   {
    "duration": 103,
    "start_time": "2021-10-05T11:08:01.298Z"
   },
   {
    "duration": 2475,
    "start_time": "2021-10-05T11:08:01.403Z"
   },
   {
    "duration": 1601,
    "start_time": "2021-10-05T11:08:03.880Z"
   },
   {
    "duration": 66,
    "start_time": "2021-10-05T11:09:39.533Z"
   },
   {
    "duration": 27,
    "start_time": "2021-10-05T11:09:39.601Z"
   },
   {
    "duration": 16,
    "start_time": "2021-10-05T11:09:39.630Z"
   },
   {
    "duration": 106,
    "start_time": "2021-10-05T11:09:39.648Z"
   },
   {
    "duration": 2570,
    "start_time": "2021-10-05T11:09:39.756Z"
   },
   {
    "duration": 1378,
    "start_time": "2021-10-05T11:09:42.328Z"
   },
   {
    "duration": 294,
    "start_time": "2021-10-05T11:16:35.879Z"
   },
   {
    "duration": 65,
    "start_time": "2021-10-05T11:16:40.917Z"
   },
   {
    "duration": 328,
    "start_time": "2021-10-05T11:16:40.984Z"
   },
   {
    "duration": 283,
    "start_time": "2021-10-05T11:16:41.031Z"
   },
   {
    "duration": 276,
    "start_time": "2021-10-05T11:16:41.040Z"
   },
   {
    "duration": 267,
    "start_time": "2021-10-05T11:16:41.050Z"
   },
   {
    "duration": 263,
    "start_time": "2021-10-05T11:16:41.056Z"
   },
   {
    "duration": 641,
    "start_time": "2021-10-05T11:32:42.913Z"
   },
   {
    "duration": 728,
    "start_time": "2021-10-05T11:32:43.556Z"
   },
   {
    "duration": 323,
    "start_time": "2021-10-05T11:32:43.964Z"
   },
   {
    "duration": 305,
    "start_time": "2021-10-05T11:32:43.983Z"
   },
   {
    "duration": 297,
    "start_time": "2021-10-05T11:32:43.992Z"
   },
   {
    "duration": 294,
    "start_time": "2021-10-05T11:32:43.997Z"
   },
   {
    "duration": 62,
    "start_time": "2021-10-05T11:34:23.426Z"
   },
   {
    "duration": 356,
    "start_time": "2021-10-05T11:34:23.491Z"
   },
   {
    "duration": 215,
    "start_time": "2021-10-05T11:34:23.634Z"
   },
   {
    "duration": 190,
    "start_time": "2021-10-05T11:34:23.660Z"
   },
   {
    "duration": 184,
    "start_time": "2021-10-05T11:34:23.667Z"
   },
   {
    "duration": 179,
    "start_time": "2021-10-05T11:34:23.673Z"
   },
   {
    "duration": 62,
    "start_time": "2021-10-05T11:35:41.883Z"
   },
   {
    "duration": 505,
    "start_time": "2021-10-05T11:35:41.947Z"
   },
   {
    "duration": 303,
    "start_time": "2021-10-05T11:35:42.152Z"
   },
   {
    "duration": 299,
    "start_time": "2021-10-05T11:35:42.157Z"
   },
   {
    "duration": 293,
    "start_time": "2021-10-05T11:35:42.164Z"
   },
   {
    "duration": 290,
    "start_time": "2021-10-05T11:35:42.169Z"
   },
   {
    "duration": 62,
    "start_time": "2021-10-05T11:36:15.933Z"
   },
   {
    "duration": 7930,
    "start_time": "2021-10-05T11:36:15.998Z"
   },
   {
    "duration": 295,
    "start_time": "2021-10-05T11:36:23.635Z"
   },
   {
    "duration": 273,
    "start_time": "2021-10-05T11:36:23.659Z"
   },
   {
    "duration": 269,
    "start_time": "2021-10-05T11:36:23.665Z"
   },
   {
    "duration": 263,
    "start_time": "2021-10-05T11:36:23.672Z"
   },
   {
    "duration": 64,
    "start_time": "2021-10-05T11:56:33.044Z"
   },
   {
    "duration": 136,
    "start_time": "2021-10-05T11:56:33.110Z"
   },
   {
    "duration": 211,
    "start_time": "2021-10-05T11:56:33.037Z"
   },
   {
    "duration": 195,
    "start_time": "2021-10-05T11:56:33.055Z"
   },
   {
    "duration": 103,
    "start_time": "2021-10-05T11:56:33.148Z"
   },
   {
    "duration": 89,
    "start_time": "2021-10-05T11:56:33.163Z"
   },
   {
    "duration": 61,
    "start_time": "2021-10-05T11:57:33.666Z"
   },
   {
    "duration": 61,
    "start_time": "2021-10-05T11:58:19.994Z"
   },
   {
    "duration": 272,
    "start_time": "2021-10-05T11:58:20.057Z"
   },
   {
    "duration": -415,
    "start_time": "2021-10-05T11:58:20.746Z"
   },
   {
    "duration": -425,
    "start_time": "2021-10-05T11:58:20.757Z"
   },
   {
    "duration": -579,
    "start_time": "2021-10-05T11:58:20.912Z"
   },
   {
    "duration": -586,
    "start_time": "2021-10-05T11:58:20.920Z"
   },
   {
    "duration": 61,
    "start_time": "2021-10-05T12:01:19.950Z"
   },
   {
    "duration": 4130,
    "start_time": "2021-10-05T12:01:20.013Z"
   },
   {
    "duration": 264,
    "start_time": "2021-10-05T12:01:23.881Z"
   },
   {
    "duration": 256,
    "start_time": "2021-10-05T12:01:23.890Z"
   },
   {
    "duration": 241,
    "start_time": "2021-10-05T12:01:23.906Z"
   },
   {
    "duration": 231,
    "start_time": "2021-10-05T12:01:23.917Z"
   },
   {
    "duration": 949,
    "start_time": "2021-10-05T12:07:59.740Z"
   },
   {
    "duration": 55,
    "start_time": "2021-10-05T12:08:00.691Z"
   },
   {
    "duration": 28,
    "start_time": "2021-10-05T12:08:00.748Z"
   },
   {
    "duration": 100,
    "start_time": "2021-10-05T12:08:00.778Z"
   },
   {
    "duration": 2448,
    "start_time": "2021-10-05T12:08:00.880Z"
   },
   {
    "duration": 3574,
    "start_time": "2021-10-05T12:08:03.330Z"
   },
   {
    "duration": 649,
    "start_time": "2021-10-05T12:12:08.870Z"
   },
   {
    "duration": 65,
    "start_time": "2021-10-05T12:12:09.521Z"
   },
   {
    "duration": 15,
    "start_time": "2021-10-05T12:12:09.588Z"
   },
   {
    "duration": 95,
    "start_time": "2021-10-05T12:12:09.604Z"
   },
   {
    "duration": 2412,
    "start_time": "2021-10-05T12:12:09.701Z"
   },
   {
    "duration": 1464,
    "start_time": "2021-10-05T12:12:12.115Z"
   },
   {
    "duration": 66,
    "start_time": "2021-10-05T12:13:53.706Z"
   },
   {
    "duration": 57,
    "start_time": "2021-10-05T12:13:53.774Z"
   },
   {
    "duration": 14,
    "start_time": "2021-10-05T12:13:53.834Z"
   },
   {
    "duration": 99,
    "start_time": "2021-10-05T12:13:53.850Z"
   },
   {
    "duration": 2492,
    "start_time": "2021-10-05T12:13:53.950Z"
   },
   {
    "duration": 2091,
    "start_time": "2021-10-05T12:13:56.444Z"
   },
   {
    "duration": 112,
    "start_time": "2021-10-05T12:37:56.921Z"
   },
   {
    "duration": 60,
    "start_time": "2021-10-05T12:38:01.665Z"
   },
   {
    "duration": 70,
    "start_time": "2021-10-05T12:38:01.726Z"
   },
   {
    "duration": 13,
    "start_time": "2021-10-05T12:38:01.961Z"
   },
   {
    "duration": 82,
    "start_time": "2021-10-05T12:38:02.114Z"
   },
   {
    "duration": 2422,
    "start_time": "2021-10-05T12:38:02.197Z"
   },
   {
    "duration": 1454,
    "start_time": "2021-10-05T12:38:04.621Z"
   },
   {
    "duration": 65,
    "start_time": "2021-10-05T12:40:21.009Z"
   },
   {
    "duration": 59,
    "start_time": "2021-10-05T12:40:21.076Z"
   },
   {
    "duration": 13,
    "start_time": "2021-10-05T12:40:21.138Z"
   },
   {
    "duration": 106,
    "start_time": "2021-10-05T12:40:21.153Z"
   },
   {
    "duration": 2480,
    "start_time": "2021-10-05T12:40:21.261Z"
   },
   {
    "duration": 1508,
    "start_time": "2021-10-05T12:40:23.743Z"
   },
   {
    "duration": 681,
    "start_time": "2021-10-05T12:56:54.309Z"
   },
   {
    "duration": 92,
    "start_time": "2021-10-05T12:56:54.992Z"
   },
   {
    "duration": 13,
    "start_time": "2021-10-05T12:56:55.087Z"
   },
   {
    "duration": 101,
    "start_time": "2021-10-05T12:56:55.101Z"
   },
   {
    "duration": 2898,
    "start_time": "2021-10-05T12:56:55.204Z"
   },
   {
    "duration": 1536,
    "start_time": "2021-10-05T12:56:58.105Z"
   },
   {
    "duration": 66,
    "start_time": "2021-10-05T13:05:52.869Z"
   },
   {
    "duration": 95,
    "start_time": "2021-10-05T13:05:52.937Z"
   },
   {
    "duration": 13,
    "start_time": "2021-10-05T13:05:53.083Z"
   },
   {
    "duration": 93,
    "start_time": "2021-10-05T13:05:53.098Z"
   },
   {
    "duration": 2449,
    "start_time": "2021-10-05T13:05:53.193Z"
   },
   {
    "duration": 1513,
    "start_time": "2021-10-05T13:05:55.644Z"
   },
   {
    "duration": 644,
    "start_time": "2021-10-05T13:08:59.705Z"
   },
   {
    "duration": 84,
    "start_time": "2021-10-05T13:09:00.351Z"
   },
   {
    "duration": 13,
    "start_time": "2021-10-05T13:09:00.437Z"
   },
   {
    "duration": 100,
    "start_time": "2021-10-05T13:09:00.452Z"
   },
   {
    "duration": 2414,
    "start_time": "2021-10-05T13:09:00.553Z"
   },
   {
    "duration": 1440,
    "start_time": "2021-10-05T13:09:02.969Z"
   },
   {
    "duration": 689,
    "start_time": "2021-10-05T13:12:04.365Z"
   },
   {
    "duration": 91,
    "start_time": "2021-10-05T13:12:05.056Z"
   },
   {
    "duration": 27,
    "start_time": "2021-10-05T13:12:05.150Z"
   },
   {
    "duration": 102,
    "start_time": "2021-10-05T13:12:05.179Z"
   },
   {
    "duration": 2458,
    "start_time": "2021-10-05T13:12:05.283Z"
   },
   {
    "duration": 1537,
    "start_time": "2021-10-05T13:12:07.743Z"
   },
   {
    "duration": 71,
    "start_time": "2021-10-05T13:13:02.986Z"
   },
   {
    "duration": 90,
    "start_time": "2021-10-05T13:13:03.059Z"
   },
   {
    "duration": 15,
    "start_time": "2021-10-05T13:13:03.167Z"
   },
   {
    "duration": 102,
    "start_time": "2021-10-05T13:13:03.184Z"
   },
   {
    "duration": 2733,
    "start_time": "2021-10-05T13:13:03.288Z"
   },
   {
    "duration": 1910,
    "start_time": "2021-10-05T13:13:06.024Z"
   },
   {
    "duration": 1406,
    "start_time": "2021-10-05T13:19:10.272Z"
   },
   {
    "duration": 65,
    "start_time": "2021-10-05T13:19:51.327Z"
   },
   {
    "duration": 101,
    "start_time": "2021-10-05T13:19:51.395Z"
   },
   {
    "duration": 13,
    "start_time": "2021-10-05T13:19:51.498Z"
   },
   {
    "duration": 98,
    "start_time": "2021-10-05T13:19:51.512Z"
   },
   {
    "duration": 2425,
    "start_time": "2021-10-05T13:19:51.613Z"
   },
   {
    "duration": 67,
    "start_time": "2021-10-05T13:25:12.749Z"
   },
   {
    "duration": 108,
    "start_time": "2021-10-05T13:25:12.818Z"
   },
   {
    "duration": 13,
    "start_time": "2021-10-05T13:25:12.928Z"
   },
   {
    "duration": 105,
    "start_time": "2021-10-05T13:25:12.943Z"
   },
   {
    "duration": 2635,
    "start_time": "2021-10-05T13:25:13.050Z"
   },
   {
    "duration": 1631,
    "start_time": "2021-10-05T13:26:33.829Z"
   },
   {
    "duration": 106,
    "start_time": "2021-10-05T13:31:11.991Z"
   },
   {
    "duration": 1338,
    "start_time": "2021-10-05T13:33:05.796Z"
   },
   {
    "duration": 1362,
    "start_time": "2021-10-05T13:41:43.883Z"
   },
   {
    "duration": 684,
    "start_time": "2021-10-05T13:47:43.851Z"
   },
   {
    "duration": 82,
    "start_time": "2021-10-05T13:47:44.537Z"
   },
   {
    "duration": 14,
    "start_time": "2021-10-05T13:47:44.621Z"
   },
   {
    "duration": 104,
    "start_time": "2021-10-05T13:47:44.637Z"
   },
   {
    "duration": 2392,
    "start_time": "2021-10-05T13:47:44.743Z"
   },
   {
    "duration": 100,
    "start_time": "2021-10-05T13:47:47.137Z"
   },
   {
    "duration": 660,
    "start_time": "2021-10-05T13:48:55.554Z"
   },
   {
    "duration": 90,
    "start_time": "2021-10-05T13:48:56.217Z"
   },
   {
    "duration": 13,
    "start_time": "2021-10-05T13:48:56.310Z"
   },
   {
    "duration": 108,
    "start_time": "2021-10-05T13:48:56.325Z"
   },
   {
    "duration": 2313,
    "start_time": "2021-10-05T13:48:56.435Z"
   },
   {
    "duration": 93,
    "start_time": "2021-10-05T13:48:58.750Z"
   },
   {
    "duration": 394,
    "start_time": "2021-10-05T14:00:07.988Z"
   },
   {
    "duration": 322,
    "start_time": "2021-10-05T14:02:21.714Z"
   },
   {
    "duration": 311,
    "start_time": "2021-10-05T14:03:31.989Z"
   },
   {
    "duration": 653,
    "start_time": "2021-10-05T14:03:45.982Z"
   },
   {
    "duration": 83,
    "start_time": "2021-10-05T14:03:46.637Z"
   },
   {
    "duration": 13,
    "start_time": "2021-10-05T14:03:46.722Z"
   },
   {
    "duration": 96,
    "start_time": "2021-10-05T14:03:46.736Z"
   },
   {
    "duration": 2457,
    "start_time": "2021-10-05T14:03:46.833Z"
   },
   {
    "duration": 431,
    "start_time": "2021-10-05T14:03:49.292Z"
   },
   {
    "duration": 71,
    "start_time": "2021-10-05T14:06:06.460Z"
   },
   {
    "duration": 249,
    "start_time": "2021-10-05T16:16:35.573Z"
   },
   {
    "duration": 806,
    "start_time": "2021-10-05T16:17:00.438Z"
   },
   {
    "duration": 92,
    "start_time": "2021-10-05T16:17:01.247Z"
   },
   {
    "duration": 20,
    "start_time": "2021-10-05T16:17:01.341Z"
   },
   {
    "duration": 103,
    "start_time": "2021-10-05T16:17:01.363Z"
   },
   {
    "duration": 2482,
    "start_time": "2021-10-05T16:17:01.469Z"
   },
   {
    "duration": 111,
    "start_time": "2021-10-05T16:17:03.953Z"
   },
   {
    "duration": 79,
    "start_time": "2021-10-05T16:23:28.546Z"
   },
   {
    "duration": 83,
    "start_time": "2021-10-05T16:23:59.978Z"
   },
   {
    "duration": 332,
    "start_time": "2021-10-05T16:30:21.173Z"
   },
   {
    "duration": 268,
    "start_time": "2021-10-05T16:33:05.191Z"
   },
   {
    "duration": 869,
    "start_time": "2021-10-05T16:33:55.780Z"
   },
   {
    "duration": 99,
    "start_time": "2021-10-05T16:33:56.651Z"
   },
   {
    "duration": 15,
    "start_time": "2021-10-05T16:33:56.753Z"
   },
   {
    "duration": 111,
    "start_time": "2021-10-05T16:33:56.770Z"
   },
   {
    "duration": 2414,
    "start_time": "2021-10-05T16:33:56.883Z"
   },
   {
    "duration": 357,
    "start_time": "2021-10-05T16:33:59.300Z"
   },
   {
    "duration": 73,
    "start_time": "2021-10-05T16:38:40.329Z"
   },
   {
    "duration": 264,
    "start_time": "2021-10-05T17:22:13.532Z"
   },
   {
    "duration": 262,
    "start_time": "2021-10-05T17:22:43.918Z"
   },
   {
    "duration": 266,
    "start_time": "2021-10-05T17:26:23.432Z"
   },
   {
    "duration": 65,
    "start_time": "2021-10-05T17:33:19.379Z"
   },
   {
    "duration": 77,
    "start_time": "2021-10-05T17:35:50.214Z"
   },
   {
    "duration": 84,
    "start_time": "2021-10-05T17:40:21.508Z"
   },
   {
    "duration": 80,
    "start_time": "2021-10-05T17:52:52.784Z"
   },
   {
    "duration": 80,
    "start_time": "2021-10-05T17:53:17.524Z"
   },
   {
    "duration": 80,
    "start_time": "2021-10-05T18:18:05.570Z"
   },
   {
    "duration": 686,
    "start_time": "2021-10-05T18:43:26.625Z"
   },
   {
    "duration": 86,
    "start_time": "2021-10-05T18:43:27.313Z"
   },
   {
    "duration": 13,
    "start_time": "2021-10-05T18:43:27.401Z"
   },
   {
    "duration": 111,
    "start_time": "2021-10-05T18:43:27.416Z"
   },
   {
    "duration": 2472,
    "start_time": "2021-10-05T18:43:27.529Z"
   },
   {
    "duration": 86,
    "start_time": "2021-10-05T18:43:30.003Z"
   },
   {
    "duration": 70,
    "start_time": "2021-10-05T18:44:13.878Z"
   },
   {
    "duration": 99,
    "start_time": "2021-10-05T18:44:13.950Z"
   },
   {
    "duration": 13,
    "start_time": "2021-10-05T18:44:14.051Z"
   },
   {
    "duration": 100,
    "start_time": "2021-10-05T18:44:14.066Z"
   },
   {
    "duration": 2595,
    "start_time": "2021-10-05T18:44:14.167Z"
   },
   {
    "duration": 3038,
    "start_time": "2021-10-05T18:44:16.764Z"
   },
   {
    "duration": 411,
    "start_time": "2021-10-05T18:49:48.931Z"
   },
   {
    "duration": 661,
    "start_time": "2021-10-05T18:50:09.614Z"
   },
   {
    "duration": 94,
    "start_time": "2021-10-05T18:50:10.277Z"
   },
   {
    "duration": 13,
    "start_time": "2021-10-05T18:50:10.374Z"
   },
   {
    "duration": 100,
    "start_time": "2021-10-05T18:50:10.389Z"
   },
   {
    "duration": 2415,
    "start_time": "2021-10-05T18:50:10.490Z"
   },
   {
    "duration": 512,
    "start_time": "2021-10-05T18:50:12.907Z"
   },
   {
    "duration": 644,
    "start_time": "2021-10-05T19:05:42.678Z"
   },
   {
    "duration": 85,
    "start_time": "2021-10-05T19:05:43.324Z"
   },
   {
    "duration": 14,
    "start_time": "2021-10-05T19:05:43.411Z"
   },
   {
    "duration": 100,
    "start_time": "2021-10-05T19:05:43.427Z"
   },
   {
    "duration": 2520,
    "start_time": "2021-10-05T19:05:43.529Z"
   },
   {
    "duration": 731,
    "start_time": "2021-10-05T19:05:46.051Z"
   },
   {
    "duration": 773,
    "start_time": "2021-10-06T08:58:20.341Z"
   },
   {
    "duration": 138,
    "start_time": "2021-10-06T08:58:21.117Z"
   },
   {
    "duration": 17,
    "start_time": "2021-10-06T08:58:21.258Z"
   },
   {
    "duration": 161,
    "start_time": "2021-10-06T08:58:21.277Z"
   },
   {
    "duration": 3295,
    "start_time": "2021-10-06T08:58:21.441Z"
   },
   {
    "duration": 82,
    "start_time": "2021-10-06T08:58:24.740Z"
   },
   {
    "duration": 390,
    "start_time": "2021-10-06T09:07:01.667Z"
   },
   {
    "duration": 848,
    "start_time": "2021-10-06T09:07:32.605Z"
   },
   {
    "duration": 134,
    "start_time": "2021-10-06T09:07:33.456Z"
   },
   {
    "duration": 20,
    "start_time": "2021-10-06T09:07:33.600Z"
   },
   {
    "duration": 151,
    "start_time": "2021-10-06T09:07:33.622Z"
   },
   {
    "duration": 3267,
    "start_time": "2021-10-06T09:07:33.776Z"
   },
   {
    "duration": 409,
    "start_time": "2021-10-06T09:07:37.046Z"
   },
   {
    "duration": 317,
    "start_time": "2021-10-06T09:22:48.164Z"
   },
   {
    "duration": 782,
    "start_time": "2021-10-06T09:24:04.854Z"
   },
   {
    "duration": 141,
    "start_time": "2021-10-06T09:24:05.639Z"
   },
   {
    "duration": 27,
    "start_time": "2021-10-06T09:24:05.783Z"
   },
   {
    "duration": 155,
    "start_time": "2021-10-06T09:24:05.813Z"
   },
   {
    "duration": 3546,
    "start_time": "2021-10-06T09:24:05.970Z"
   },
   {
    "duration": 411,
    "start_time": "2021-10-06T09:24:09.519Z"
   },
   {
    "duration": 93,
    "start_time": "2021-10-06T09:25:44.284Z"
   },
   {
    "duration": 105,
    "start_time": "2021-10-06T09:26:15.513Z"
   },
   {
    "duration": 329,
    "start_time": "2021-10-06T09:27:54.597Z"
   },
   {
    "duration": 299,
    "start_time": "2021-10-06T09:29:29.517Z"
   },
   {
    "duration": 53,
    "start_time": "2021-10-06T09:30:31.345Z"
   },
   {
    "duration": 51,
    "start_time": "2021-10-06T09:31:10.659Z"
   },
   {
    "duration": 55,
    "start_time": "2021-10-06T10:37:02.613Z"
   },
   {
    "duration": 60,
    "start_time": "2021-10-06T10:40:27.604Z"
   },
   {
    "duration": 332,
    "start_time": "2021-10-06T10:43:40.328Z"
   },
   {
    "duration": 56,
    "start_time": "2021-10-06T10:44:16.677Z"
   },
   {
    "duration": 60,
    "start_time": "2021-10-06T10:46:43.486Z"
   },
   {
    "duration": 59,
    "start_time": "2021-10-06T10:47:31.038Z"
   },
   {
    "duration": 62,
    "start_time": "2021-10-06T10:49:58.268Z"
   },
   {
    "duration": 307,
    "start_time": "2021-10-06T10:56:34.491Z"
   },
   {
    "duration": 316,
    "start_time": "2021-10-06T10:59:44.890Z"
   },
   {
    "duration": 59,
    "start_time": "2021-10-06T11:00:52.057Z"
   },
   {
    "duration": 81,
    "start_time": "2021-10-06T11:13:51.939Z"
   },
   {
    "duration": 77,
    "start_time": "2021-10-06T11:29:14.706Z"
   },
   {
    "duration": 344,
    "start_time": "2021-10-06T11:34:11.807Z"
   },
   {
    "duration": 753,
    "start_time": "2021-10-06T11:35:00.236Z"
   },
   {
    "duration": 82,
    "start_time": "2021-10-06T11:37:34.121Z"
   },
   {
    "duration": 82,
    "start_time": "2021-10-06T11:39:35.302Z"
   },
   {
    "duration": 325,
    "start_time": "2021-10-06T11:54:08.520Z"
   },
   {
    "duration": 352,
    "start_time": "2021-10-06T11:59:28.367Z"
   },
   {
    "duration": 326,
    "start_time": "2021-10-06T12:01:19.140Z"
   },
   {
    "duration": 89,
    "start_time": "2021-10-06T12:02:41.902Z"
   },
   {
    "duration": 97,
    "start_time": "2021-10-06T12:04:21.984Z"
   },
   {
    "duration": 346,
    "start_time": "2021-10-06T12:05:07.078Z"
   },
   {
    "duration": 103,
    "start_time": "2021-10-06T12:08:45.178Z"
   },
   {
    "duration": 791,
    "start_time": "2021-10-06T12:19:37.640Z"
   },
   {
    "duration": 136,
    "start_time": "2021-10-06T12:19:38.434Z"
   },
   {
    "duration": 37,
    "start_time": "2021-10-06T12:19:38.573Z"
   },
   {
    "duration": 150,
    "start_time": "2021-10-06T12:19:38.612Z"
   },
   {
    "duration": 3360,
    "start_time": "2021-10-06T12:19:38.764Z"
   },
   {
    "duration": 121,
    "start_time": "2021-10-06T12:19:42.127Z"
   },
   {
    "duration": 87,
    "start_time": "2021-10-06T12:22:07.340Z"
   },
   {
    "duration": 442,
    "start_time": "2021-10-06T12:42:04.556Z"
   },
   {
    "duration": 102,
    "start_time": "2021-10-06T12:44:12.933Z"
   },
   {
    "duration": 119,
    "start_time": "2021-10-06T12:44:50.804Z"
   },
   {
    "duration": 92,
    "start_time": "2021-10-06T12:45:21.108Z"
   },
   {
    "duration": 99,
    "start_time": "2021-10-06T12:47:07.244Z"
   },
   {
    "duration": 354,
    "start_time": "2021-10-06T12:49:04.869Z"
   },
   {
    "duration": 92,
    "start_time": "2021-10-06T12:49:57.909Z"
   },
   {
    "duration": 1136,
    "start_time": "2021-10-06T12:52:27.651Z"
   },
   {
    "duration": 233,
    "start_time": "2021-10-06T12:52:28.790Z"
   },
   {
    "duration": 21,
    "start_time": "2021-10-06T12:52:29.028Z"
   },
   {
    "duration": 232,
    "start_time": "2021-10-06T12:52:29.052Z"
   },
   {
    "duration": 3415,
    "start_time": "2021-10-06T12:52:29.287Z"
   },
   {
    "duration": 107,
    "start_time": "2021-10-06T12:52:32.706Z"
   },
   {
    "duration": 124,
    "start_time": "2021-10-06T12:53:24.277Z"
   },
   {
    "duration": 117,
    "start_time": "2021-10-06T12:57:01.102Z"
   },
   {
    "duration": 91,
    "start_time": "2021-10-06T12:59:40.737Z"
   },
   {
    "duration": 100,
    "start_time": "2021-10-06T13:00:23.845Z"
   },
   {
    "duration": 96,
    "start_time": "2021-10-06T13:01:04.560Z"
   },
   {
    "duration": 384,
    "start_time": "2021-10-07T07:49:53.420Z"
   },
   {
    "duration": 299,
    "start_time": "2021-10-07T07:56:32.589Z"
   },
   {
    "duration": 708,
    "start_time": "2021-10-07T07:57:30.286Z"
   },
   {
    "duration": 104,
    "start_time": "2021-10-07T07:57:30.997Z"
   },
   {
    "duration": 14,
    "start_time": "2021-10-07T07:57:31.103Z"
   },
   {
    "duration": 117,
    "start_time": "2021-10-07T07:57:31.119Z"
   },
   {
    "duration": 3395,
    "start_time": "2021-10-07T07:57:31.238Z"
   },
   {
    "duration": 96,
    "start_time": "2021-10-07T07:57:34.636Z"
   },
   {
    "duration": 1382,
    "start_time": "2021-10-07T08:02:31.512Z"
   },
   {
    "duration": 112,
    "start_time": "2021-10-07T08:03:29.485Z"
   },
   {
    "duration": 103,
    "start_time": "2021-10-07T08:07:01.830Z"
   },
   {
    "duration": 103,
    "start_time": "2021-10-07T08:16:57.348Z"
   },
   {
    "duration": 492,
    "start_time": "2021-10-07T08:17:28.369Z"
   },
   {
    "duration": 65,
    "start_time": "2021-10-07T08:18:05.724Z"
   },
   {
    "duration": 595,
    "start_time": "2021-10-07T08:30:31.110Z"
   },
   {
    "duration": 562,
    "start_time": "2021-10-07T08:32:12.979Z"
   },
   {
    "duration": 72,
    "start_time": "2021-10-07T08:34:14.393Z"
   },
   {
    "duration": 76,
    "start_time": "2021-10-07T08:36:21.605Z"
   },
   {
    "duration": 82,
    "start_time": "2021-10-07T08:37:17.290Z"
   },
   {
    "duration": 79,
    "start_time": "2021-10-07T08:38:03.311Z"
   },
   {
    "duration": 699,
    "start_time": "2021-10-07T08:39:35.474Z"
   },
   {
    "duration": 89,
    "start_time": "2021-10-07T08:39:36.175Z"
   },
   {
    "duration": 23,
    "start_time": "2021-10-07T08:39:36.266Z"
   },
   {
    "duration": 156,
    "start_time": "2021-10-07T08:39:36.291Z"
   },
   {
    "duration": 2617,
    "start_time": "2021-10-07T08:39:36.449Z"
   },
   {
    "duration": 160,
    "start_time": "2021-10-07T08:39:39.069Z"
   },
   {
    "duration": 71,
    "start_time": "2021-10-07T09:16:12.124Z"
   },
   {
    "duration": 59,
    "start_time": "2021-10-07T09:16:44.065Z"
   },
   {
    "duration": 690,
    "start_time": "2021-10-07T09:32:33.137Z"
   },
   {
    "duration": 103,
    "start_time": "2021-10-07T09:32:33.829Z"
   },
   {
    "duration": 15,
    "start_time": "2021-10-07T09:32:33.935Z"
   },
   {
    "duration": 114,
    "start_time": "2021-10-07T09:32:33.952Z"
   },
   {
    "duration": 2499,
    "start_time": "2021-10-07T09:32:34.068Z"
   },
   {
    "duration": 112,
    "start_time": "2021-10-07T09:32:36.568Z"
   },
   {
    "duration": 168,
    "start_time": "2021-10-07T09:34:32.538Z"
   },
   {
    "duration": 820,
    "start_time": "2021-10-07T09:36:11.849Z"
   },
   {
    "duration": 165,
    "start_time": "2021-10-07T09:36:50.544Z"
   },
   {
    "duration": 640,
    "start_time": "2021-10-07T10:56:03.228Z"
   },
   {
    "duration": 90,
    "start_time": "2021-10-07T10:56:03.870Z"
   },
   {
    "duration": 32,
    "start_time": "2021-10-07T10:56:03.962Z"
   },
   {
    "duration": 106,
    "start_time": "2021-10-07T10:56:03.995Z"
   },
   {
    "duration": 2510,
    "start_time": "2021-10-07T10:56:04.104Z"
   },
   {
    "duration": 7853,
    "start_time": "2021-10-07T10:56:06.616Z"
   },
   {
    "duration": 657,
    "start_time": "2021-10-07T10:58:54.141Z"
   },
   {
    "duration": 99,
    "start_time": "2021-10-07T10:58:54.800Z"
   },
   {
    "duration": 18,
    "start_time": "2021-10-07T10:58:54.902Z"
   },
   {
    "duration": 164,
    "start_time": "2021-10-07T10:58:54.922Z"
   },
   {
    "duration": 2731,
    "start_time": "2021-10-07T10:58:55.089Z"
   },
   {
    "duration": 1514,
    "start_time": "2021-10-07T10:58:57.822Z"
   },
   {
    "duration": 9777,
    "start_time": "2021-10-07T10:59:41.788Z"
   },
   {
    "duration": 706,
    "start_time": "2021-10-07T11:00:15.267Z"
   },
   {
    "duration": 101,
    "start_time": "2021-10-07T11:00:15.975Z"
   },
   {
    "duration": 20,
    "start_time": "2021-10-07T11:00:16.079Z"
   },
   {
    "duration": 166,
    "start_time": "2021-10-07T11:00:16.101Z"
   },
   {
    "duration": 2551,
    "start_time": "2021-10-07T11:00:16.277Z"
   },
   {
    "duration": 9122,
    "start_time": "2021-10-07T11:00:18.830Z"
   },
   {
    "duration": 68,
    "start_time": "2021-10-07T11:02:46.790Z"
   },
   {
    "duration": 99,
    "start_time": "2021-10-07T11:02:46.860Z"
   },
   {
    "duration": 30,
    "start_time": "2021-10-07T11:02:46.961Z"
   },
   {
    "duration": 112,
    "start_time": "2021-10-07T11:02:46.994Z"
   },
   {
    "duration": 2721,
    "start_time": "2021-10-07T11:02:47.107Z"
   },
   {
    "duration": 96,
    "start_time": "2021-10-07T11:02:49.829Z"
   },
   {
    "duration": 72,
    "start_time": "2021-10-07T11:03:21.940Z"
   },
   {
    "duration": 105,
    "start_time": "2021-10-07T11:06:53.944Z"
   },
   {
    "duration": 102,
    "start_time": "2021-10-07T11:06:54.052Z"
   },
   {
    "duration": 24,
    "start_time": "2021-10-07T11:06:54.156Z"
   },
   {
    "duration": 157,
    "start_time": "2021-10-07T11:06:54.184Z"
   },
   {
    "duration": 2907,
    "start_time": "2021-10-07T11:06:54.343Z"
   },
   {
    "duration": 818,
    "start_time": "2021-10-07T11:06:57.252Z"
   },
   {
    "duration": 73,
    "start_time": "2021-10-07T11:09:12.271Z"
   },
   {
    "duration": 103,
    "start_time": "2021-10-07T11:09:12.346Z"
   },
   {
    "duration": 27,
    "start_time": "2021-10-07T11:09:12.452Z"
   },
   {
    "duration": 162,
    "start_time": "2021-10-07T11:09:12.482Z"
   },
   {
    "duration": 2899,
    "start_time": "2021-10-07T11:09:12.646Z"
   },
   {
    "duration": 87,
    "start_time": "2021-10-07T11:09:15.547Z"
   },
   {
    "duration": 75,
    "start_time": "2021-10-07T11:11:06.440Z"
   },
   {
    "duration": 106,
    "start_time": "2021-10-07T11:11:06.517Z"
   },
   {
    "duration": 13,
    "start_time": "2021-10-07T11:11:06.626Z"
   },
   {
    "duration": 106,
    "start_time": "2021-10-07T11:11:06.641Z"
   },
   {
    "duration": 2787,
    "start_time": "2021-10-07T11:11:06.749Z"
   },
   {
    "duration": 96,
    "start_time": "2021-10-07T11:11:09.538Z"
   },
   {
    "duration": 71,
    "start_time": "2021-10-07T11:16:57.171Z"
   },
   {
    "duration": 107,
    "start_time": "2021-10-07T11:16:57.244Z"
   },
   {
    "duration": 32,
    "start_time": "2021-10-07T11:16:57.353Z"
   },
   {
    "duration": 101,
    "start_time": "2021-10-07T11:16:57.388Z"
   },
   {
    "duration": 2702,
    "start_time": "2021-10-07T11:16:57.492Z"
   },
   {
    "duration": 107,
    "start_time": "2021-10-07T11:17:00.197Z"
   },
   {
    "duration": 67,
    "start_time": "2021-10-07T11:17:57.876Z"
   },
   {
    "duration": 107,
    "start_time": "2021-10-07T11:17:57.945Z"
   },
   {
    "duration": 30,
    "start_time": "2021-10-07T11:17:58.055Z"
   },
   {
    "duration": 106,
    "start_time": "2021-10-07T11:17:58.088Z"
   },
   {
    "duration": 3062,
    "start_time": "2021-10-07T11:17:58.196Z"
   },
   {
    "duration": 159,
    "start_time": "2021-10-07T11:18:01.260Z"
   },
   {
    "duration": 80,
    "start_time": "2021-10-07T11:28:45.758Z"
   },
   {
    "duration": 110,
    "start_time": "2021-10-07T11:28:45.840Z"
   },
   {
    "duration": 26,
    "start_time": "2021-10-07T11:28:45.952Z"
   },
   {
    "duration": 122,
    "start_time": "2021-10-07T11:28:45.981Z"
   },
   {
    "duration": 2880,
    "start_time": "2021-10-07T11:28:46.104Z"
   },
   {
    "duration": 116,
    "start_time": "2021-10-07T11:28:48.986Z"
   },
   {
    "duration": 315,
    "start_time": "2021-10-07T11:28:49.104Z"
   },
   {
    "duration": 67,
    "start_time": "2021-10-07T11:33:55.607Z"
   },
   {
    "duration": 128,
    "start_time": "2021-10-07T11:33:55.678Z"
   },
   {
    "duration": 15,
    "start_time": "2021-10-07T11:33:55.808Z"
   },
   {
    "duration": 122,
    "start_time": "2021-10-07T11:33:55.824Z"
   },
   {
    "duration": 3638,
    "start_time": "2021-10-07T11:33:55.948Z"
   },
   {
    "duration": 146,
    "start_time": "2021-10-07T11:33:59.589Z"
   },
   {
    "duration": 378,
    "start_time": "2021-10-07T11:33:59.737Z"
   },
   {
    "duration": 87,
    "start_time": "2021-10-07T11:34:36.754Z"
   },
   {
    "duration": 84,
    "start_time": "2021-10-07T11:37:08.473Z"
   },
   {
    "duration": 96,
    "start_time": "2021-10-07T11:46:55.703Z"
   },
   {
    "duration": 105,
    "start_time": "2021-10-07T11:46:55.801Z"
   },
   {
    "duration": 14,
    "start_time": "2021-10-07T11:46:55.909Z"
   },
   {
    "duration": 113,
    "start_time": "2021-10-07T11:46:55.925Z"
   },
   {
    "duration": 2995,
    "start_time": "2021-10-07T11:46:56.039Z"
   },
   {
    "duration": 112,
    "start_time": "2021-10-07T11:46:59.036Z"
   },
   {
    "duration": 10,
    "start_time": "2021-10-07T11:46:59.150Z"
   },
   {
    "duration": 426,
    "start_time": "2021-10-07T11:49:29.041Z"
   },
   {
    "duration": 107,
    "start_time": "2021-10-07T11:49:43.972Z"
   },
   {
    "duration": 142,
    "start_time": "2021-10-07T11:49:44.082Z"
   },
   {
    "duration": 13,
    "start_time": "2021-10-07T11:49:44.226Z"
   },
   {
    "duration": 116,
    "start_time": "2021-10-07T11:49:44.241Z"
   },
   {
    "duration": 2739,
    "start_time": "2021-10-07T11:49:44.358Z"
   },
   {
    "duration": 114,
    "start_time": "2021-10-07T11:49:47.099Z"
   },
   {
    "duration": 369,
    "start_time": "2021-10-07T11:49:47.215Z"
   },
   {
    "duration": 8,
    "start_time": "2021-10-07T11:53:00.994Z"
   },
   {
    "duration": 10,
    "start_time": "2021-10-07T11:53:15.509Z"
   },
   {
    "duration": 333,
    "start_time": "2021-10-07T12:07:32.511Z"
   },
   {
    "duration": 327,
    "start_time": "2021-10-07T12:08:14.165Z"
   },
   {
    "duration": 28,
    "start_time": "2021-10-07T12:08:56.261Z"
   },
   {
    "duration": 34,
    "start_time": "2021-10-07T12:09:36.896Z"
   },
   {
    "duration": 136,
    "start_time": "2021-10-07T12:18:15.252Z"
   },
   {
    "duration": 159,
    "start_time": "2021-10-07T12:19:02.835Z"
   },
   {
    "duration": 8,
    "start_time": "2021-10-07T12:19:50.722Z"
   },
   {
    "duration": 64,
    "start_time": "2021-10-07T12:51:37.821Z"
   },
   {
    "duration": 110,
    "start_time": "2021-10-07T12:51:37.887Z"
   },
   {
    "duration": 15,
    "start_time": "2021-10-07T12:51:37.999Z"
   },
   {
    "duration": 113,
    "start_time": "2021-10-07T12:51:38.017Z"
   },
   {
    "duration": 2447,
    "start_time": "2021-10-07T12:51:38.132Z"
   },
   {
    "duration": 109,
    "start_time": "2021-10-07T12:51:40.581Z"
   },
   {
    "duration": 7,
    "start_time": "2021-10-07T12:51:40.692Z"
   },
   {
    "duration": 72,
    "start_time": "2021-10-07T12:54:30.419Z"
   },
   {
    "duration": 98,
    "start_time": "2021-10-07T12:54:30.493Z"
   },
   {
    "duration": 13,
    "start_time": "2021-10-07T12:54:30.593Z"
   },
   {
    "duration": 109,
    "start_time": "2021-10-07T12:54:30.608Z"
   },
   {
    "duration": 2548,
    "start_time": "2021-10-07T12:54:30.719Z"
   },
   {
    "duration": 94,
    "start_time": "2021-10-07T12:54:33.269Z"
   },
   {
    "duration": 16,
    "start_time": "2021-10-07T12:54:33.364Z"
   },
   {
    "duration": 11,
    "start_time": "2021-10-07T12:54:33.382Z"
   },
   {
    "duration": 896,
    "start_time": "2021-10-07T15:55:59.844Z"
   },
   {
    "duration": 154,
    "start_time": "2021-10-07T15:56:00.743Z"
   },
   {
    "duration": 14,
    "start_time": "2021-10-07T15:56:00.899Z"
   },
   {
    "duration": 124,
    "start_time": "2021-10-07T15:56:00.915Z"
   },
   {
    "duration": 2794,
    "start_time": "2021-10-07T15:56:01.049Z"
   },
   {
    "duration": 122,
    "start_time": "2021-10-07T15:56:03.849Z"
   },
   {
    "duration": 7,
    "start_time": "2021-10-07T15:56:03.973Z"
   },
   {
    "duration": 16,
    "start_time": "2021-10-07T15:56:03.983Z"
   },
   {
    "duration": 11,
    "start_time": "2021-10-07T15:56:04.001Z"
   },
   {
    "duration": 76,
    "start_time": "2021-10-07T15:57:12.786Z"
   },
   {
    "duration": 116,
    "start_time": "2021-10-07T15:57:12.865Z"
   },
   {
    "duration": 15,
    "start_time": "2021-10-07T15:57:12.983Z"
   },
   {
    "duration": 130,
    "start_time": "2021-10-07T15:57:13.000Z"
   },
   {
    "duration": 3009,
    "start_time": "2021-10-07T15:57:13.133Z"
   },
   {
    "duration": 152,
    "start_time": "2021-10-07T15:57:16.149Z"
   },
   {
    "duration": 10,
    "start_time": "2021-10-07T15:57:16.303Z"
   },
   {
    "duration": 29,
    "start_time": "2021-10-07T15:57:16.316Z"
   },
   {
    "duration": 23,
    "start_time": "2021-10-07T15:57:16.347Z"
   },
   {
    "duration": 77,
    "start_time": "2021-10-07T16:10:23.835Z"
   },
   {
    "duration": 108,
    "start_time": "2021-10-07T16:10:23.914Z"
   },
   {
    "duration": 25,
    "start_time": "2021-10-07T16:10:24.024Z"
   },
   {
    "duration": 110,
    "start_time": "2021-10-07T16:10:24.052Z"
   },
   {
    "duration": 2611,
    "start_time": "2021-10-07T16:10:24.165Z"
   },
   {
    "duration": 103,
    "start_time": "2021-10-07T16:10:26.779Z"
   },
   {
    "duration": 6,
    "start_time": "2021-10-07T16:10:26.884Z"
   },
   {
    "duration": 11,
    "start_time": "2021-10-07T16:10:26.892Z"
   },
   {
    "duration": 8,
    "start_time": "2021-10-07T16:10:26.905Z"
   },
   {
    "duration": 9,
    "start_time": "2021-10-07T16:10:26.915Z"
   },
   {
    "duration": 65,
    "start_time": "2021-10-07T16:39:13.217Z"
   },
   {
    "duration": 98,
    "start_time": "2021-10-07T16:39:13.285Z"
   },
   {
    "duration": 14,
    "start_time": "2021-10-07T16:39:13.386Z"
   },
   {
    "duration": 113,
    "start_time": "2021-10-07T16:39:13.402Z"
   },
   {
    "duration": 2477,
    "start_time": "2021-10-07T16:39:13.517Z"
   },
   {
    "duration": 100,
    "start_time": "2021-10-07T16:39:15.996Z"
   },
   {
    "duration": 7,
    "start_time": "2021-10-07T16:39:16.098Z"
   },
   {
    "duration": 305,
    "start_time": "2021-10-07T16:39:16.107Z"
   },
   {
    "duration": -108,
    "start_time": "2021-10-07T16:39:16.522Z"
   },
   {
    "duration": -114,
    "start_time": "2021-10-07T16:39:16.529Z"
   },
   {
    "duration": 69,
    "start_time": "2021-10-07T16:39:48.311Z"
   },
   {
    "duration": 101,
    "start_time": "2021-10-07T16:39:48.382Z"
   },
   {
    "duration": 14,
    "start_time": "2021-10-07T16:39:48.485Z"
   },
   {
    "duration": 104,
    "start_time": "2021-10-07T16:39:48.501Z"
   },
   {
    "duration": 2622,
    "start_time": "2021-10-07T16:39:48.607Z"
   },
   {
    "duration": 96,
    "start_time": "2021-10-07T16:39:51.232Z"
   },
   {
    "duration": 24,
    "start_time": "2021-10-07T16:39:51.330Z"
   },
   {
    "duration": 216,
    "start_time": "2021-10-07T16:39:51.357Z"
   },
   {
    "duration": -119,
    "start_time": "2021-10-07T16:39:51.695Z"
   },
   {
    "duration": -125,
    "start_time": "2021-10-07T16:39:51.702Z"
   },
   {
    "duration": 67,
    "start_time": "2021-10-07T16:41:37.710Z"
   },
   {
    "duration": 108,
    "start_time": "2021-10-07T16:41:37.779Z"
   },
   {
    "duration": 13,
    "start_time": "2021-10-07T16:41:37.889Z"
   },
   {
    "duration": 106,
    "start_time": "2021-10-07T16:41:37.904Z"
   },
   {
    "duration": 2496,
    "start_time": "2021-10-07T16:41:38.013Z"
   },
   {
    "duration": 99,
    "start_time": "2021-10-07T16:41:40.511Z"
   },
   {
    "duration": 7,
    "start_time": "2021-10-07T16:41:40.612Z"
   },
   {
    "duration": 294,
    "start_time": "2021-10-07T16:41:40.621Z"
   },
   {
    "duration": -100,
    "start_time": "2021-10-07T16:41:41.018Z"
   },
   {
    "duration": -111,
    "start_time": "2021-10-07T16:41:41.030Z"
   },
   {
    "duration": 66,
    "start_time": "2021-10-07T16:42:45.440Z"
   },
   {
    "duration": 101,
    "start_time": "2021-10-07T16:42:45.508Z"
   },
   {
    "duration": 14,
    "start_time": "2021-10-07T16:42:45.611Z"
   },
   {
    "duration": 108,
    "start_time": "2021-10-07T16:42:45.627Z"
   },
   {
    "duration": 2515,
    "start_time": "2021-10-07T16:42:45.737Z"
   },
   {
    "duration": 105,
    "start_time": "2021-10-07T16:42:48.254Z"
   },
   {
    "duration": 7,
    "start_time": "2021-10-07T16:42:48.361Z"
   },
   {
    "duration": 80,
    "start_time": "2021-10-07T16:42:48.371Z"
   },
   {
    "duration": -102,
    "start_time": "2021-10-07T16:42:48.555Z"
   },
   {
    "duration": -107,
    "start_time": "2021-10-07T16:42:48.561Z"
   },
   {
    "duration": 69,
    "start_time": "2021-10-07T16:43:58.020Z"
   },
   {
    "duration": 110,
    "start_time": "2021-10-07T16:43:58.092Z"
   },
   {
    "duration": 15,
    "start_time": "2021-10-07T16:43:58.204Z"
   },
   {
    "duration": 112,
    "start_time": "2021-10-07T16:43:58.221Z"
   },
   {
    "duration": 2671,
    "start_time": "2021-10-07T16:43:58.335Z"
   },
   {
    "duration": 104,
    "start_time": "2021-10-07T16:44:01.008Z"
   },
   {
    "duration": 7,
    "start_time": "2021-10-07T16:44:01.114Z"
   },
   {
    "duration": 259,
    "start_time": "2021-10-07T16:44:01.123Z"
   },
   {
    "duration": -125,
    "start_time": "2021-10-07T16:44:01.509Z"
   },
   {
    "duration": -131,
    "start_time": "2021-10-07T16:44:01.516Z"
   },
   {
    "duration": 192,
    "start_time": "2021-10-07T17:13:18.865Z"
   },
   {
    "duration": 204,
    "start_time": "2021-10-07T17:15:32.437Z"
   },
   {
    "duration": 207,
    "start_time": "2021-10-07T17:29:35.212Z"
   },
   {
    "duration": 263,
    "start_time": "2021-10-07T17:32:05.069Z"
   },
   {
    "duration": 89,
    "start_time": "2021-10-07T17:56:14.237Z"
   },
   {
    "duration": 100,
    "start_time": "2021-10-07T17:56:14.328Z"
   },
   {
    "duration": 28,
    "start_time": "2021-10-07T17:56:14.430Z"
   },
   {
    "duration": 109,
    "start_time": "2021-10-07T17:56:14.586Z"
   },
   {
    "duration": 2808,
    "start_time": "2021-10-07T17:56:14.698Z"
   },
   {
    "duration": 96,
    "start_time": "2021-10-07T17:56:17.508Z"
   },
   {
    "duration": 8,
    "start_time": "2021-10-07T17:56:17.606Z"
   },
   {
    "duration": 12,
    "start_time": "2021-10-07T17:56:17.616Z"
   },
   {
    "duration": 25,
    "start_time": "2021-10-07T17:56:17.630Z"
   },
   {
    "duration": 8,
    "start_time": "2021-10-07T17:56:17.658Z"
   },
   {
    "duration": 498,
    "start_time": "2021-10-07T18:01:34.353Z"
   },
   {
    "duration": 276,
    "start_time": "2021-10-07T18:01:53.848Z"
   },
   {
    "duration": 69,
    "start_time": "2021-10-07T18:06:16.831Z"
   },
   {
    "duration": 100,
    "start_time": "2021-10-07T18:06:16.902Z"
   },
   {
    "duration": 12,
    "start_time": "2021-10-07T18:06:17.004Z"
   },
   {
    "duration": 103,
    "start_time": "2021-10-07T18:06:17.017Z"
   },
   {
    "duration": 2603,
    "start_time": "2021-10-07T18:06:17.122Z"
   },
   {
    "duration": 96,
    "start_time": "2021-10-07T18:06:19.727Z"
   },
   {
    "duration": 278,
    "start_time": "2021-10-07T18:06:19.825Z"
   },
   {
    "duration": -154,
    "start_time": "2021-10-07T18:06:20.260Z"
   },
   {
    "duration": -171,
    "start_time": "2021-10-07T18:06:20.279Z"
   },
   {
    "duration": -178,
    "start_time": "2021-10-07T18:06:20.287Z"
   },
   {
    "duration": 202,
    "start_time": "2021-10-07T18:08:20.767Z"
   },
   {
    "duration": 240,
    "start_time": "2021-10-07T18:10:09.698Z"
   },
   {
    "duration": 572,
    "start_time": "2021-10-07T18:18:45.273Z"
   },
   {
    "duration": 65,
    "start_time": "2021-10-07T18:18:54.124Z"
   },
   {
    "duration": 105,
    "start_time": "2021-10-07T18:18:54.191Z"
   },
   {
    "duration": 15,
    "start_time": "2021-10-07T18:18:54.299Z"
   },
   {
    "duration": 111,
    "start_time": "2021-10-07T18:18:54.316Z"
   },
   {
    "duration": 2725,
    "start_time": "2021-10-07T18:18:54.429Z"
   },
   {
    "duration": 95,
    "start_time": "2021-10-07T18:18:57.156Z"
   },
   {
    "duration": 247,
    "start_time": "2021-10-07T18:18:57.253Z"
   },
   {
    "duration": -173,
    "start_time": "2021-10-07T18:18:57.676Z"
   },
   {
    "duration": -181,
    "start_time": "2021-10-07T18:18:57.685Z"
   },
   {
    "duration": -187,
    "start_time": "2021-10-07T18:18:57.692Z"
   },
   {
    "duration": 22,
    "start_time": "2021-10-07T18:20:10.739Z"
   },
   {
    "duration": 21,
    "start_time": "2021-10-07T18:20:43.051Z"
   },
   {
    "duration": 16,
    "start_time": "2021-10-07T18:22:12.850Z"
   },
   {
    "duration": 19,
    "start_time": "2021-10-07T18:25:19.748Z"
   },
   {
    "duration": 18,
    "start_time": "2021-10-07T18:25:56.673Z"
   },
   {
    "duration": 1130,
    "start_time": "2021-10-07T18:29:39.473Z"
   },
   {
    "duration": 20,
    "start_time": "2021-10-07T18:30:35.183Z"
   },
   {
    "duration": 72,
    "start_time": "2021-10-07T18:30:58.799Z"
   },
   {
    "duration": 105,
    "start_time": "2021-10-07T18:30:58.873Z"
   },
   {
    "duration": 14,
    "start_time": "2021-10-07T18:30:58.981Z"
   },
   {
    "duration": 111,
    "start_time": "2021-10-07T18:30:58.998Z"
   },
   {
    "duration": 2678,
    "start_time": "2021-10-07T18:30:59.111Z"
   },
   {
    "duration": 108,
    "start_time": "2021-10-07T18:31:01.791Z"
   },
   {
    "duration": 881,
    "start_time": "2021-10-07T18:31:01.901Z"
   },
   {
    "duration": -194,
    "start_time": "2021-10-07T18:31:02.978Z"
   },
   {
    "duration": -208,
    "start_time": "2021-10-07T18:31:02.993Z"
   },
   {
    "duration": -213,
    "start_time": "2021-10-07T18:31:02.999Z"
   },
   {
    "duration": 22,
    "start_time": "2021-10-07T18:32:18.688Z"
   },
   {
    "duration": 24,
    "start_time": "2021-10-07T18:32:46.771Z"
   },
   {
    "duration": 210,
    "start_time": "2021-10-07T18:34:18.147Z"
   },
   {
    "duration": 22,
    "start_time": "2021-10-07T18:35:05.122Z"
   },
   {
    "duration": 20,
    "start_time": "2021-10-07T18:36:27.710Z"
   },
   {
    "duration": 73,
    "start_time": "2021-10-07T18:40:20.010Z"
   },
   {
    "duration": 532,
    "start_time": "2021-10-07T18:41:01.128Z"
   },
   {
    "duration": 216,
    "start_time": "2021-10-07T18:41:28.738Z"
   },
   {
    "duration": 226,
    "start_time": "2021-10-07T18:43:38.239Z"
   },
   {
    "duration": 210,
    "start_time": "2021-10-07T18:44:20.817Z"
   },
   {
    "duration": 22,
    "start_time": "2021-10-07T18:46:19.544Z"
   },
   {
    "duration": 27,
    "start_time": "2021-10-07T18:47:34.945Z"
   },
   {
    "duration": 23,
    "start_time": "2021-10-07T18:51:11.771Z"
   },
   {
    "duration": 69,
    "start_time": "2021-10-07T18:51:16.183Z"
   },
   {
    "duration": 108,
    "start_time": "2021-10-07T18:51:16.255Z"
   },
   {
    "duration": 13,
    "start_time": "2021-10-07T18:51:16.365Z"
   },
   {
    "duration": 117,
    "start_time": "2021-10-07T18:51:16.380Z"
   },
   {
    "duration": 2707,
    "start_time": "2021-10-07T18:51:16.499Z"
   },
   {
    "duration": 94,
    "start_time": "2021-10-07T18:51:19.207Z"
   },
   {
    "duration": 7,
    "start_time": "2021-10-07T18:51:19.302Z"
   },
   {
    "duration": 38,
    "start_time": "2021-10-07T18:51:19.311Z"
   },
   {
    "duration": 8,
    "start_time": "2021-10-07T18:51:19.351Z"
   },
   {
    "duration": 17,
    "start_time": "2021-10-07T18:51:19.361Z"
   },
   {
    "duration": 21,
    "start_time": "2021-10-07T18:52:23.279Z"
   },
   {
    "duration": 613,
    "start_time": "2021-10-07T19:06:22.371Z"
   },
   {
    "duration": 90,
    "start_time": "2021-10-07T19:06:22.986Z"
   },
   {
    "duration": 13,
    "start_time": "2021-10-07T19:06:23.078Z"
   },
   {
    "duration": 105,
    "start_time": "2021-10-07T19:06:23.093Z"
   },
   {
    "duration": 2532,
    "start_time": "2021-10-07T19:06:23.200Z"
   },
   {
    "duration": 106,
    "start_time": "2021-10-07T19:06:25.734Z"
   },
   {
    "duration": 7,
    "start_time": "2021-10-07T19:06:25.849Z"
   },
   {
    "duration": 26,
    "start_time": "2021-10-07T19:06:25.859Z"
   },
   {
    "duration": 6,
    "start_time": "2021-10-07T19:06:25.888Z"
   },
   {
    "duration": 10,
    "start_time": "2021-10-07T19:06:25.896Z"
   },
   {
    "duration": 827,
    "start_time": "2021-10-09T14:24:47.299Z"
   },
   {
    "duration": 95,
    "start_time": "2021-10-09T14:25:13.018Z"
   },
   {
    "duration": 89,
    "start_time": "2021-10-09T14:26:12.273Z"
   },
   {
    "duration": 149,
    "start_time": "2021-10-09T14:26:12.368Z"
   },
   {
    "duration": 19,
    "start_time": "2021-10-09T14:26:12.520Z"
   },
   {
    "duration": 171,
    "start_time": "2021-10-09T14:26:12.541Z"
   },
   {
    "duration": 3362,
    "start_time": "2021-10-09T14:26:12.715Z"
   },
   {
    "duration": 146,
    "start_time": "2021-10-09T14:26:16.080Z"
   },
   {
    "duration": 12,
    "start_time": "2021-10-09T14:26:16.229Z"
   },
   {
    "duration": 49,
    "start_time": "2021-10-09T14:26:16.244Z"
   },
   {
    "duration": 9,
    "start_time": "2021-10-09T14:26:16.296Z"
   },
   {
    "duration": 16,
    "start_time": "2021-10-09T14:26:16.308Z"
   },
   {
    "duration": 179,
    "start_time": "2021-10-09T14:39:15.416Z"
   },
   {
    "duration": 95,
    "start_time": "2021-10-09T15:23:15.054Z"
   },
   {
    "duration": 169,
    "start_time": "2021-10-09T15:23:15.152Z"
   },
   {
    "duration": 20,
    "start_time": "2021-10-09T15:23:15.323Z"
   },
   {
    "duration": 99,
    "start_time": "2021-10-09T15:23:15.346Z"
   },
   {
    "duration": 102,
    "start_time": "2021-10-09T15:23:15.468Z"
   },
   {
    "duration": 3527,
    "start_time": "2021-10-09T15:23:15.572Z"
   },
   {
    "duration": 135,
    "start_time": "2021-10-09T15:23:19.102Z"
   },
   {
    "duration": 10,
    "start_time": "2021-10-09T15:23:19.240Z"
   },
   {
    "duration": 29,
    "start_time": "2021-10-09T15:23:19.268Z"
   },
   {
    "duration": 9,
    "start_time": "2021-10-09T15:23:19.300Z"
   },
   {
    "duration": 15,
    "start_time": "2021-10-09T15:23:19.311Z"
   },
   {
    "duration": 99,
    "start_time": "2021-10-09T15:36:53.411Z"
   },
   {
    "duration": 147,
    "start_time": "2021-10-09T15:36:53.513Z"
   },
   {
    "duration": 20,
    "start_time": "2021-10-09T15:36:53.668Z"
   },
   {
    "duration": 119,
    "start_time": "2021-10-09T15:36:53.691Z"
   },
   {
    "duration": 110,
    "start_time": "2021-10-09T15:36:53.813Z"
   },
   {
    "duration": 3499,
    "start_time": "2021-10-09T15:36:53.925Z"
   },
   {
    "duration": 58,
    "start_time": "2021-10-09T15:36:57.427Z"
   },
   {
    "duration": 141,
    "start_time": "2021-10-09T15:36:57.488Z"
   },
   {
    "duration": 11,
    "start_time": "2021-10-09T15:36:57.631Z"
   },
   {
    "duration": 52,
    "start_time": "2021-10-09T15:36:57.645Z"
   },
   {
    "duration": 10,
    "start_time": "2021-10-09T15:36:57.700Z"
   },
   {
    "duration": 10,
    "start_time": "2021-10-09T15:36:57.712Z"
   },
   {
    "duration": 3836,
    "start_time": "2021-10-09T15:51:41.168Z"
   },
   {
    "duration": 3679,
    "start_time": "2021-10-09T15:52:34.736Z"
   },
   {
    "duration": 3809,
    "start_time": "2021-10-09T15:52:56.936Z"
   },
   {
    "duration": 3726,
    "start_time": "2021-10-09T15:53:40.903Z"
   },
   {
    "duration": 104,
    "start_time": "2021-10-09T15:56:00.667Z"
   },
   {
    "duration": 145,
    "start_time": "2021-10-09T15:56:00.774Z"
   },
   {
    "duration": 19,
    "start_time": "2021-10-09T15:56:00.922Z"
   },
   {
    "duration": 103,
    "start_time": "2021-10-09T15:56:00.944Z"
   },
   {
    "duration": 102,
    "start_time": "2021-10-09T15:56:01.049Z"
   },
   {
    "duration": 3745,
    "start_time": "2021-10-09T15:56:01.168Z"
   },
   {
    "duration": -473,
    "start_time": "2021-10-09T15:56:05.389Z"
   },
   {
    "duration": -488,
    "start_time": "2021-10-09T15:56:05.405Z"
   },
   {
    "duration": -494,
    "start_time": "2021-10-09T15:56:05.413Z"
   },
   {
    "duration": -498,
    "start_time": "2021-10-09T15:56:05.419Z"
   },
   {
    "duration": -505,
    "start_time": "2021-10-09T15:56:05.427Z"
   },
   {
    "duration": -509,
    "start_time": "2021-10-09T15:56:05.433Z"
   },
   {
    "duration": 108,
    "start_time": "2021-10-09T15:59:34.903Z"
   },
   {
    "duration": 165,
    "start_time": "2021-10-09T15:59:35.013Z"
   },
   {
    "duration": 20,
    "start_time": "2021-10-09T15:59:35.181Z"
   },
   {
    "duration": 113,
    "start_time": "2021-10-09T15:59:35.204Z"
   },
   {
    "duration": 108,
    "start_time": "2021-10-09T15:59:35.319Z"
   },
   {
    "duration": 3998,
    "start_time": "2021-10-09T15:59:35.429Z"
   },
   {
    "duration": 61,
    "start_time": "2021-10-09T15:59:39.429Z"
   },
   {
    "duration": 208,
    "start_time": "2021-10-09T15:59:39.495Z"
   },
   {
    "duration": 15,
    "start_time": "2021-10-09T15:59:39.706Z"
   },
   {
    "duration": 71,
    "start_time": "2021-10-09T15:59:39.724Z"
   },
   {
    "duration": 15,
    "start_time": "2021-10-09T15:59:39.798Z"
   },
   {
    "duration": 16,
    "start_time": "2021-10-09T15:59:39.816Z"
   },
   {
    "duration": 3438,
    "start_time": "2021-10-09T16:01:04.234Z"
   },
   {
    "duration": 99,
    "start_time": "2021-10-09T16:07:18.420Z"
   },
   {
    "duration": 798,
    "start_time": "2021-10-09T16:07:48.865Z"
   },
   {
    "duration": 123,
    "start_time": "2021-10-09T16:08:48.554Z"
   },
   {
    "duration": 3436,
    "start_time": "2021-10-09T16:10:00.054Z"
   },
   {
    "duration": 96,
    "start_time": "2021-10-09T16:11:09.748Z"
   },
   {
    "duration": 155,
    "start_time": "2021-10-09T16:11:09.847Z"
   },
   {
    "duration": 20,
    "start_time": "2021-10-09T16:11:10.006Z"
   },
   {
    "duration": 113,
    "start_time": "2021-10-09T16:11:10.030Z"
   },
   {
    "duration": 86,
    "start_time": "2021-10-09T16:11:10.167Z"
   },
   {
    "duration": 84,
    "start_time": "2021-10-09T16:11:10.268Z"
   },
   {
    "duration": -533,
    "start_time": "2021-10-09T16:11:10.887Z"
   },
   {
    "duration": -541,
    "start_time": "2021-10-09T16:11:10.897Z"
   },
   {
    "duration": -549,
    "start_time": "2021-10-09T16:11:10.906Z"
   },
   {
    "duration": -558,
    "start_time": "2021-10-09T16:11:10.917Z"
   },
   {
    "duration": -564,
    "start_time": "2021-10-09T16:11:10.924Z"
   },
   {
    "duration": -570,
    "start_time": "2021-10-09T16:11:10.931Z"
   },
   {
    "duration": 3486,
    "start_time": "2021-10-09T16:11:56.228Z"
   },
   {
    "duration": 100,
    "start_time": "2021-10-09T16:33:43.929Z"
   },
   {
    "duration": 159,
    "start_time": "2021-10-09T16:33:44.032Z"
   },
   {
    "duration": 19,
    "start_time": "2021-10-09T16:33:44.194Z"
   },
   {
    "duration": 106,
    "start_time": "2021-10-09T16:33:44.215Z"
   },
   {
    "duration": 109,
    "start_time": "2021-10-09T16:33:44.323Z"
   },
   {
    "duration": 3481,
    "start_time": "2021-10-09T16:33:44.434Z"
   },
   {
    "duration": 61,
    "start_time": "2021-10-09T16:33:47.918Z"
   },
   {
    "duration": 140,
    "start_time": "2021-10-09T16:33:47.983Z"
   },
   {
    "duration": 12,
    "start_time": "2021-10-09T16:33:48.126Z"
   },
   {
    "duration": 54,
    "start_time": "2021-10-09T16:33:48.144Z"
   },
   {
    "duration": 12,
    "start_time": "2021-10-09T16:33:48.201Z"
   },
   {
    "duration": 51,
    "start_time": "2021-10-09T16:33:48.216Z"
   },
   {
    "duration": 3702,
    "start_time": "2021-10-09T16:35:11.279Z"
   },
   {
    "duration": 3752,
    "start_time": "2021-10-09T16:45:30.652Z"
   },
   {
    "duration": 107,
    "start_time": "2021-10-09T16:45:47.817Z"
   },
   {
    "duration": 176,
    "start_time": "2021-10-09T16:45:47.926Z"
   },
   {
    "duration": 20,
    "start_time": "2021-10-09T16:45:48.106Z"
   },
   {
    "duration": 114,
    "start_time": "2021-10-09T16:45:48.129Z"
   },
   {
    "duration": 103,
    "start_time": "2021-10-09T16:45:48.246Z"
   },
   {
    "duration": 3859,
    "start_time": "2021-10-09T16:45:48.351Z"
   },
   {
    "duration": -787,
    "start_time": "2021-10-09T16:45:53.000Z"
   },
   {
    "duration": -812,
    "start_time": "2021-10-09T16:45:53.026Z"
   },
   {
    "duration": -838,
    "start_time": "2021-10-09T16:45:53.053Z"
   },
   {
    "duration": -845,
    "start_time": "2021-10-09T16:45:53.062Z"
   },
   {
    "duration": -850,
    "start_time": "2021-10-09T16:45:53.068Z"
   },
   {
    "duration": -855,
    "start_time": "2021-10-09T16:45:53.075Z"
   },
   {
    "duration": 3439,
    "start_time": "2021-10-09T16:47:22.469Z"
   },
   {
    "duration": 3656,
    "start_time": "2021-10-09T16:51:08.657Z"
   },
   {
    "duration": 3480,
    "start_time": "2021-10-09T16:52:28.146Z"
   },
   {
    "duration": 3419,
    "start_time": "2021-10-09T17:05:11.656Z"
   },
   {
    "duration": 3480,
    "start_time": "2021-10-09T17:05:34.200Z"
   },
   {
    "duration": 3566,
    "start_time": "2021-10-09T17:06:08.136Z"
   },
   {
    "duration": 3845,
    "start_time": "2021-10-09T17:10:38.646Z"
   },
   {
    "duration": 3658,
    "start_time": "2021-10-09T17:14:18.293Z"
   },
   {
    "duration": 3932,
    "start_time": "2021-10-09T17:15:31.888Z"
   },
   {
    "duration": 3758,
    "start_time": "2021-10-09T17:21:52.437Z"
   },
   {
    "duration": 3773,
    "start_time": "2021-10-09T17:29:36.998Z"
   },
   {
    "duration": 3779,
    "start_time": "2021-10-09T17:31:35.994Z"
   },
   {
    "duration": 3749,
    "start_time": "2021-10-09T17:33:21.652Z"
   },
   {
    "duration": 117,
    "start_time": "2021-10-09T17:36:29.952Z"
   },
   {
    "duration": 160,
    "start_time": "2021-10-09T17:36:30.071Z"
   },
   {
    "duration": 33,
    "start_time": "2021-10-09T17:36:30.234Z"
   },
   {
    "duration": 102,
    "start_time": "2021-10-09T17:36:30.270Z"
   },
   {
    "duration": 110,
    "start_time": "2021-10-09T17:36:30.374Z"
   },
   {
    "duration": 3838,
    "start_time": "2021-10-09T17:36:30.486Z"
   },
   {
    "duration": -567,
    "start_time": "2021-10-09T17:36:34.894Z"
   },
   {
    "duration": -580,
    "start_time": "2021-10-09T17:36:34.909Z"
   },
   {
    "duration": -586,
    "start_time": "2021-10-09T17:36:34.916Z"
   },
   {
    "duration": -591,
    "start_time": "2021-10-09T17:36:34.923Z"
   },
   {
    "duration": -598,
    "start_time": "2021-10-09T17:36:34.931Z"
   },
   {
    "duration": -603,
    "start_time": "2021-10-09T17:36:34.937Z"
   },
   {
    "duration": 102,
    "start_time": "2021-10-09T17:40:01.983Z"
   },
   {
    "duration": 85,
    "start_time": "2021-10-09T17:41:27.284Z"
   },
   {
    "duration": 111,
    "start_time": "2021-10-09T17:42:22.151Z"
   },
   {
    "duration": 93,
    "start_time": "2021-10-09T17:42:53.591Z"
   },
   {
    "duration": 101,
    "start_time": "2021-10-09T17:51:44.450Z"
   },
   {
    "duration": 147,
    "start_time": "2021-10-09T17:51:44.568Z"
   },
   {
    "duration": 20,
    "start_time": "2021-10-09T17:51:44.718Z"
   },
   {
    "duration": 108,
    "start_time": "2021-10-09T17:51:44.740Z"
   },
   {
    "duration": 103,
    "start_time": "2021-10-09T17:51:44.850Z"
   },
   {
    "duration": 101,
    "start_time": "2021-10-09T17:51:44.968Z"
   },
   {
    "duration": -585,
    "start_time": "2021-10-09T17:51:45.656Z"
   },
   {
    "duration": -592,
    "start_time": "2021-10-09T17:51:45.665Z"
   },
   {
    "duration": -598,
    "start_time": "2021-10-09T17:51:45.672Z"
   },
   {
    "duration": -603,
    "start_time": "2021-10-09T17:51:45.679Z"
   },
   {
    "duration": -609,
    "start_time": "2021-10-09T17:51:45.686Z"
   },
   {
    "duration": -613,
    "start_time": "2021-10-09T17:51:45.691Z"
   },
   {
    "duration": 109,
    "start_time": "2021-10-09T17:52:27.731Z"
   },
   {
    "duration": 103,
    "start_time": "2021-10-09T17:53:21.936Z"
   },
   {
    "duration": 79,
    "start_time": "2021-10-09T17:53:51.382Z"
   },
   {
    "duration": 3799,
    "start_time": "2021-10-09T17:57:00.949Z"
   },
   {
    "duration": 106,
    "start_time": "2021-10-09T17:59:57.833Z"
   },
   {
    "duration": 154,
    "start_time": "2021-10-09T17:59:57.942Z"
   },
   {
    "duration": 22,
    "start_time": "2021-10-09T17:59:58.100Z"
   },
   {
    "duration": 117,
    "start_time": "2021-10-09T17:59:58.126Z"
   },
   {
    "duration": 132,
    "start_time": "2021-10-09T17:59:58.246Z"
   },
   {
    "duration": 3865,
    "start_time": "2021-10-09T17:59:58.381Z"
   },
   {
    "duration": -560,
    "start_time": "2021-10-09T18:00:02.808Z"
   },
   {
    "duration": -579,
    "start_time": "2021-10-09T18:00:02.829Z"
   },
   {
    "duration": -585,
    "start_time": "2021-10-09T18:00:02.836Z"
   },
   {
    "duration": -592,
    "start_time": "2021-10-09T18:00:02.845Z"
   },
   {
    "duration": -598,
    "start_time": "2021-10-09T18:00:02.852Z"
   },
   {
    "duration": -605,
    "start_time": "2021-10-09T18:00:02.861Z"
   },
   {
    "duration": 3867,
    "start_time": "2021-10-09T18:00:27.683Z"
   },
   {
    "duration": 825,
    "start_time": "2021-10-09T18:01:09.024Z"
   },
   {
    "duration": 145,
    "start_time": "2021-10-09T18:01:09.852Z"
   },
   {
    "duration": 19,
    "start_time": "2021-10-09T18:01:10.000Z"
   },
   {
    "duration": 110,
    "start_time": "2021-10-09T18:01:10.021Z"
   },
   {
    "duration": 99,
    "start_time": "2021-10-09T18:01:10.133Z"
   },
   {
    "duration": 3643,
    "start_time": "2021-10-09T18:01:10.234Z"
   },
   {
    "duration": -560,
    "start_time": "2021-10-09T18:01:14.440Z"
   },
   {
    "duration": -570,
    "start_time": "2021-10-09T18:01:14.451Z"
   },
   {
    "duration": -583,
    "start_time": "2021-10-09T18:01:14.465Z"
   },
   {
    "duration": -589,
    "start_time": "2021-10-09T18:01:14.473Z"
   },
   {
    "duration": -599,
    "start_time": "2021-10-09T18:01:14.484Z"
   },
   {
    "duration": -607,
    "start_time": "2021-10-09T18:01:14.493Z"
   },
   {
    "duration": 3446,
    "start_time": "2021-10-09T18:01:46.021Z"
   },
   {
    "duration": 3487,
    "start_time": "2021-10-09T18:11:19.737Z"
   },
   {
    "duration": 95,
    "start_time": "2021-10-09T18:13:23.421Z"
   },
   {
    "duration": 3695,
    "start_time": "2021-10-09T18:13:40.436Z"
   },
   {
    "duration": 3640,
    "start_time": "2021-10-09T18:16:10.571Z"
   },
   {
    "duration": 1358,
    "start_time": "2021-10-09T18:17:47.214Z"
   },
   {
    "duration": 147,
    "start_time": "2021-10-09T18:17:48.575Z"
   },
   {
    "duration": 22,
    "start_time": "2021-10-09T18:17:48.726Z"
   },
   {
    "duration": 110,
    "start_time": "2021-10-09T18:17:48.768Z"
   },
   {
    "duration": 111,
    "start_time": "2021-10-09T18:17:48.882Z"
   },
   {
    "duration": 3702,
    "start_time": "2021-10-09T18:17:48.996Z"
   },
   {
    "duration": -602,
    "start_time": "2021-10-09T18:17:53.304Z"
   },
   {
    "duration": -615,
    "start_time": "2021-10-09T18:17:53.318Z"
   },
   {
    "duration": -621,
    "start_time": "2021-10-09T18:17:53.326Z"
   },
   {
    "duration": -626,
    "start_time": "2021-10-09T18:17:53.333Z"
   },
   {
    "duration": -632,
    "start_time": "2021-10-09T18:17:53.340Z"
   },
   {
    "duration": -638,
    "start_time": "2021-10-09T18:17:53.348Z"
   },
   {
    "duration": 3455,
    "start_time": "2021-10-09T18:22:08.412Z"
   },
   {
    "duration": 3763,
    "start_time": "2021-10-09T18:23:32.306Z"
   },
   {
    "duration": 3552,
    "start_time": "2021-10-09T18:24:01.152Z"
   },
   {
    "duration": 3475,
    "start_time": "2021-10-09T18:24:25.763Z"
   },
   {
    "duration": 839,
    "start_time": "2021-10-09T18:27:03.215Z"
   },
   {
    "duration": 146,
    "start_time": "2021-10-09T18:27:04.057Z"
   },
   {
    "duration": 20,
    "start_time": "2021-10-09T18:27:04.206Z"
   },
   {
    "duration": 112,
    "start_time": "2021-10-09T18:27:04.228Z"
   },
   {
    "duration": 98,
    "start_time": "2021-10-09T18:27:04.342Z"
   },
   {
    "duration": 3384,
    "start_time": "2021-10-09T18:27:04.442Z"
   },
   {
    "duration": 56,
    "start_time": "2021-10-09T18:27:07.829Z"
   },
   {
    "duration": 149,
    "start_time": "2021-10-09T18:27:07.889Z"
   },
   {
    "duration": 11,
    "start_time": "2021-10-09T18:27:08.041Z"
   },
   {
    "duration": 35,
    "start_time": "2021-10-09T18:27:08.068Z"
   },
   {
    "duration": 11,
    "start_time": "2021-10-09T18:27:08.106Z"
   },
   {
    "duration": 55,
    "start_time": "2021-10-09T18:27:08.120Z"
   },
   {
    "duration": 843,
    "start_time": "2021-10-09T18:36:33.377Z"
   },
   {
    "duration": 141,
    "start_time": "2021-10-09T18:36:34.222Z"
   },
   {
    "duration": 19,
    "start_time": "2021-10-09T18:36:34.368Z"
   },
   {
    "duration": 113,
    "start_time": "2021-10-09T18:36:34.390Z"
   },
   {
    "duration": 116,
    "start_time": "2021-10-09T18:36:34.507Z"
   },
   {
    "duration": 3453,
    "start_time": "2021-10-09T18:36:34.626Z"
   },
   {
    "duration": 51,
    "start_time": "2021-10-09T18:36:38.082Z"
   },
   {
    "duration": 166,
    "start_time": "2021-10-09T18:36:38.138Z"
   },
   {
    "duration": 11,
    "start_time": "2021-10-09T18:36:38.307Z"
   },
   {
    "duration": 66,
    "start_time": "2021-10-09T18:36:38.321Z"
   },
   {
    "duration": 11,
    "start_time": "2021-10-09T18:36:38.391Z"
   },
   {
    "duration": 17,
    "start_time": "2021-10-09T18:36:38.405Z"
   },
   {
    "duration": 12,
    "start_time": "2021-10-09T18:39:43.720Z"
   },
   {
    "duration": 96,
    "start_time": "2021-10-09T18:39:56.114Z"
   },
   {
    "duration": 147,
    "start_time": "2021-10-09T18:39:56.213Z"
   },
   {
    "duration": 19,
    "start_time": "2021-10-09T18:39:56.368Z"
   },
   {
    "duration": 109,
    "start_time": "2021-10-09T18:39:56.390Z"
   },
   {
    "duration": 102,
    "start_time": "2021-10-09T18:39:56.501Z"
   },
   {
    "duration": 3529,
    "start_time": "2021-10-09T18:39:56.606Z"
   },
   {
    "duration": 60,
    "start_time": "2021-10-09T18:40:00.138Z"
   },
   {
    "duration": 147,
    "start_time": "2021-10-09T18:40:00.202Z"
   },
   {
    "duration": 25,
    "start_time": "2021-10-09T18:40:00.352Z"
   },
   {
    "duration": 41,
    "start_time": "2021-10-09T18:40:00.380Z"
   },
   {
    "duration": 10,
    "start_time": "2021-10-09T18:40:00.424Z"
   },
   {
    "duration": 37,
    "start_time": "2021-10-09T18:40:00.437Z"
   },
   {
    "duration": 11,
    "start_time": "2021-10-09T18:40:58.078Z"
   },
   {
    "duration": 814,
    "start_time": "2021-10-09T19:00:53.589Z"
   },
   {
    "duration": 139,
    "start_time": "2021-10-09T19:00:54.406Z"
   },
   {
    "duration": 32,
    "start_time": "2021-10-09T19:00:54.549Z"
   },
   {
    "duration": 102,
    "start_time": "2021-10-09T19:00:54.584Z"
   },
   {
    "duration": 105,
    "start_time": "2021-10-09T19:00:54.689Z"
   },
   {
    "duration": 3470,
    "start_time": "2021-10-09T19:00:54.797Z"
   },
   {
    "duration": 47,
    "start_time": "2021-10-09T19:00:58.269Z"
   },
   {
    "duration": 138,
    "start_time": "2021-10-09T19:00:58.319Z"
   },
   {
    "duration": 97,
    "start_time": "2021-10-09T19:00:58.468Z"
   },
   {
    "duration": -560,
    "start_time": "2021-10-09T19:00:59.128Z"
   },
   {
    "duration": -592,
    "start_time": "2021-10-09T19:00:59.161Z"
   },
   {
    "duration": -609,
    "start_time": "2021-10-09T19:00:59.180Z"
   },
   {
    "duration": -615,
    "start_time": "2021-10-09T19:00:59.187Z"
   },
   {
    "duration": 1579,
    "start_time": "2021-10-09T19:09:04.604Z"
   },
   {
    "duration": 979,
    "start_time": "2021-10-09T19:10:36.084Z"
   },
   {
    "duration": 150,
    "start_time": "2021-10-09T19:10:37.067Z"
   },
   {
    "duration": 20,
    "start_time": "2021-10-09T19:10:37.220Z"
   },
   {
    "duration": 130,
    "start_time": "2021-10-09T19:10:37.243Z"
   },
   {
    "duration": 118,
    "start_time": "2021-10-09T19:10:37.376Z"
   },
   {
    "duration": 3864,
    "start_time": "2021-10-09T19:10:37.496Z"
   },
   {
    "duration": 48,
    "start_time": "2021-10-09T19:10:41.367Z"
   },
   {
    "duration": 8854,
    "start_time": "2021-10-09T19:10:41.419Z"
   },
   {
    "duration": -655,
    "start_time": "2021-10-09T19:10:50.931Z"
   },
   {
    "duration": -667,
    "start_time": "2021-10-09T19:10:50.944Z"
   },
   {
    "duration": -672,
    "start_time": "2021-10-09T19:10:50.950Z"
   },
   {
    "duration": -677,
    "start_time": "2021-10-09T19:10:50.957Z"
   },
   {
    "duration": -683,
    "start_time": "2021-10-09T19:10:50.964Z"
   },
   {
    "duration": 104,
    "start_time": "2021-10-09T19:21:13.428Z"
   },
   {
    "duration": 7664,
    "start_time": "2021-10-09T19:21:42.147Z"
   },
   {
    "duration": 57032,
    "start_time": "2021-10-09T19:23:00.278Z"
   },
   {
    "duration": 92,
    "start_time": "2021-10-09T19:29:23.307Z"
   },
   {
    "duration": 154,
    "start_time": "2021-10-09T19:29:23.402Z"
   },
   {
    "duration": 26,
    "start_time": "2021-10-09T19:29:23.559Z"
   },
   {
    "duration": 105,
    "start_time": "2021-10-09T19:29:23.587Z"
   },
   {
    "duration": 112,
    "start_time": "2021-10-09T19:29:23.695Z"
   },
   {
    "duration": 3536,
    "start_time": "2021-10-09T19:29:23.809Z"
   },
   {
    "duration": 61,
    "start_time": "2021-10-09T19:29:27.348Z"
   },
   {
    "duration": 831,
    "start_time": "2021-10-09T19:30:23.010Z"
   },
   {
    "duration": 150,
    "start_time": "2021-10-09T19:30:23.844Z"
   },
   {
    "duration": 19,
    "start_time": "2021-10-09T19:30:23.997Z"
   },
   {
    "duration": 109,
    "start_time": "2021-10-09T19:30:24.019Z"
   },
   {
    "duration": 101,
    "start_time": "2021-10-09T19:30:24.130Z"
   },
   {
    "duration": 3365,
    "start_time": "2021-10-09T19:30:24.233Z"
   },
   {
    "duration": 47,
    "start_time": "2021-10-09T19:30:27.600Z"
   },
   {
    "duration": 65736,
    "start_time": "2021-10-09T19:33:52.144Z"
   },
   {
    "duration": 802,
    "start_time": "2021-10-09T19:35:36.616Z"
   },
   {
    "duration": 138,
    "start_time": "2021-10-09T19:35:37.421Z"
   },
   {
    "duration": 19,
    "start_time": "2021-10-09T19:35:37.568Z"
   },
   {
    "duration": 109,
    "start_time": "2021-10-09T19:35:37.590Z"
   },
   {
    "duration": 107,
    "start_time": "2021-10-09T19:35:37.701Z"
   },
   {
    "duration": 3357,
    "start_time": "2021-10-09T19:35:37.810Z"
   },
   {
    "duration": 44,
    "start_time": "2021-10-09T19:35:41.170Z"
   },
   {
    "duration": 65874,
    "start_time": "2021-10-09T19:35:41.217Z"
   },
   {
    "duration": 99,
    "start_time": "2021-10-09T19:36:47.094Z"
   },
   {
    "duration": 10,
    "start_time": "2021-10-09T19:36:47.195Z"
   },
   {
    "duration": 29,
    "start_time": "2021-10-09T19:36:47.208Z"
   },
   {
    "duration": 36,
    "start_time": "2021-10-09T19:36:47.240Z"
   },
   {
    "duration": 15,
    "start_time": "2021-10-09T19:36:47.278Z"
   },
   {
    "duration": 872,
    "start_time": "2021-10-09T19:37:07.233Z"
   },
   {
    "duration": 143,
    "start_time": "2021-10-09T19:37:08.108Z"
   },
   {
    "duration": 29,
    "start_time": "2021-10-09T19:37:08.254Z"
   },
   {
    "duration": 108,
    "start_time": "2021-10-09T19:37:08.286Z"
   },
   {
    "duration": 105,
    "start_time": "2021-10-09T19:37:08.397Z"
   },
   {
    "duration": 3396,
    "start_time": "2021-10-09T19:37:08.505Z"
   },
   {
    "duration": 63,
    "start_time": "2021-10-09T19:37:11.904Z"
   },
   {
    "duration": 67016,
    "start_time": "2021-10-09T19:37:11.971Z"
   },
   {
    "duration": 91,
    "start_time": "2021-10-09T19:38:18.989Z"
   },
   {
    "duration": 11,
    "start_time": "2021-10-09T19:38:19.082Z"
   },
   {
    "duration": 32,
    "start_time": "2021-10-09T19:38:19.095Z"
   },
   {
    "duration": 10,
    "start_time": "2021-10-09T19:38:19.130Z"
   },
   {
    "duration": 11,
    "start_time": "2021-10-09T19:38:19.168Z"
   },
   {
    "duration": 98,
    "start_time": "2021-10-09T19:39:21.675Z"
   },
   {
    "duration": 819,
    "start_time": "2021-10-09T19:44:23.903Z"
   },
   {
    "duration": 133,
    "start_time": "2021-10-09T19:44:24.725Z"
   },
   {
    "duration": 24,
    "start_time": "2021-10-09T19:44:24.861Z"
   },
   {
    "duration": 109,
    "start_time": "2021-10-09T19:44:24.888Z"
   },
   {
    "duration": 105,
    "start_time": "2021-10-09T19:44:24.999Z"
   },
   {
    "duration": 3354,
    "start_time": "2021-10-09T19:44:25.107Z"
   },
   {
    "duration": 43,
    "start_time": "2021-10-09T19:44:28.467Z"
   },
   {
    "duration": 66810,
    "start_time": "2021-10-09T19:44:28.514Z"
   },
   {
    "duration": 99,
    "start_time": "2021-10-09T19:45:35.328Z"
   },
   {
    "duration": 11,
    "start_time": "2021-10-09T19:45:35.430Z"
   },
   {
    "duration": 48,
    "start_time": "2021-10-09T19:45:35.444Z"
   },
   {
    "duration": 10,
    "start_time": "2021-10-09T19:45:35.495Z"
   },
   {
    "duration": 13,
    "start_time": "2021-10-09T19:45:35.508Z"
   },
   {
    "duration": 827,
    "start_time": "2021-10-09T19:55:32.214Z"
   },
   {
    "duration": 147,
    "start_time": "2021-10-09T19:55:33.045Z"
   },
   {
    "duration": 18,
    "start_time": "2021-10-09T19:55:33.195Z"
   },
   {
    "duration": 110,
    "start_time": "2021-10-09T19:55:33.216Z"
   },
   {
    "duration": 116,
    "start_time": "2021-10-09T19:55:33.328Z"
   },
   {
    "duration": 3441,
    "start_time": "2021-10-09T19:55:33.447Z"
   },
   {
    "duration": 46,
    "start_time": "2021-10-09T19:55:36.890Z"
   },
   {
    "duration": 65707,
    "start_time": "2021-10-09T19:55:36.939Z"
   },
   {
    "duration": 95,
    "start_time": "2021-10-09T19:56:42.649Z"
   },
   {
    "duration": 26,
    "start_time": "2021-10-09T19:56:42.746Z"
   },
   {
    "duration": 32,
    "start_time": "2021-10-09T19:56:42.775Z"
   },
   {
    "duration": 11,
    "start_time": "2021-10-09T19:56:42.809Z"
   },
   {
    "duration": 49,
    "start_time": "2021-10-09T19:56:42.822Z"
   },
   {
    "duration": 873,
    "start_time": "2021-10-09T20:15:53.353Z"
   },
   {
    "duration": 94,
    "start_time": "2021-10-09T20:15:54.229Z"
   },
   {
    "duration": -1567,
    "start_time": "2021-10-09T20:15:55.893Z"
   },
   {
    "duration": -1639,
    "start_time": "2021-10-09T20:15:55.966Z"
   },
   {
    "duration": -1668,
    "start_time": "2021-10-09T20:15:55.997Z"
   },
   {
    "duration": -1699,
    "start_time": "2021-10-09T20:15:56.029Z"
   },
   {
    "duration": -1705,
    "start_time": "2021-10-09T20:15:56.037Z"
   },
   {
    "duration": -1717,
    "start_time": "2021-10-09T20:15:56.050Z"
   },
   {
    "duration": -1728,
    "start_time": "2021-10-09T20:15:56.063Z"
   },
   {
    "duration": -1755,
    "start_time": "2021-10-09T20:15:56.091Z"
   },
   {
    "duration": -1790,
    "start_time": "2021-10-09T20:15:56.128Z"
   },
   {
    "duration": 366,
    "start_time": "2021-10-09T20:15:54.528Z"
   },
   {
    "duration": -1263,
    "start_time": "2021-10-09T20:15:56.160Z"
   },
   {
    "duration": -1278,
    "start_time": "2021-10-09T20:15:56.176Z"
   },
   {
    "duration": 329,
    "start_time": "2021-10-09T20:17:36.677Z"
   },
   {
    "duration": 868,
    "start_time": "2021-10-09T20:18:37.548Z"
   },
   {
    "duration": 105,
    "start_time": "2021-10-09T20:18:38.419Z"
   },
   {
    "duration": -695,
    "start_time": "2021-10-09T20:18:39.222Z"
   },
   {
    "duration": -705,
    "start_time": "2021-10-09T20:18:39.233Z"
   },
   {
    "duration": -712,
    "start_time": "2021-10-09T20:18:39.242Z"
   },
   {
    "duration": -720,
    "start_time": "2021-10-09T20:18:39.251Z"
   },
   {
    "duration": -729,
    "start_time": "2021-10-09T20:18:39.261Z"
   },
   {
    "duration": -736,
    "start_time": "2021-10-09T20:18:39.270Z"
   },
   {
    "duration": -744,
    "start_time": "2021-10-09T20:18:39.279Z"
   },
   {
    "duration": -751,
    "start_time": "2021-10-09T20:18:39.287Z"
   },
   {
    "duration": -758,
    "start_time": "2021-10-09T20:18:39.296Z"
   },
   {
    "duration": -797,
    "start_time": "2021-10-09T20:18:39.336Z"
   },
   {
    "duration": -814,
    "start_time": "2021-10-09T20:18:39.354Z"
   },
   {
    "duration": -822,
    "start_time": "2021-10-09T20:18:39.363Z"
   },
   {
    "duration": 135,
    "start_time": "2021-10-09T20:21:58.807Z"
   },
   {
    "duration": 96,
    "start_time": "2021-10-09T20:21:58.945Z"
   },
   {
    "duration": -331104,
    "start_time": "2021-10-09T20:27:30.149Z"
   },
   {
    "duration": -331118,
    "start_time": "2021-10-09T20:27:30.165Z"
   },
   {
    "duration": -331125,
    "start_time": "2021-10-09T20:27:30.174Z"
   },
   {
    "duration": -331137,
    "start_time": "2021-10-09T20:27:30.188Z"
   },
   {
    "duration": -331146,
    "start_time": "2021-10-09T20:27:30.198Z"
   },
   {
    "duration": -331153,
    "start_time": "2021-10-09T20:27:30.207Z"
   },
   {
    "duration": -331160,
    "start_time": "2021-10-09T20:27:30.216Z"
   },
   {
    "duration": -331169,
    "start_time": "2021-10-09T20:27:30.227Z"
   },
   {
    "duration": -331191,
    "start_time": "2021-10-09T20:27:30.251Z"
   },
   {
    "duration": -331200,
    "start_time": "2021-10-09T20:27:30.262Z"
   },
   {
    "duration": -331207,
    "start_time": "2021-10-09T20:27:30.271Z"
   },
   {
    "duration": -331216,
    "start_time": "2021-10-09T20:27:30.282Z"
   },
   {
    "duration": 3822,
    "start_time": "2021-10-09T20:30:19.456Z"
   },
   {
    "duration": 44,
    "start_time": "2021-10-09T20:30:39.741Z"
   },
   {
    "duration": 591,
    "start_time": "2021-10-10T05:55:54.832Z"
   },
   {
    "duration": 46,
    "start_time": "2021-10-10T05:56:01.175Z"
   },
   {
    "duration": 51,
    "start_time": "2021-10-10T05:57:46.297Z"
   },
   {
    "duration": 85,
    "start_time": "2021-10-10T05:58:03.525Z"
   },
   {
    "duration": 16,
    "start_time": "2021-10-10T05:58:05.020Z"
   },
   {
    "duration": 56,
    "start_time": "2021-10-10T05:58:07.299Z"
   },
   {
    "duration": 56,
    "start_time": "2021-10-10T05:58:08.023Z"
   },
   {
    "duration": 51,
    "start_time": "2021-10-10T05:58:18.647Z"
   },
   {
    "duration": 2532,
    "start_time": "2021-10-10T05:58:34.260Z"
   },
   {
    "duration": 31,
    "start_time": "2021-10-10T06:01:39.752Z"
   },
   {
    "duration": 41380,
    "start_time": "2021-10-10T06:01:42.149Z"
   },
   {
    "duration": 70,
    "start_time": "2021-10-10T06:02:23.531Z"
   },
   {
    "duration": 29,
    "start_time": "2021-10-10T06:03:19.952Z"
   },
   {
    "duration": 8,
    "start_time": "2021-10-10T06:03:39.168Z"
   },
   {
    "duration": 10,
    "start_time": "2021-10-10T06:03:41.175Z"
   },
   {
    "duration": 11,
    "start_time": "2021-10-10T06:22:19.242Z"
   },
   {
    "duration": 10,
    "start_time": "2021-10-10T06:23:10.827Z"
   },
   {
    "duration": 690,
    "start_time": "2021-10-10T13:11:56.630Z"
   },
   {
    "duration": 91,
    "start_time": "2021-10-10T13:11:57.322Z"
   },
   {
    "duration": 14,
    "start_time": "2021-10-10T13:11:57.415Z"
   },
   {
    "duration": 72,
    "start_time": "2021-10-10T13:11:57.430Z"
   },
   {
    "duration": 80,
    "start_time": "2021-10-10T13:11:57.503Z"
   },
   {
    "duration": 2507,
    "start_time": "2021-10-10T13:11:57.584Z"
   },
   {
    "duration": 39,
    "start_time": "2021-10-10T13:12:00.092Z"
   },
   {
    "duration": 42800,
    "start_time": "2021-10-10T13:12:00.134Z"
   },
   {
    "duration": 65,
    "start_time": "2021-10-10T13:12:42.936Z"
   },
   {
    "duration": 8,
    "start_time": "2021-10-10T13:12:43.002Z"
   },
   {
    "duration": 29,
    "start_time": "2021-10-10T13:12:43.011Z"
   },
   {
    "duration": 43,
    "start_time": "2021-10-10T13:12:43.041Z"
   },
   {
    "duration": 21,
    "start_time": "2021-10-10T13:12:43.086Z"
   },
   {
    "duration": 19,
    "start_time": "2021-10-10T13:12:43.109Z"
   },
   {
    "duration": 13,
    "start_time": "2021-10-10T13:27:53.765Z"
   },
   {
    "duration": 10,
    "start_time": "2021-10-10T13:28:22.300Z"
   },
   {
    "duration": 15,
    "start_time": "2021-10-10T13:38:42.057Z"
   },
   {
    "duration": 272,
    "start_time": "2021-10-10T13:38:55.543Z"
   },
   {
    "duration": 21,
    "start_time": "2021-10-10T13:39:10.953Z"
   },
   {
    "duration": 19,
    "start_time": "2021-10-10T13:39:24.399Z"
   },
   {
    "duration": 67,
    "start_time": "2021-10-10T13:43:55.012Z"
   },
   {
    "duration": 68,
    "start_time": "2021-10-10T13:44:23.152Z"
   },
   {
    "duration": 76,
    "start_time": "2021-10-10T13:45:18.731Z"
   },
   {
    "duration": 628,
    "start_time": "2021-10-10T13:45:34.705Z"
   },
   {
    "duration": 88,
    "start_time": "2021-10-10T13:45:35.335Z"
   },
   {
    "duration": 26,
    "start_time": "2021-10-10T13:45:35.426Z"
   },
   {
    "duration": 60,
    "start_time": "2021-10-10T13:45:35.455Z"
   },
   {
    "duration": 86,
    "start_time": "2021-10-10T13:45:35.517Z"
   },
   {
    "duration": 2644,
    "start_time": "2021-10-10T13:45:35.605Z"
   },
   {
    "duration": 41,
    "start_time": "2021-10-10T13:45:38.251Z"
   },
   {
    "duration": 43434,
    "start_time": "2021-10-10T13:45:38.294Z"
   },
   {
    "duration": 69,
    "start_time": "2021-10-10T13:46:21.731Z"
   },
   {
    "duration": -2049,
    "start_time": "2021-10-10T13:46:23.851Z"
   },
   {
    "duration": -2056,
    "start_time": "2021-10-10T13:46:23.860Z"
   },
   {
    "duration": -2062,
    "start_time": "2021-10-10T13:46:23.868Z"
   },
   {
    "duration": -2070,
    "start_time": "2021-10-10T13:46:23.877Z"
   },
   {
    "duration": -2075,
    "start_time": "2021-10-10T13:46:23.884Z"
   },
   {
    "duration": -2084,
    "start_time": "2021-10-10T13:46:23.894Z"
   },
   {
    "duration": 78,
    "start_time": "2021-10-10T13:52:46.393Z"
   },
   {
    "duration": 111,
    "start_time": "2021-10-10T13:52:46.474Z"
   },
   {
    "duration": 13,
    "start_time": "2021-10-10T13:52:46.587Z"
   },
   {
    "duration": 80,
    "start_time": "2021-10-10T13:52:46.602Z"
   },
   {
    "duration": 85,
    "start_time": "2021-10-10T13:52:46.683Z"
   },
   {
    "duration": 2651,
    "start_time": "2021-10-10T13:52:46.769Z"
   },
   {
    "duration": 43,
    "start_time": "2021-10-10T13:52:49.423Z"
   },
   {
    "duration": 43787,
    "start_time": "2021-10-10T13:52:49.468Z"
   },
   {
    "duration": 1011,
    "start_time": "2021-10-10T13:53:33.258Z"
   },
   {
    "duration": -2094,
    "start_time": "2021-10-10T13:53:36.365Z"
   },
   {
    "duration": -2102,
    "start_time": "2021-10-10T13:53:36.374Z"
   },
   {
    "duration": -2110,
    "start_time": "2021-10-10T13:53:36.383Z"
   },
   {
    "duration": -2118,
    "start_time": "2021-10-10T13:53:36.392Z"
   },
   {
    "duration": -2123,
    "start_time": "2021-10-10T13:53:36.399Z"
   },
   {
    "duration": -2129,
    "start_time": "2021-10-10T13:53:36.406Z"
   },
   {
    "duration": 12,
    "start_time": "2021-10-10T13:55:27.501Z"
   },
   {
    "duration": 678,
    "start_time": "2021-10-10T13:57:27.614Z"
   },
   {
    "duration": 103,
    "start_time": "2021-10-10T13:57:28.294Z"
   },
   {
    "duration": 14,
    "start_time": "2021-10-10T13:57:28.399Z"
   },
   {
    "duration": 78,
    "start_time": "2021-10-10T13:57:28.414Z"
   },
   {
    "duration": 75,
    "start_time": "2021-10-10T13:57:28.493Z"
   },
   {
    "duration": 2565,
    "start_time": "2021-10-10T13:57:28.570Z"
   },
   {
    "duration": 46,
    "start_time": "2021-10-10T13:57:31.138Z"
   },
   {
    "duration": 43035,
    "start_time": "2021-10-10T13:57:31.187Z"
   },
   {
    "duration": 12,
    "start_time": "2021-10-10T13:58:14.225Z"
   },
   {
    "duration": 68,
    "start_time": "2021-10-10T13:58:14.249Z"
   },
   {
    "duration": 7,
    "start_time": "2021-10-10T13:58:14.318Z"
   },
   {
    "duration": 27,
    "start_time": "2021-10-10T13:58:14.326Z"
   },
   {
    "duration": 21,
    "start_time": "2021-10-10T13:58:14.355Z"
   },
   {
    "duration": 7,
    "start_time": "2021-10-10T13:58:14.378Z"
   },
   {
    "duration": 8,
    "start_time": "2021-10-10T13:58:14.387Z"
   },
   {
    "duration": 14,
    "start_time": "2021-10-10T14:03:23.637Z"
   },
   {
    "duration": 74,
    "start_time": "2021-10-10T14:03:53.655Z"
   },
   {
    "duration": 94,
    "start_time": "2021-10-10T14:03:53.732Z"
   },
   {
    "duration": 32,
    "start_time": "2021-10-10T14:03:53.828Z"
   },
   {
    "duration": 56,
    "start_time": "2021-10-10T14:03:53.862Z"
   },
   {
    "duration": 93,
    "start_time": "2021-10-10T14:03:53.920Z"
   },
   {
    "duration": 2647,
    "start_time": "2021-10-10T14:03:54.014Z"
   },
   {
    "duration": 33,
    "start_time": "2021-10-10T14:03:56.663Z"
   },
   {
    "duration": 43224,
    "start_time": "2021-10-10T14:03:56.699Z"
   },
   {
    "duration": 12,
    "start_time": "2021-10-10T14:04:39.925Z"
   },
   {
    "duration": 63,
    "start_time": "2021-10-10T14:04:39.950Z"
   },
   {
    "duration": 7,
    "start_time": "2021-10-10T14:04:40.016Z"
   },
   {
    "duration": 32,
    "start_time": "2021-10-10T14:04:40.024Z"
   },
   {
    "duration": 31,
    "start_time": "2021-10-10T14:04:40.058Z"
   },
   {
    "duration": 7,
    "start_time": "2021-10-10T14:04:40.092Z"
   },
   {
    "duration": 13,
    "start_time": "2021-10-10T14:04:40.101Z"
   },
   {
    "duration": 50,
    "start_time": "2021-10-10T14:06:19.265Z"
   },
   {
    "duration": 76,
    "start_time": "2021-10-10T14:16:49.946Z"
   },
   {
    "duration": 94,
    "start_time": "2021-10-10T14:16:50.024Z"
   },
   {
    "duration": 14,
    "start_time": "2021-10-10T14:16:50.120Z"
   },
   {
    "duration": 69,
    "start_time": "2021-10-10T14:16:50.136Z"
   },
   {
    "duration": 88,
    "start_time": "2021-10-10T14:16:50.207Z"
   },
   {
    "duration": 2578,
    "start_time": "2021-10-10T14:16:50.297Z"
   },
   {
    "duration": 33,
    "start_time": "2021-10-10T14:16:52.877Z"
   },
   {
    "duration": 43592,
    "start_time": "2021-10-10T14:16:52.912Z"
   },
   {
    "duration": 14,
    "start_time": "2021-10-10T14:17:36.506Z"
   },
   {
    "duration": 80,
    "start_time": "2021-10-10T14:17:36.523Z"
   },
   {
    "duration": 10,
    "start_time": "2021-10-10T14:17:36.605Z"
   },
   {
    "duration": 11,
    "start_time": "2021-10-10T14:17:36.617Z"
   },
   {
    "duration": 40,
    "start_time": "2021-10-10T14:17:36.630Z"
   },
   {
    "duration": 7,
    "start_time": "2021-10-10T14:17:36.671Z"
   },
   {
    "duration": 10,
    "start_time": "2021-10-10T14:17:36.680Z"
   },
   {
    "duration": 82,
    "start_time": "2021-10-10T14:51:17.169Z"
   },
   {
    "duration": 117,
    "start_time": "2021-10-10T14:51:17.254Z"
   },
   {
    "duration": 15,
    "start_time": "2021-10-10T14:51:17.374Z"
   },
   {
    "duration": 80,
    "start_time": "2021-10-10T14:51:17.392Z"
   },
   {
    "duration": 91,
    "start_time": "2021-10-10T14:51:17.474Z"
   },
   {
    "duration": 2612,
    "start_time": "2021-10-10T14:51:17.567Z"
   },
   {
    "duration": 36,
    "start_time": "2021-10-10T14:51:20.182Z"
   },
   {
    "duration": 44157,
    "start_time": "2021-10-10T14:51:20.221Z"
   },
   {
    "duration": 14,
    "start_time": "2021-10-10T14:52:04.380Z"
   },
   {
    "duration": 86,
    "start_time": "2021-10-10T14:52:04.396Z"
   },
   {
    "duration": 11,
    "start_time": "2021-10-10T14:52:04.484Z"
   },
   {
    "duration": 11,
    "start_time": "2021-10-10T14:52:04.497Z"
   },
   {
    "duration": 56,
    "start_time": "2021-10-10T14:52:04.510Z"
   },
   {
    "duration": 8,
    "start_time": "2021-10-10T14:52:04.567Z"
   },
   {
    "duration": 11,
    "start_time": "2021-10-10T14:52:04.577Z"
   },
   {
    "duration": 32,
    "start_time": "2021-10-10T14:56:44.811Z"
   },
   {
    "duration": 32,
    "start_time": "2021-10-10T14:59:24.635Z"
   },
   {
    "duration": 67,
    "start_time": "2021-10-10T15:03:16.156Z"
   },
   {
    "duration": 33,
    "start_time": "2021-10-10T15:03:34.432Z"
   },
   {
    "duration": 15,
    "start_time": "2021-10-10T15:06:48.067Z"
   },
   {
    "duration": 11,
    "start_time": "2021-10-10T15:07:23.291Z"
   },
   {
    "duration": 876,
    "start_time": "2021-10-12T08:27:27.666Z"
   }
  ],
  "kernelspec": {
   "display_name": "Python 3",
   "language": "python",
   "name": "python3"
  },
  "language_info": {
   "codemirror_mode": {
    "name": "ipython",
    "version": 3
   },
   "file_extension": ".py",
   "mimetype": "text/x-python",
   "name": "python",
   "nbconvert_exporter": "python",
   "pygments_lexer": "ipython3",
   "version": "3.7.8"
  },
  "toc": {
   "base_numbering": 1,
   "nav_menu": {
    "height": "219px",
    "width": "502px"
   },
   "number_sections": true,
   "sideBar": true,
   "skip_h1_title": true,
   "title_cell": "Table of Contents",
   "title_sidebar": "Contents",
   "toc_cell": false,
   "toc_position": {
    "height": "calc(100% - 180px)",
    "left": "10px",
    "top": "150px",
    "width": "340px"
   },
   "toc_section_display": true,
   "toc_window_display": true
  }
 },
 "nbformat": 4,
 "nbformat_minor": 2
}
